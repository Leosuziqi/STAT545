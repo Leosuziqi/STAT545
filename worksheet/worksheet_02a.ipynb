{
 "cells": [
  {
   "cell_type": "markdown",
   "metadata": {
    "deletable": false,
    "editable": false,
    "nbgrader": {
     "cell_type": "markdown",
     "checksum": "49705c9c025fc4faa974bb373093d435",
     "grade": false,
     "grade_id": "cell-1eb22459a7e45546",
     "locked": true,
     "schema_version": 3,
     "solution": false,
     "task": false
    }
   },
   "source": [
    "# Lecture Worksheet 2: Data Wrangling I and ggplot2 I\n",
    "\n",
    "## Instructions + Grading\n",
    "\n",
    "+ To get full marks for each participation worksheet, you must successfully answer at least 40% of all autograded questions. In this worksheet, 40% is 11 questions.\n",
    "\n",
    "+ Autograded questions are easily identifiable through their labelling as **QUESTION**. Any other instructions that prompt the student to write code are activities, which are not graded and thus do not contribute to marks - but do contribute to the workflow of the worksheet!\n",
    "\n",
    "## Attributions\n",
    "\n",
    "Thanks to Icíar Fernández Boyano and Victor Yuan for making this worksheet. The following resources were used as inspiration in the creation of this worksheet:\n",
    "\n",
    "+ [Swirl R Programming Tutorial](https://swirlstats.com/scn/rprog.html)\n",
    "+ [Palmer Penguins R Package](https://github.com/hadley/palmerpenguins)\n",
    "+ [RD4S Data Transformation](https://r4ds.had.co.nz/transform.html)\n",
    "\n",
    "# Part A: Getting started with your data\n",
    "\n",
    "**Part A of this worksheet reviews the concepts learned in Class 4: Data Wrangling I.**\n",
    "\n",
    "What's the first thing that you should do when you're starting a project with a new dataset? Having a coffee is a reasonable answer, but before that, you should **look at the data**. This may sound obvious, but a common mistake is to dive into the analysis too early before being familiar with the data - only to have to go back to the start when something goes wrong and you can't quite figure out why. Some of the questions you may want to ask are:\n",
    "\n",
    "+ What is the format of the data?\n",
    "+ What are the dimensions?\n",
    "+ Are there missing data?\n",
    "\n",
    "In part A of this worksheet, you will learn how to answer these questions and more using dplyr.\n",
    "\n",
    "Load the `palmerpenguins`, `tidyverse`, `testthat`, and `digest` packages.\n",
    "    - This loads `dplyr`, too."
   ]
  },
  {
   "cell_type": "code",
   "execution_count": null,
   "metadata": {
    "deletable": false,
    "editable": false,
    "message": false,
    "name": "load packages",
    "nbgrader": {
     "cell_type": "code",
     "checksum": "2e7d466d02db9687481907651504a051",
     "grade": false,
     "grade_id": "cell-695291a493cfa66b",
     "locked": true,
     "schema_version": 3,
     "solution": false,
     "task": false
    },
    "warning": false
   },
   "outputs": [],
   "source": [
    "# load your packages here:\n",
    "suppressPackageStartupMessages(library(palmerpenguins))\n",
    "suppressPackageStartupMessages(library(tidyverse))\n",
    "suppressPackageStartupMessages(library(testthat))\n",
    "suppressPackageStartupMessages(library(digest))"
   ]
  },
  {
   "cell_type": "markdown",
   "metadata": {
    "deletable": false,
    "editable": false,
    "nbgrader": {
     "cell_type": "markdown",
     "checksum": "2a6730d7340d771385fef5e9be61f8d4",
     "grade": false,
     "grade_id": "cell-84babc43995821a2",
     "locked": true,
     "schema_version": 3,
     "solution": false,
     "task": false
    }
   },
   "source": [
    "[Palmer penguins](https://github.com/hadley/palmerpenguins) is an R data package created by Allison Horst. Data were collected and made available by Dr. Kristen Gorman and the Palmer Station, Antarctica LTER, a member of the Long Term Ecological Research Network. The dataset that we will be using is stored in a variable called \"penguins\". It is a subset of the \"penguins_raw\" dataset, also included in this R package. Let's have a look at it."
   ]
  },
  {
   "cell_type": "code",
   "execution_count": null,
   "metadata": {
    "deletable": false,
    "editable": false,
    "nbgrader": {
     "cell_type": "code",
     "checksum": "ca5ffa376958ccea3c3402f656ea24ff",
     "grade": false,
     "grade_id": "cell-83ef890605e2e7b3",
     "locked": true,
     "schema_version": 3,
     "solution": false,
     "task": false
    }
   },
   "outputs": [],
   "source": [
    "head(penguins)"
   ]
  },
  {
   "cell_type": "markdown",
   "metadata": {
    "deletable": false,
    "editable": false,
    "nbgrader": {
     "cell_type": "markdown",
     "checksum": "1e0f7e3cb8539919a3429511ff151d06",
     "grade": false,
     "grade_id": "cell-c9194fdc50710021",
     "locked": true,
     "schema_version": 3,
     "solution": false,
     "task": false
    }
   },
   "source": [
    "`head()` returns the first 6 rows of a dataframe, instead of printing all the data to screen.\n",
    "\n",
    "## What is the format of the data?\n",
    "\n",
    "Let's begin by checking the class of the **penguins** variable. This will give us a clue about the overall structure of the data."
   ]
  },
  {
   "cell_type": "code",
   "execution_count": null,
   "metadata": {
    "deletable": false,
    "editable": false,
    "nbgrader": {
     "cell_type": "code",
     "checksum": "8da56affc57412ea090f7d605acbefcb",
     "grade": false,
     "grade_id": "cell-48b2530804a909bf",
     "locked": true,
     "schema_version": 3,
     "solution": false,
     "task": false
    }
   },
   "outputs": [],
   "source": [
    "class(penguins)"
   ]
  },
  {
   "cell_type": "markdown",
   "metadata": {
    "deletable": false,
    "editable": false,
    "nbgrader": {
     "cell_type": "markdown",
     "checksum": "41d22407fc5c1ecbe52cc0268ee32db2",
     "grade": false,
     "grade_id": "cell-7808fbe04aa729dd",
     "locked": true,
     "schema_version": 3,
     "solution": false,
     "task": false
    }
   },
   "source": [
    "As you can see, the function returns 3 classes: \"tbl_df\", \"tbl\", and \"data.frame\". A dataframe is the default class for data read into R. Tibbles (\"tbl\" and \"tbl_df\") are a modern take on data frames, but slightly tweaked to work better in the tidyverse. For now, you don’t need to worry about the differences; we’ll come back to tibbles later. The dataset that we are working with was originally a data.frame that has been coerced into a tibble, which is why multiple class names are returned by the `class()` function.\n",
    "\n",
    "## What are the dimensions?\n",
    "\n",
    "There are two functions that we can use to see exactly how many rows (observations) and columns (variables) we're dealing with. `dim()` is the base R option, and `glimpse()` is the dplyr flavour, which gives us some more information besides the row and column number. Give both a try!"
   ]
  },
  {
   "cell_type": "code",
   "execution_count": null,
   "metadata": {
    "deletable": false,
    "editable": false,
    "nbgrader": {
     "cell_type": "code",
     "checksum": "607fd2bb968c9081a0a75eb52cfb15c7",
     "grade": false,
     "grade_id": "cell-2fbdffdd374117c8",
     "locked": true,
     "schema_version": 3,
     "solution": false,
     "task": false
    }
   },
   "outputs": [],
   "source": [
    "dim(penguins)\n",
    "glimpse(penguins)"
   ]
  },
  {
   "cell_type": "markdown",
   "metadata": {
    "deletable": false,
    "editable": false,
    "nbgrader": {
     "cell_type": "markdown",
     "checksum": "27a157f42a86739512b3cd6ca784878b",
     "grade": false,
     "grade_id": "cell-d404e821859fa65a",
     "locked": true,
     "schema_version": 3,
     "solution": false,
     "task": false
    }
   },
   "source": [
    "There are more functions that you can use to further explore the dimensions, such as `nrow()`, `ncol()`, `colnames()` or `rownames()`, but we won't be looking into those.\n",
    "\n",
    "**QUESTION 1.0**\n",
    "\n",
    "In the `dim()` function, what is the first number that you see?\n",
    "\n",
    "1: rows   \n",
    "2: columns\n",
    "\n",
    "Put your selection into a variable named `answer1.0`."
   ]
  },
  {
   "cell_type": "code",
   "execution_count": null,
   "metadata": {
    "deletable": false,
    "name": "question-1-0",
    "nbgrader": {
     "cell_type": "code",
     "checksum": "43b1c0bdce5a9212e16dff307fce8fbc",
     "grade": false,
     "grade_id": "cell-89d2909f9da03bb4",
     "locked": false,
     "schema_version": 3,
     "solution": true,
     "task": false
    }
   },
   "outputs": [],
   "source": [
    "# answer1.0 <- youranswer\n",
    "\n",
    "# your code here\n",
    "fail() # No Answer - remove if you provide an answer"
   ]
  },
  {
   "cell_type": "code",
   "execution_count": null,
   "metadata": {
    "deletable": false,
    "editable": false,
    "name": "test-1-0",
    "nbgrader": {
     "cell_type": "code",
     "checksum": "22430620771c6512bddb69c1c9ac79ae",
     "grade": true,
     "grade_id": "cell-22216823e505e5f1",
     "locked": true,
     "points": 1,
     "schema_version": 3,
     "solution": false,
     "task": false
    }
   },
   "outputs": [],
   "source": [
    "test_that(\"Question 1.0\", {\n",
    "    expect_equal(digest(as.numeric(answer1.0)), \"6717f2823d3202449301145073ab8719\")\n",
    "})\n",
    "cat(\"success!\")"
   ]
  },
  {
   "cell_type": "markdown",
   "metadata": {
    "deletable": false,
    "editable": false,
    "nbgrader": {
     "cell_type": "markdown",
     "checksum": "499df470d71255da7c3c4fd30130d0a0",
     "grade": false,
     "grade_id": "cell-c08276291e700867",
     "locked": true,
     "schema_version": 3,
     "solution": false,
     "task": false
    }
   },
   "source": [
    "## Exploring further: Five cornerstones of dplyr\n",
    "\n",
    "So far, we've **looked** at our dataset. It's time to **work with** it! Prior to creating any models, or using visualization to gain more insights about our data, it is common to tweak the data in some ways to make it a little easier to work with. For example, you may need to rename some variables, reorder observations, or even create some new variables from your existing ones!\n",
    "\n",
    "As explained in depth in the [R4DS Data Transformation chapter](https://r4ds.had.co.nz/transform.html), there are five key dplyr functions that allow you to solve the vast majority of data manipulation tasks:\n",
    "\n",
    "+ Pick variables by their names (`select()`)\n",
    "+ Pick observations by their values (`filter()`)\n",
    "+ Reorder the rows (`arrange()`)\n",
    "+ Create new variables with functions of existing variables (`mutate()`)\n",
    "+ Collapse many values down to a single summary (`summarise()`)\n",
    "\n",
    "### `select()` \n",
    "\n",
    "*A brief interlude on naming things:* Names are important. Jenny Bryan has some excellent [slides](https://speakerdeck.com/jennybc/how-to-name-files) for naming things in a way that is human readable *and* machine readable. Don't worry too much about it for this worksheet, but do keep it in mind as it helps with *reproducibility*. \n",
    "\n",
    "A quick tip that you can put into practice: you can use *Pascal case* - creating names by concatenating capitalized words, such as PenguinsSubset, or PenguinsTidy. If names get too long, remove vowels! For example, PngnSubset, or PngnTidy instead. Or, you can use snake_case!\n",
    "\n",
    "**QUESTION 1.1**\n",
    "\n",
    "In the next few questions, you will practice using the dplyr verb `select()` to pick and modify variables by their names. Make a data frame containing the columns `species`, `island`, `sex` from the penguins data, in that order.\n",
    "\n",
    "Assign your answer to a variable named `answer1.1`"
   ]
  },
  {
   "cell_type": "code",
   "execution_count": null,
   "metadata": {
    "deletable": false,
    "name": "question-1-1",
    "nbgrader": {
     "cell_type": "code",
     "checksum": "661599f72c33858f35e3920b8c2c779f",
     "grade": false,
     "grade_id": "cell-8a83be57e490be91",
     "locked": false,
     "schema_version": 3,
     "solution": true,
     "task": false
    }
   },
   "outputs": [],
   "source": [
    "# answer1.1 <- select(penguins, FILL_THIS_IN)\n",
    "\n",
    "# your code here\n",
    "fail() # No Answer - remove if you provide an answer"
   ]
  },
  {
   "cell_type": "code",
   "execution_count": null,
   "metadata": {
    "deletable": false,
    "editable": false,
    "lines_to_next_cell": 2,
    "name": "test-1-1",
    "nbgrader": {
     "cell_type": "code",
     "checksum": "24f07378e6e3ff58b049d1a2da563f4c",
     "grade": true,
     "grade_id": "cell-d77a573dc4a26343",
     "locked": true,
     "points": 1,
     "schema_version": 3,
     "solution": false,
     "task": false
    }
   },
   "outputs": [],
   "source": [
    "test_that(\"Question 1.1\", {\n",
    "    expect_equal(digest(as_tibble(answer1.1)), \"0df5cac5070ec518519a6f2781f4e01f\")\n",
    "})\n",
    "cat(\"success!\")"
   ]
  },
  {
   "cell_type": "markdown",
   "metadata": {
    "deletable": false,
    "editable": false,
    "nbgrader": {
     "cell_type": "markdown",
     "checksum": "aedb85afbe86a159f1dae15f6eca0c8e",
     "grade": false,
     "grade_id": "cell-4beb2aac482da4c3",
     "locked": true,
     "schema_version": 3,
     "solution": false,
     "task": false
    }
   },
   "source": [
    "**QUESTION 1.1a**\n",
    "\n",
    "Out of the following options, what would be the best name for the object that you just created above (currently stored in `answer1.1`)? Put your answer in a variable named `answer1.1a`.\n",
    "\n",
    "1: _penguin_subset   \n",
    "2: penguins   \n",
    "3: 2penguin   \n",
    "4: PngnSub   "
   ]
  },
  {
   "cell_type": "code",
   "execution_count": null,
   "metadata": {
    "deletable": false,
    "name": "question-1-1a",
    "nbgrader": {
     "cell_type": "code",
     "checksum": "b571fbdc8dcdd821bebaf2dcf1320a38",
     "grade": false,
     "grade_id": "cell-dcb6cda112457d98",
     "locked": false,
     "schema_version": 3,
     "solution": true,
     "task": false
    }
   },
   "outputs": [],
   "source": [
    "# answer1.1a <- youranswer\n",
    "\n",
    "# your code here\n",
    "fail() # No Answer - remove if you provide an answer"
   ]
  },
  {
   "cell_type": "code",
   "execution_count": null,
   "metadata": {
    "deletable": false,
    "editable": false,
    "name": "test-1-1a",
    "nbgrader": {
     "cell_type": "code",
     "checksum": "f4c7422d5d173a7359ee6667120861fa",
     "grade": true,
     "grade_id": "cell-92538bdd1bd40300",
     "locked": true,
     "points": 1,
     "schema_version": 3,
     "solution": false,
     "task": false
    }
   },
   "outputs": [],
   "source": [
    "test_that(\"Question 1.1a\", {\n",
    "    expect_equal(digest(as.numeric(answer1.1a)), \"dbc09cba9fe2583fb01d63c70e1555a8\")\n",
    "})\n",
    "cat(\"success!\")"
   ]
  },
  {
   "cell_type": "markdown",
   "metadata": {
    "deletable": false,
    "editable": false,
    "nbgrader": {
     "cell_type": "markdown",
     "checksum": "b8ffe4ac68cfa3c6e0dc0ec880738539",
     "grade": false,
     "grade_id": "cell-2e3273def66cbb67",
     "locked": true,
     "schema_version": 3,
     "solution": false,
     "task": false
    }
   },
   "source": [
    "**QUESTION 1.2**\n",
    "\n",
    "Select all variables, from `bill_length_mm` to `body_mass_g`. Of course, you could do it this way..."
   ]
  },
  {
   "cell_type": "code",
   "execution_count": null,
   "metadata": {
    "deletable": false,
    "editable": false,
    "nbgrader": {
     "cell_type": "code",
     "checksum": "92020782b46eca42fa78b0c1963da07e",
     "grade": false,
     "grade_id": "cell-5cb9e1971619fc8b",
     "locked": true,
     "schema_version": 3,
     "solution": false,
     "task": false
    }
   },
   "outputs": [],
   "source": [
    "# This will work:\n",
    "select(penguins, bill_length_mm, bill_depth_mm, flipper_length_mm, body_mass_g) %>% \n",
    "   print(n = 5)"
   ]
  },
  {
   "cell_type": "markdown",
   "metadata": {
    "deletable": false,
    "editable": false,
    "nbgrader": {
     "cell_type": "markdown",
     "checksum": "61b85c9ba15d44abab8d01057ec5d72f",
     "grade": false,
     "grade_id": "cell-f5b45d38c135b356",
     "locked": true,
     "schema_version": 3,
     "solution": false,
     "task": false
    }
   },
   "source": [
    "But there is a better way to do it! Which do you think would work?\n",
    "\n",
    "1: `select(penguins, body_mass_g:bill_length_mm)`   \n",
    "2: `select(penguins, c(body_mass_g::bill_length_mm))`   \n",
    "3: `select(penguins, bill_length_mm:body_mass_g)`   \n",
    "4: `select(penguins, bill_length_mm::body_mass_g)`\n",
    "\n",
    "Assign your answer to a variable called `answer1.2`\n"
   ]
  },
  {
   "cell_type": "code",
   "execution_count": null,
   "metadata": {
    "deletable": false,
    "name": "question-1-2",
    "nbgrader": {
     "cell_type": "code",
     "checksum": "3a48518f6f8864ffc3b1eb9715a17250",
     "grade": false,
     "grade_id": "cell-8b4a2b3bcfaa1afc",
     "locked": false,
     "schema_version": 3,
     "solution": true,
     "task": false
    }
   },
   "outputs": [],
   "source": [
    "# answer1.2 <- youranswer\n",
    "\n",
    "# your code here\n",
    "fail() # No Answer - remove if you provide an answer\n",
    "print(answer1.2)"
   ]
  },
  {
   "cell_type": "code",
   "execution_count": null,
   "metadata": {
    "deletable": false,
    "editable": false,
    "name": "test-1-2",
    "nbgrader": {
     "cell_type": "code",
     "checksum": "4867a312b0c837d225c584263f998d4c",
     "grade": true,
     "grade_id": "cell-c526ad124009a3f7",
     "locked": true,
     "points": 1,
     "schema_version": 3,
     "solution": false,
     "task": false
    }
   },
   "outputs": [],
   "source": [
    "test_that(\"Question 1.2\", {\n",
    "    expect_equal(digest(as.numeric(answer1.2)), \"e5b57f323c7b3719bbaaf9f96b260d39\")\n",
    "})\n",
    "cat(\"success!\")"
   ]
  },
  {
   "cell_type": "markdown",
   "metadata": {
    "deletable": false,
    "editable": false,
    "nbgrader": {
     "cell_type": "markdown",
     "checksum": "c32f0f48650883acf31a7a641d325cba",
     "grade": false,
     "grade_id": "cell-b6281ca333158c02",
     "locked": true,
     "schema_version": 3,
     "solution": false,
     "task": false
    }
   },
   "source": [
    "**QUESTION 1.3**\n",
    "\n",
    "You're doing a great job. Keep it up! Now, select all variables, except `island`. How would you write this code?\n",
    "\n",
    "1: `select(penguins, -c(\"island\"))`   \n",
    "2: `select(penguins, -island)`   \n",
    "3: `select(penguins, -(\"island\"))`   \n",
    "\n",
    "Put your answer in a variable named `answer1.3`"
   ]
  },
  {
   "cell_type": "code",
   "execution_count": null,
   "metadata": {
    "deletable": false,
    "name": "question-1-3",
    "nbgrader": {
     "cell_type": "code",
     "checksum": "e97b1c43e87c649038e9fe3b948a10f1",
     "grade": false,
     "grade_id": "cell-f245f071ce744359",
     "locked": false,
     "schema_version": 3,
     "solution": true,
     "task": false
    }
   },
   "outputs": [],
   "source": [
    "# answer1.3 <- youranswer\n",
    "\n",
    "# your code here\n",
    "fail() # No Answer - remove if you provide an answer"
   ]
  },
  {
   "cell_type": "code",
   "execution_count": null,
   "metadata": {
    "deletable": false,
    "editable": false,
    "name": "test-1-3",
    "nbgrader": {
     "cell_type": "code",
     "checksum": "bdd6405c7762d11bf904bdd93fc75b9b",
     "grade": true,
     "grade_id": "cell-a51b6f36744882c1",
     "locked": true,
     "points": 1,
     "schema_version": 3,
     "solution": false,
     "task": false
    }
   },
   "outputs": [],
   "source": [
    "test_that(\"Question 1.3\", {\n",
    "    expect_equal(digest(as.numeric(answer1.3)), \"db8e490a925a60e62212cefc7674ca02\")\n",
    "})\n",
    "cat(\"success!\")"
   ]
  },
  {
   "cell_type": "markdown",
   "metadata": {
    "deletable": false,
    "editable": false,
    "nbgrader": {
     "cell_type": "markdown",
     "checksum": "e7d6a51648343433ea3b7e8265f85ddd",
     "grade": false,
     "grade_id": "cell-f540c012496367f6",
     "locked": true,
     "schema_version": 3,
     "solution": false,
     "task": false
    }
   },
   "source": [
    "Your turn to write the code and see the output."
   ]
  },
  {
   "cell_type": "code",
   "execution_count": null,
   "metadata": {
    "deletable": false,
    "nbgrader": {
     "cell_type": "code",
     "checksum": "a9f67d9b404f8c5441fe902adc4047ff",
     "grade": false,
     "grade_id": "cell-806b886e2fc89d57",
     "locked": false,
     "schema_version": 3,
     "solution": true,
     "task": false
    }
   },
   "outputs": [],
   "source": [
    "# your code here\n",
    "fail() # No Answer - remove if you provide an answer"
   ]
  },
  {
   "cell_type": "markdown",
   "metadata": {
    "deletable": false,
    "editable": false,
    "nbgrader": {
     "cell_type": "markdown",
     "checksum": "9a625520b00963e170d2ada6c0eb4423",
     "grade": false,
     "grade_id": "cell-71e9d586a9716e39",
     "locked": true,
     "schema_version": 3,
     "solution": false,
     "task": false
    }
   },
   "source": [
    "**QUESTION 1.4**\n",
    "\n",
    "Output the `penguins` tibble so that `year` comes first. Hint: use the tidyselect `everything()` function."
   ]
  },
  {
   "cell_type": "code",
   "execution_count": null,
   "metadata": {
    "deletable": false,
    "name": "question-1-4",
    "nbgrader": {
     "cell_type": "code",
     "checksum": "761c5e70f6804cda226f21a4e9954e98",
     "grade": false,
     "grade_id": "cell-ab4e3c79b2c8ab2b",
     "locked": false,
     "schema_version": 3,
     "solution": true,
     "task": false
    }
   },
   "outputs": [],
   "source": [
    "# answer1.4 <- select(penguins, FILL_THIS_IN, FILL_THIS_IN)\n",
    "\n",
    "# your code here\n",
    "fail() # No Answer - remove if you provide an answer"
   ]
  },
  {
   "cell_type": "code",
   "execution_count": null,
   "metadata": {
    "deletable": false,
    "editable": false,
    "name": "test-1-4",
    "nbgrader": {
     "cell_type": "code",
     "checksum": "a631a5377a2272f5a2ffe5814149395a",
     "grade": true,
     "grade_id": "cell-0191ea7047f44d3c",
     "locked": true,
     "points": 1,
     "schema_version": 3,
     "solution": false,
     "task": false
    }
   },
   "outputs": [],
   "source": [
    "# test that there are 344 rows and 8 columns, which are in the following order: year, species, island, bill_length_mm, bill_depth_mm, bill_depth_mm, flipper_length_mm, body_mass_g, sex\n",
    "test_that(\"Question 1.4\", {\n",
    "    expect_equal(digest(dim(answer1.4)), \"d095e682a86f7f16404b7f8dd5f3d676\")\n",
    "    expect_equal(digest(answer1.4), \"a07a1cdcb64726866df3d525811a9bf6\")\n",
    "})\n",
    "cat(\"success!\")"
   ]
  },
  {
   "cell_type": "markdown",
   "metadata": {
    "deletable": false,
    "editable": false,
    "nbgrader": {
     "cell_type": "markdown",
     "checksum": "0b4c8533140c4373cde5e5bb6860c713",
     "grade": false,
     "grade_id": "cell-5ca019b951c06c27",
     "locked": true,
     "schema_version": 3,
     "solution": false,
     "task": false
    }
   },
   "source": [
    "**QUESTION 1.5**\n",
    "\n",
    "Rename `flipper_length_mm` to `length_flipper_mm`. Store the result in a variable named `answer1.5`"
   ]
  },
  {
   "cell_type": "code",
   "execution_count": null,
   "metadata": {
    "deletable": false,
    "name": "question-1-5",
    "nbgrader": {
     "cell_type": "code",
     "checksum": "9dec3af266ee183cb1f83679940fccf8",
     "grade": false,
     "grade_id": "cell-92e4880ebb7d27e5",
     "locked": false,
     "schema_version": 3,
     "solution": true,
     "task": false
    }
   },
   "outputs": [],
   "source": [
    "# answer1.5 <- rename(FILL_THIS_IN, FILL_THIS_IN)\n",
    "\n",
    "# your code here\n",
    "fail() # No Answer - remove if you provide an answer"
   ]
  },
  {
   "cell_type": "code",
   "execution_count": null,
   "metadata": {
    "deletable": false,
    "editable": false,
    "name": "test-1-5",
    "nbgrader": {
     "cell_type": "code",
     "checksum": "b663d1a8e10836e92499b15d24823cf8",
     "grade": true,
     "grade_id": "cell-7e940a5bc6938d87",
     "locked": true,
     "points": 1,
     "schema_version": 3,
     "solution": false,
     "task": false
    }
   },
   "outputs": [],
   "source": [
    "# check that there are 344 rows and 8 columns: year, species, island, bill_length_mm, bill_depth_mm, bill_depth_mm, length_flipper_mm, body_mass_g, sex\n",
    "test_that(\"Question 1.5\", {\n",
    "  expect_equal(digest(dim(answer1.5)), 'd095e682a86f7f16404b7f8dd5f3d676')\n",
    "  expect_equal(digest(names(answer1.5)), 'ef6a2aaa40de41c0b11ad2f6888d5ce6')\n",
    "})\n",
    "cat(\"success!\")"
   ]
  },
  {
   "cell_type": "markdown",
   "metadata": {
    "deletable": false,
    "editable": false,
    "nbgrader": {
     "cell_type": "markdown",
     "checksum": "c624057d3949666f084d3b0589dad667",
     "grade": false,
     "grade_id": "cell-63fcfb647325d7f5",
     "locked": true,
     "schema_version": 3,
     "solution": false,
     "task": false
    }
   },
   "source": [
    "### `filter()` \n",
    "\n",
    "So far, we've practiced picking variables by their name with `select()`. But how about picking observations? This is where `filter()` comes in.\n",
    "\n",
    "**QUESTION 1.6**\n",
    "\n",
    "Pick penguins with body mass greater than 3600 g. Store the resulting tibble in a variable named `answer1.6`"
   ]
  },
  {
   "cell_type": "code",
   "execution_count": null,
   "metadata": {
    "deletable": false,
    "name": "question-1-6",
    "nbgrader": {
     "cell_type": "code",
     "checksum": "6256e0ee3514bf1a48622893c68b1a6e",
     "grade": false,
     "grade_id": "cell-426cf55e35870df1",
     "locked": false,
     "schema_version": 3,
     "solution": true,
     "task": false
    }
   },
   "outputs": [],
   "source": [
    "# answer1.6 <- filter(FILL_THIS_IN, FILL_THIS_IN)\n",
    "\n",
    "# your code here\n",
    "fail() # No Answer - remove if you provide an answer"
   ]
  },
  {
   "cell_type": "code",
   "execution_count": null,
   "metadata": {
    "deletable": false,
    "editable": false,
    "name": "test-1-6",
    "nbgrader": {
     "cell_type": "code",
     "checksum": "8eacb391762937d9fefb41152ef93b9b",
     "grade": true,
     "grade_id": "cell-31eb0dad4d4e75a3",
     "locked": true,
     "points": 1,
     "schema_version": 3,
     "solution": false,
     "task": false
    }
   },
   "outputs": [],
   "source": [
    "# test for an object that is 245 rows by 8 columns and that there are no entries in the body_mass_g column that is <3600\n",
    "test_that(\"Question 1.6\", {\n",
    "  expect_equal(digest(dim(answer1.6)), '0f80c9cad929bf5de5ae34e0d50cb60d')\n",
    "  \n",
    "  # Is this ok?\n",
    "  expect_equal(sum(pull(answer1.6, body_mass_g) < 3600), 0)\n",
    "})\n",
    "cat(\"success!\")"
   ]
  },
  {
   "cell_type": "markdown",
   "metadata": {
    "deletable": false,
    "editable": false,
    "nbgrader": {
     "cell_type": "markdown",
     "checksum": "3fb22ce40cd1a7fb9b59aa22226c9892",
     "grade": false,
     "grade_id": "cell-fd6a0770b1db542e",
     "locked": true,
     "schema_version": 3,
     "solution": false,
     "task": false
    }
   },
   "source": [
    "In question 1.6 above, you've created a subset of the `penguins` dataset by filtering for those penguins that have a body mass greater than 3600 g. Let's do a quick check to see how many penguins meet that threshold by comparing the dimensions of the `penguins` dataset and your subset, `answer1.6`. There are two different ways to do this. "
   ]
  },
  {
   "cell_type": "code",
   "execution_count": null,
   "metadata": {
    "deletable": false,
    "editable": false,
    "nbgrader": {
     "cell_type": "code",
     "checksum": "fed9cb90f1e590933170468e0d4bc857",
     "grade": false,
     "grade_id": "cell-88d29ce015d55c3a",
     "locked": true,
     "schema_version": 3,
     "solution": false,
     "task": false
    }
   },
   "outputs": [],
   "source": [
    "dim(penguins)\n",
    "dim(answer1.6)"
   ]
  },
  {
   "cell_type": "markdown",
   "metadata": {
    "deletable": false,
    "editable": false,
    "nbgrader": {
     "cell_type": "markdown",
     "checksum": "919194b3d8d0032fa085c343e373f78d",
     "grade": false,
     "grade_id": "cell-9ca14d97a1c89aad",
     "locked": true,
     "schema_version": 3,
     "solution": false,
     "task": false
    }
   },
   "source": [
    "As you can see, in filtering down to penguins with a body mass greater than 3600g, we have lost about 100 rows (observations). However, `answer1.6` doesn't seem like an informative name for this new dataset that you've created from `penguins`. Let's rename it to something else."
   ]
  },
  {
   "cell_type": "code",
   "execution_count": null,
   "metadata": {
    "deletable": false,
    "editable": false,
    "nbgrader": {
     "cell_type": "code",
     "checksum": "71cd8e7c66a0874fb21d0c3f49e4b3d3",
     "grade": false,
     "grade_id": "cell-ad22993e5cc2f509",
     "locked": true,
     "schema_version": 3,
     "solution": false,
     "task": false
    }
   },
   "outputs": [],
   "source": [
    "penguins3600 <- answer1.6"
   ]
  },
  {
   "cell_type": "markdown",
   "metadata": {
    "deletable": false,
    "editable": false,
    "nbgrader": {
     "cell_type": "markdown",
     "checksum": "3529441f6f3e5ad5febace46238d430b",
     "grade": false,
     "grade_id": "cell-051fdf27d9771f42",
     "locked": true,
     "schema_version": 3,
     "solution": false,
     "task": false
    }
   },
   "source": [
    "**QUESTION 1.7**\n",
    "\n",
    "From your \"new\" dataset, take only data from penguins located in the Biscoe island."
   ]
  },
  {
   "cell_type": "code",
   "execution_count": null,
   "metadata": {
    "deletable": false,
    "name": "question-1-7",
    "nbgrader": {
     "cell_type": "code",
     "checksum": "e87b719d3476fa8ac0ff5bfe4b181c60",
     "grade": false,
     "grade_id": "cell-d7d71f8ef7623ddc",
     "locked": false,
     "schema_version": 3,
     "solution": true,
     "task": false
    }
   },
   "outputs": [],
   "source": [
    "# answer1.7 <- filter(FILL_THIS_IN, FILL_THIS_IN)\n",
    "\n",
    "# your code here\n",
    "fail() # No Answer - remove if you provide an answer"
   ]
  },
  {
   "cell_type": "code",
   "execution_count": null,
   "metadata": {
    "deletable": false,
    "editable": false,
    "name": "test-1-7",
    "nbgrader": {
     "cell_type": "code",
     "checksum": "23455bdf4122433580499e8faa66af80",
     "grade": true,
     "grade_id": "cell-5e4156e2a3ad4d40",
     "locked": true,
     "points": 1,
     "schema_version": 3,
     "solution": false,
     "task": false
    }
   },
   "outputs": [],
   "source": [
    "# test for an object that is 148 rows by 8 columns and that all entries in the island column are \"Biscoe\"\n",
    "test_that(\"Question 1.7\", {\n",
    "  expect_equal(digest(dim(answer1.7)), \"92ac01cd2e8809faceb1f7a283cd935f\")\n",
    "  \n",
    "  a <- as.character(unique(pull(answer1.7, island)))\n",
    "  expect_length(a, 1L)\n",
    "  expect_equal(a, \"Biscoe\")\n",
    "})\n",
    "cat(\"success!\")"
   ]
  },
  {
   "cell_type": "markdown",
   "metadata": {
    "deletable": false,
    "editable": false,
    "nbgrader": {
     "cell_type": "markdown",
     "checksum": "a6497859dab312d2f4dad7c41f5d6feb",
     "grade": false,
     "grade_id": "cell-541157a971196e6d",
     "locked": true,
     "schema_version": 3,
     "solution": false,
     "task": false
    }
   },
   "source": [
    "**QUESTION 1.8**\n",
    "\n",
    "Repeat the task from question 1.7, but take data from islands Torgersen and Dream. Now that you've practiced with dplyr verbs quite a bit, you don't need as many prompts to answer! Hint: When you want to select more than one island, you use `%in%` instead of `==`.\n",
    "\n",
    "Store your answer in a variable named `answer1.8`."
   ]
  },
  {
   "cell_type": "code",
   "execution_count": null,
   "metadata": {
    "deletable": false,
    "name": "question-1-8",
    "nbgrader": {
     "cell_type": "code",
     "checksum": "7bd47d34befbeeae36a49317b2100bd9",
     "grade": false,
     "grade_id": "cell-30a32f98d928d5ef",
     "locked": false,
     "schema_version": 3,
     "solution": true,
     "task": false
    }
   },
   "outputs": [],
   "source": [
    "# answer1.8 <- youranswer\n",
    "\n",
    "# your code here\n",
    "fail() # No Answer - remove if you provide an answer"
   ]
  },
  {
   "cell_type": "code",
   "execution_count": null,
   "metadata": {
    "deletable": false,
    "editable": false,
    "name": "test-1-8",
    "nbgrader": {
     "cell_type": "code",
     "checksum": "e83b7995021d7e3ee1c0a8d16f04a31d",
     "grade": true,
     "grade_id": "cell-89c20b9e5605b929",
     "locked": true,
     "points": 1,
     "schema_version": 3,
     "solution": false,
     "task": false
    }
   },
   "outputs": [],
   "source": [
    "# test for an object that is 97 rows by 8 columns and that 28 entries in the island column are \"Torgersen\", and 69 of them are \"Dream\"\n",
    "test_that(\"Question 1.8\", {\n",
    "  expect_equal(digest(dim(answer1.8)), \"b207bbce54bb47be51e7ba7b56d24bc2\")\n",
    "  expect_equal(sum(pull(answer1.8, island) == \"Torgersen\"), 28)\n",
    "  expect_equal(sum(pull(answer1.8, island) == \"Dream\"), 69)\n",
    "})\n",
    "cat(\"success!\")"
   ]
  },
  {
   "cell_type": "markdown",
   "metadata": {
    "deletable": false,
    "editable": false,
    "nbgrader": {
     "cell_type": "markdown",
     "checksum": "dacf981adbf0679edb4eff6161592bd5",
     "grade": false,
     "grade_id": "cell-4a8582b78ed98d91",
     "locked": true,
     "schema_version": 3,
     "solution": false,
     "task": false
    }
   },
   "source": [
    "### `arrange()` \n",
    "\n",
    "`arrange()` allows you to rearrange rows. Let's give it a try!\n",
    "\n",
    "**QUESTION 1.9**\n",
    "\n",
    "Order `penguins` by year, in ascending order. Store the resulting tibble in a variable named `answer1.9`."
   ]
  },
  {
   "cell_type": "code",
   "execution_count": null,
   "metadata": {
    "deletable": false,
    "name": "question-1-9",
    "nbgrader": {
     "cell_type": "code",
     "checksum": "7fc2c830ebc52f65612d35bf42faec0a",
     "grade": false,
     "grade_id": "cell-328575d183628b50",
     "locked": false,
     "schema_version": 3,
     "solution": true,
     "task": false
    }
   },
   "outputs": [],
   "source": [
    "# answer1.9 <- arrange(FILL_THIS_IN, FILL_THIS_IN)\n",
    "\n",
    "# your code here\n",
    "fail() # No Answer - remove if you provide an answer"
   ]
  },
  {
   "cell_type": "code",
   "execution_count": null,
   "metadata": {
    "deletable": false,
    "editable": false,
    "name": "test-1-9",
    "nbgrader": {
     "cell_type": "code",
     "checksum": "02739ce214f5085ac1adf0a348ac4c91",
     "grade": true,
     "grade_id": "cell-f3eceec3a41ec267",
     "locked": true,
     "points": 1,
     "schema_version": 3,
     "solution": false,
     "task": false
    }
   },
   "outputs": [],
   "source": [
    "expect_sorted <- function(object) {\n",
    "  act <- quasi_label(rlang::enquo(object), arg = \"object\")\n",
    "  expect(\n",
    "    !is.unsorted(act$val),\n",
    "    sprintf(\"%s not sorted\", act$lab)\n",
    "  )\n",
    "  invisible(act$val)\n",
    "}\n",
    "\n",
    "test_that(\"Question 1.9\", {\n",
    "    expect_sorted(pull(answer1.9, year))\n",
    "})\n",
    "cat(\"success!\")"
   ]
  },
  {
   "cell_type": "markdown",
   "metadata": {
    "deletable": false,
    "editable": false,
    "nbgrader": {
     "cell_type": "markdown",
     "checksum": "b6d4eca13f789eff0bb7f08d449cce12",
     "grade": false,
     "grade_id": "cell-6a5c389fdb642b97",
     "locked": true,
     "schema_version": 3,
     "solution": false,
     "task": false
    }
   },
   "source": [
    "**QUESTION 1.10**\n",
    "\n",
    "Great work! Order `penguins` by year, in descending order. Hint: there is a function that allows you to order a variable in descending order called `desc()`.\n",
    "\n",
    "Store your tibble in a variable named `answer1.10`."
   ]
  },
  {
   "cell_type": "code",
   "execution_count": null,
   "metadata": {
    "deletable": false,
    "name": "question-1-10",
    "nbgrader": {
     "cell_type": "code",
     "checksum": "f9503f5fc2a92fed0debeac891a3741d",
     "grade": false,
     "grade_id": "cell-5d16610ec2eb5dec",
     "locked": false,
     "schema_version": 3,
     "solution": true,
     "task": false
    }
   },
   "outputs": [],
   "source": [
    "# answer1.10 <- arrange(FILL_THIS_IN, FILL_THIS_IN)\n",
    "\n",
    "# your code here\n",
    "fail() # No Answer - remove if you provide an answer"
   ]
  },
  {
   "cell_type": "code",
   "execution_count": null,
   "metadata": {
    "deletable": false,
    "editable": false,
    "name": "test-1-10",
    "nbgrader": {
     "cell_type": "code",
     "checksum": "a56824f823d56c48c7492cbf3fa39ef5",
     "grade": true,
     "grade_id": "cell-c17dc14cc8e6251d",
     "locked": true,
     "points": 1,
     "schema_version": 3,
     "solution": false,
     "task": false
    }
   },
   "outputs": [],
   "source": [
    "test_that(\"Question 1.10\", {\n",
    "    expect_sorted(pull(answer1.10, year) %>% \n",
    "                    rev())\n",
    "})\n",
    "cat(\"success!\")"
   ]
  },
  {
   "cell_type": "markdown",
   "metadata": {
    "deletable": false,
    "editable": false,
    "nbgrader": {
     "cell_type": "markdown",
     "checksum": "85f19c07624f260da80ee971d6164eac",
     "grade": false,
     "grade_id": "cell-83f549a48f378b7e",
     "locked": true,
     "schema_version": 3,
     "solution": false,
     "task": false
    }
   },
   "source": [
    "**QUESTION 1.11**\n",
    "\n",
    "Order `penguins` by year, then by `body_mass_g`. Use ascending order in both cases.\n",
    "\n",
    "Store your answer in a variable named `answer1.11`"
   ]
  },
  {
   "cell_type": "code",
   "execution_count": null,
   "metadata": {
    "deletable": false,
    "name": "question-1-11",
    "nbgrader": {
     "cell_type": "code",
     "checksum": "fe4c1d9c62dd682e287fd60c3f10e6e7",
     "grade": false,
     "grade_id": "cell-b0a6c4950411e1a0",
     "locked": false,
     "schema_version": 3,
     "solution": true,
     "task": false
    }
   },
   "outputs": [],
   "source": [
    "# answer1.11 <- arrange(FILL_THIS_IN, FILL_THIS_IN, FILL_THIS_IN)\n",
    "\n",
    "# your code here\n",
    "fail() # No Answer - remove if you provide an answer"
   ]
  },
  {
   "cell_type": "code",
   "execution_count": null,
   "metadata": {
    "deletable": false,
    "editable": false,
    "name": "test-1-11",
    "nbgrader": {
     "cell_type": "code",
     "checksum": "7393fd8d15c66002e28909a814efab8f",
     "grade": true,
     "grade_id": "cell-942ca4a7dff525d4",
     "locked": true,
     "points": 1,
     "schema_version": 3,
     "solution": false,
     "task": false
    }
   },
   "outputs": [],
   "source": [
    "test_that(\"Question 1.11\", {\n",
    "  expect_sorted(pull(answer1.11, year))\n",
    "  answer1.11_list <- answer1.11 %>% \n",
    "    group_by(year) %>% \n",
    "    group_split()\n",
    "  \n",
    "  expect_length(answer1.11_list, 3)\n",
    "  expect_sorted(answer1.11_list[[1]] %>% pull(body_mass_g) %>% na.omit())\n",
    "  expect_sorted(answer1.11_list[[2]] %>% pull(body_mass_g) %>% na.omit())\n",
    "  expect_sorted(answer1.11_list[[3]] %>% pull(body_mass_g) %>% na.omit())\n",
    "})\n",
    "cat(\"success!\")"
   ]
  },
  {
   "cell_type": "markdown",
   "metadata": {
    "deletable": false,
    "editable": false,
    "nbgrader": {
     "cell_type": "markdown",
     "checksum": "af0b05b02663a7af9c9d3d8c12a4eac7",
     "grade": false,
     "grade_id": "cell-8670bdd2a80dcc71",
     "locked": true,
     "schema_version": 3,
     "solution": false,
     "task": false
    }
   },
   "source": [
    "### Piping, `%>%` \n",
    "\n",
    "So far, we've been using dplyr verbs by inputting the dataset that we want to work on as the first argument of the function (e.g. `select(**penguins**, year))`. This is fine when you're using a single verb, i.e. you only want to filter observations, or select variables. However, more often than not you will want to do several tasks at once; such as filtering penguins with a certain body mass, and simultaneously ordering those penguins by year. Here is where piping (`%>%`) comes in.\n",
    "\n",
    "Think of `%>%` as the word \"then\"!\n",
    "\n",
    "Let's see an example. Here I want to combine `select()` with `arrange()`.\n",
    "\n",
    "This is how I could do it by *nesting* the two function calls. I am selecting variables year, species, island, and body_mass_g, while simultaneously arranging by year."
   ]
  },
  {
   "cell_type": "code",
   "execution_count": null,
   "metadata": {
    "deletable": false,
    "editable": false,
    "eval": false,
    "name": "nesting functions example",
    "nbgrader": {
     "cell_type": "code",
     "checksum": "b83bf34bafc68a12f039093c768339b4",
     "grade": false,
     "grade_id": "cell-8b04bc9446a8c4ac",
     "locked": true,
     "schema_version": 3,
     "solution": false,
     "task": false
    }
   },
   "outputs": [],
   "source": [
    "print(arrange(select(penguins, year, species, island, body_mass_g), year), n = 5)"
   ]
  },
  {
   "cell_type": "markdown",
   "metadata": {
    "deletable": false,
    "editable": false,
    "nbgrader": {
     "cell_type": "markdown",
     "checksum": "437bd4cbe9e6e1c13853db7c2df9a4b4",
     "grade": false,
     "grade_id": "cell-1f52ee5af576a960",
     "locked": true,
     "schema_version": 3,
     "solution": false,
     "task": false
    }
   },
   "source": [
    "However, that seems a little hard to read. Now using pipes:"
   ]
  },
  {
   "cell_type": "code",
   "execution_count": null,
   "metadata": {
    "deletable": false,
    "editable": false,
    "nbgrader": {
     "cell_type": "code",
     "checksum": "349fd7cae5ac4c1fafbc960196af6010",
     "grade": false,
     "grade_id": "cell-c822cab993153419",
     "locked": true,
     "schema_version": 3,
     "solution": false,
     "task": false
    }
   },
   "outputs": [],
   "source": [
    "penguins %>%\n",
    "  select(year, species, island, body_mass_g) %>%\n",
    "  arrange(year) %>% \n",
    "  print(n = 5)"
   ]
  },
  {
   "cell_type": "markdown",
   "metadata": {
    "deletable": false,
    "editable": false,
    "nbgrader": {
     "cell_type": "markdown",
     "checksum": "e3f13c87c36e7127fae8bbfd8c271d3f",
     "grade": false,
     "grade_id": "cell-98ac8fcee497ce0d",
     "locked": true,
     "schema_version": 3,
     "solution": false,
     "task": false
    }
   },
   "source": [
    "## Creating tibbles\n",
    "\n",
    "Throughout Part A, we have been working with a tibble, `penguins`. Remember that when we ran `class()` on `penguins`, we could see that it was a dataframe that had been coerced to a tibble, which is a unifying feature of the tidyverse.\n",
    "\n",
    "Suppose that you have a dataframe that you want to coerce to a tibble. To do this, you can use `as_tibble()`. R comes with a few built-in datasets, one of which is `mtcars`. Let's check the class of `mtcars`:"
   ]
  },
  {
   "cell_type": "code",
   "execution_count": null,
   "metadata": {
    "deletable": false,
    "editable": false,
    "nbgrader": {
     "cell_type": "code",
     "checksum": "8f8285eeb4e6af3669bd69c927e8ff9c",
     "grade": false,
     "grade_id": "cell-c7af6b2c82165fa0",
     "locked": true,
     "schema_version": 3,
     "solution": false,
     "task": false
    }
   },
   "outputs": [],
   "source": [
    "class(mtcars)"
   ]
  },
  {
   "cell_type": "markdown",
   "metadata": {
    "deletable": false,
    "editable": false,
    "nbgrader": {
     "cell_type": "markdown",
     "checksum": "5381bd4f4bc01937cdee106c0dab3ade",
     "grade": false,
     "grade_id": "cell-7507b4dc963878ab",
     "locked": true,
     "schema_version": 3,
     "solution": false,
     "task": false
    }
   },
   "source": [
    "As you can see, mtcars is a dataframe. Now, coerce it to a tibble with `as_tibble()`:"
   ]
  },
  {
   "cell_type": "code",
   "execution_count": null,
   "metadata": {
    "deletable": false,
    "editable": false,
    "nbgrader": {
     "cell_type": "code",
     "checksum": "a782b35e1d46a7b048af57eacc570061",
     "grade": false,
     "grade_id": "cell-7a8f6ffc86b48d2b",
     "locked": true,
     "schema_version": 3,
     "solution": false,
     "task": false
    }
   },
   "outputs": [],
   "source": [
    "as_tibble(mtcars) %>% \n",
    "    print(n = 5)"
   ]
  },
  {
   "cell_type": "markdown",
   "metadata": {
    "deletable": false,
    "editable": false,
    "nbgrader": {
     "cell_type": "markdown",
     "checksum": "d532995b59bf8a5573dc42603565b45a",
     "grade": false,
     "grade_id": "cell-8c956daac8fd8b0c",
     "locked": true,
     "schema_version": 3,
     "solution": false,
     "task": false
    }
   },
   "source": [
    "You can read more about tibbles in the [R4DS Tibble Chapter](https://r4ds.had.co.nz/tibbles.html#creating-tibbles).\n",
    "\n",
    "## Time to review what we've learned!\n",
    "\n",
    "**QUESTION 1.12**\n",
    "\n",
    "Load the package `gapminder` with `library()`. Check the class of the `gapminder` dataset."
   ]
  },
  {
   "cell_type": "code",
   "execution_count": null,
   "metadata": {
    "deletable": false,
    "editable": false,
    "nbgrader": {
     "cell_type": "code",
     "checksum": "1dc95691b70348c680b1aed651d71869",
     "grade": false,
     "grade_id": "cell-992bc1625f2613d0",
     "locked": true,
     "schema_version": 3,
     "solution": false,
     "task": false
    }
   },
   "outputs": [],
   "source": [
    "library(gapminder)\n",
    "class(gapminder)"
   ]
  },
  {
   "cell_type": "markdown",
   "metadata": {
    "deletable": false,
    "editable": false,
    "nbgrader": {
     "cell_type": "markdown",
     "checksum": "bb9150b89fc5a282db942c7eec80d24d",
     "grade": false,
     "grade_id": "cell-35bd3fa6efef2b5c",
     "locked": true,
     "schema_version": 3,
     "solution": false,
     "task": false
    }
   },
   "source": [
    "As you can see, it has already been coerced to a tibble.\n",
    "\n",
    "Take all countries in Europe that have a GDP per capita greater than 10000, and select all variables except `gdpPercap`, using pipes. (Hint: use `-`).\n",
    "\n",
    "Store your answer in a variable named `answer1.12`"
   ]
  },
  {
   "cell_type": "code",
   "execution_count": null,
   "metadata": {
    "deletable": false,
    "name": "question-1-14",
    "nbgrader": {
     "cell_type": "code",
     "checksum": "946c65a96820663015ff1529ae1b1719",
     "grade": false,
     "grade_id": "cell-229c2279871804bd",
     "locked": false,
     "schema_version": 3,
     "solution": true,
     "task": false
    }
   },
   "outputs": [],
   "source": [
    "# answer1.12 <- FILL_THIS_IN %>%\n",
    "#   filter(FILL_THIS_IN > 10000) %>%\n",
    "#   FILL_THIS_IN(-FILL_THIS_IN)\n",
    "\n",
    "# your code here\n",
    "fail() # No Answer - remove if you provide an answer"
   ]
  },
  {
   "cell_type": "code",
   "execution_count": null,
   "metadata": {
    "deletable": false,
    "editable": false,
    "name": "test-1-14",
    "nbgrader": {
     "cell_type": "code",
     "checksum": "94d8887c367970d31f721ce501712782",
     "grade": true,
     "grade_id": "cell-d306a8e4f1863c71",
     "locked": true,
     "points": 1,
     "schema_version": 3,
     "solution": false,
     "task": false
    }
   },
   "outputs": [],
   "source": [
    "# test that 392 by 5 and that all gdpPercap > 10000\n",
    "test_that(\"Question 1.12\", {\n",
    "  expect_equal(digest(dim(answer1.12)), \"10e7af552b77b2008cc3a6465100596d\")\n",
    "  expect_equal(digest(answer1.12), \"3218056845cc9759df4f0098613e4428\")\n",
    "})\n",
    "cat(\"success!\")"
   ]
  },
  {
   "cell_type": "markdown",
   "metadata": {
    "deletable": false,
    "editable": false,
    "nbgrader": {
     "cell_type": "markdown",
     "checksum": "10861fff50fec15cb1bed224e7038bf3",
     "grade": false,
     "grade_id": "cell-3e7c74b2095d67ab",
     "locked": true,
     "schema_version": 3,
     "solution": false,
     "task": false
    }
   },
   "source": [
    "**QUESTION 1.13**\n",
    "\n",
    "Coerce the `mtcars` data frame to a tibble, and take all columns that start with the letter \"d\". \n",
    "    - Hint: take a look at the \"Select helpers\" documentation by running the following code: `?tidyselect::select_helpers`.\n",
    "\n",
    "Store your tibble in a variable named `answer1.13`"
   ]
  },
  {
   "cell_type": "code",
   "execution_count": null,
   "metadata": {
    "deletable": false,
    "name": "question-1-15",
    "nbgrader": {
     "cell_type": "code",
     "checksum": "d2c129e90f14913f772e20a33053f108",
     "grade": false,
     "grade_id": "cell-e326cd7a208090ad",
     "locked": false,
     "schema_version": 3,
     "solution": true,
     "task": false
    }
   },
   "outputs": [],
   "source": [
    "# answer1.13 <- #youranswer\n",
    "\n",
    "# your code here\n",
    "fail() # No Answer - remove if you provide an answer"
   ]
  },
  {
   "cell_type": "code",
   "execution_count": null,
   "metadata": {
    "deletable": false,
    "editable": false,
    "name": "test-1-15",
    "nbgrader": {
     "cell_type": "code",
     "checksum": "c7b14394a12d09d2ab5413ebc847d693",
     "grade": true,
     "grade_id": "cell-cef50c68a7dc95c8",
     "locked": true,
     "points": 1,
     "schema_version": 3,
     "solution": false,
     "task": false
    }
   },
   "outputs": [],
   "source": [
    "# test for a 32 by 2 tibble where columns are \"disp\", \"drat\" in that order\n",
    "test_that(\"Question 1.13\", {\n",
    "  expect_equal(digest(dim(answer1.13)), \"ea1df69d6a59227894d1d4330f9bfab8\")\n",
    "  expect_equal(digest(colnames(answer1.13)), \"0956954d01fe74c59c1f16850b7e874f\")\n",
    "})\n",
    "cat(\"success!\")"
   ]
  },
  {
   "cell_type": "markdown",
   "metadata": {
    "deletable": false,
    "editable": false,
    "nbgrader": {
     "cell_type": "markdown",
     "checksum": "2843f07c2666109fdfea18055ea010e0",
     "grade": false,
     "grade_id": "cell-0c09a3e05f5f9626",
     "locked": true,
     "schema_version": 3,
     "solution": false,
     "task": false
    }
   },
   "source": [
    "This exercise is from [r-exercises](https://www.r-exercises.com/2017/10/19/dplyr-basic-functions-exercises/).\n",
    "\n",
    "## Part B: Visualize your data\n",
    "\n",
    "**Part B of this worksheet reviews the concepts learned in Class 5: ggplot2 I.**\n",
    "\n",
    "## Preliminary\n",
    "\n",
    "Run this code chunk to load the required packages:"
   ]
  },
  {
   "cell_type": "code",
   "execution_count": null,
   "metadata": {
    "deletable": false,
    "editable": false,
    "name": "load packages",
    "nbgrader": {
     "cell_type": "code",
     "checksum": "8fb4c251e197d60ee6351a227716c996",
     "grade": false,
     "grade_id": "cell-5a6ae2253d4b9e55",
     "locked": true,
     "schema_version": 3,
     "solution": false,
     "task": false
    },
    "warning": false
   },
   "outputs": [],
   "source": [
    "suppressPackageStartupMessages(library(tidyverse))\n",
    "suppressPackageStartupMessages(library(palmerpenguins))\n",
    "suppressPackageStartupMessages(library(gapminder))\n",
    "suppressPackageStartupMessages(library(scales))\n",
    "suppressPackageStartupMessages(library(tsibble))"
   ]
  },
  {
   "cell_type": "markdown",
   "metadata": {
    "deletable": false,
    "editable": false,
    "nbgrader": {
     "cell_type": "markdown",
     "checksum": "282150224bd18d813a253973349a9d25",
     "grade": false,
     "grade_id": "cell-1d39f2e3556c89f3",
     "locked": true,
     "schema_version": 3,
     "solution": false,
     "task": false
    }
   },
   "source": [
    "## Grammar of Graphics\n",
    "\n",
    "Before we start, here is the [ggplot2 cheatsheet](https://github.com/rstudio/cheatsheets/blob/master/data-visualization-2.1.pdf). When you're coding on your own (i.e. working on your own project outside of class), cheatsheets are one of the most common resources that you'll continuously revisit.\n",
    "\n",
    "Consider the following plot. Don't concern yourself with the code at this point."
   ]
  },
  {
   "cell_type": "code",
   "execution_count": null,
   "metadata": {
    "deletable": false,
    "editable": false,
    "fig.height": 2,
    "fig.width": 5,
    "nbgrader": {
     "cell_type": "code",
     "checksum": "dbfcfe3cb4d74fac9a85a71348592dcd",
     "grade": false,
     "grade_id": "cell-13ae5030ac04ea95",
     "locked": true,
     "schema_version": 3,
     "solution": false,
     "task": false
    }
   },
   "outputs": [],
   "source": [
    "gapminder %>% \n",
    "  filter(year == 2007) %>% \n",
    "  mutate(continent = fct_infreq(continent)) %>% \n",
    "  ggplot(aes(continent)) +\n",
    "  geom_bar() +\n",
    "  theme_bw()"
   ]
  },
  {
   "cell_type": "markdown",
   "metadata": {
    "deletable": false,
    "editable": false,
    "nbgrader": {
     "cell_type": "markdown",
     "checksum": "c960332849f3d10d2c55afb4c5683538",
     "grade": false,
     "grade_id": "cell-8ac4a30c1f3fa392",
     "locked": true,
     "schema_version": 3,
     "solution": false,
     "task": false
    }
   },
   "source": [
    "**QUESTION 2.0**\n",
    "\n",
    "Fill in the seven grammar components for this plot. Choose the best option, and place your choice in a variable named `answer2.0`\n",
    "\n",
    "1:\n",
    "\n",
    "| Grammar Component     | Specification |\n",
    "|-----------------------|---------------|\n",
    "| __data__              | `gapminder` |\n",
    "| __aesthetic mapping__ | `continent` |\n",
    "| __geometric object__  | `bars` |\n",
    "| scale                 | `logarithmic` |\n",
    "| statistical transform | `none` |\n",
    "| coordinate system     | `rectangular` |\n",
    "| facetting             | `none` |\n",
    "\n",
    "2:\n",
    "\n",
    "| Grammar Component     | Specification |\n",
    "|-----------------------|---------------|\n",
    "| __data__              | `gapminder` |\n",
    "| __aesthetic mapping__ | `continent` |\n",
    "| __geometric object__  | `bars` |\n",
    "| scale                 | `linear` |\n",
    "| statistical transform | `none` |\n",
    "| coordinate system     | `rectangular` |\n",
    "| facetting             | `none` |\n",
    "\n",
    "3:\n",
    "\n",
    "| Grammar Component     | Specification |\n",
    "|-----------------------|---------------|\n",
    "| __data__              | `gapminder` |\n",
    "| __aesthetic mapping__ | `year` |\n",
    "| __geometric object__  | `bars` |\n",
    "| scale                 | `linear` |\n",
    "| statistical transform | `none` |\n",
    "| coordinate system     | `rectangular` |\n",
    "| facetting             | `none` |\n"
   ]
  },
  {
   "cell_type": "code",
   "execution_count": null,
   "metadata": {
    "deletable": false,
    "nbgrader": {
     "cell_type": "code",
     "checksum": "6550094cf1875af26afe359f780f9ca3",
     "grade": false,
     "grade_id": "cell-cfc3d9e1948b5dd5",
     "locked": false,
     "schema_version": 3,
     "solution": true,
     "task": false
    }
   },
   "outputs": [],
   "source": [
    "# answer2.0 <- youranswerhere\n",
    "\n",
    "# your code here\n",
    "fail() # No Answer - remove if you provide an answer"
   ]
  },
  {
   "cell_type": "code",
   "execution_count": null,
   "metadata": {
    "deletable": false,
    "editable": false,
    "nbgrader": {
     "cell_type": "code",
     "checksum": "235ad9678a5b81377d69b12838f6dd38",
     "grade": true,
     "grade_id": "cell-91fe67fe9b8d9b44",
     "locked": true,
     "points": 1,
     "schema_version": 3,
     "solution": false,
     "task": false
    }
   },
   "outputs": [],
   "source": [
    "test_that(\"Question 2.0\", {\n",
    "    expect_equal(digest(as.numeric(answer2.0)), \"db8e490a925a60e62212cefc7674ca02\")\n",
    "})\n",
    "cat(\"success!\")"
   ]
  },
  {
   "cell_type": "markdown",
   "metadata": {
    "deletable": false,
    "editable": false,
    "nbgrader": {
     "cell_type": "markdown",
     "checksum": "e574c93294ae5207381823e19b5caeda",
     "grade": false,
     "grade_id": "cell-45cc0c3aa866aa91",
     "locked": true,
     "schema_version": 3,
     "solution": false,
     "task": false
    }
   },
   "source": [
    "Look at this plot instead."
   ]
  },
  {
   "cell_type": "code",
   "execution_count": null,
   "metadata": {
    "deletable": false,
    "editable": false,
    "nbgrader": {
     "cell_type": "code",
     "checksum": "35aecc6ea16a61f1d0c22b424d067702",
     "grade": false,
     "grade_id": "cell-0146fd3d421ece40",
     "locked": true,
     "schema_version": 3,
     "solution": false,
     "task": false
    }
   },
   "outputs": [],
   "source": [
    "ggplot(gapminder, aes(gdpPercap, lifeExp)) +\n",
    "  geom_point(alpha = 0.1) +\n",
    "  scale_x_log10(\"GDP per capita\", labels = scales::dollar_format()) +\n",
    "  theme_bw() +\n",
    "  ylab(\"Life Expectancy\")"
   ]
  },
  {
   "cell_type": "markdown",
   "metadata": {
    "deletable": false,
    "editable": false,
    "nbgrader": {
     "cell_type": "markdown",
     "checksum": "20e24cee08b6d806daafba4c9e245fd0",
     "grade": false,
     "grade_id": "cell-d846800cf5df5bd3",
     "locked": true,
     "schema_version": 3,
     "solution": false,
     "task": false
    }
   },
   "source": [
    "**QUESTION 2.1**\n",
    "\n",
    "What is the aesthetic mapping in this plot? Place your answer in a variable named `answer2.1`\n",
    "\n",
    "1: alpha = 0.1   \n",
    "2: x: gdpPercap, y: lifeExp   \n",
    "3: none   \n",
    "4: \"Life Expectancy\""
   ]
  },
  {
   "cell_type": "code",
   "execution_count": null,
   "metadata": {
    "deletable": false,
    "name": "question-2-1",
    "nbgrader": {
     "cell_type": "code",
     "checksum": "d10d68dc7b47aaad2f7847a2143ca091",
     "grade": false,
     "grade_id": "cell-3dd0ed73c41c1136",
     "locked": false,
     "schema_version": 3,
     "solution": true,
     "task": false
    }
   },
   "outputs": [],
   "source": [
    "# answer2.1 <- youranswer\n",
    "\n",
    "# your code here\n",
    "fail() # No Answer - remove if you provide an answer"
   ]
  },
  {
   "cell_type": "code",
   "execution_count": null,
   "metadata": {
    "deletable": false,
    "editable": false,
    "name": "test-2-1",
    "nbgrader": {
     "cell_type": "code",
     "checksum": "7b99124c12b7ea68b6505be02ced3648",
     "grade": true,
     "grade_id": "cell-8c5e0da43802f075",
     "locked": true,
     "points": 1,
     "schema_version": 3,
     "solution": false,
     "task": false
    }
   },
   "outputs": [],
   "source": [
    "test_that(\"Question 2.1\", {\n",
    "    expect_equal(digest(as.numeric(answer2.1)), \"db8e490a925a60e62212cefc7674ca02\")\n",
    "})\n",
    "cat(\"success!\")"
   ]
  },
  {
   "cell_type": "markdown",
   "metadata": {
    "deletable": false,
    "editable": false,
    "nbgrader": {
     "cell_type": "markdown",
     "checksum": "2f77842929e626efce950885b905b01f",
     "grade": false,
     "grade_id": "cell-2f034a30aeb54771",
     "locked": true,
     "schema_version": 3,
     "solution": false,
     "task": false
    }
   },
   "source": [
    "## `ggplot2` Syntax \n",
    "\n",
    "The following is a tsibble (a special type of tibble containing time series data, which we'll see more of later), stored in the variable `mauna`, of CO$_2$ concentrations collected monthly at the Mauna Loa station.\n",
    "\n",
    "Execute this code to store the data in `mauna`:"
   ]
  },
  {
   "cell_type": "code",
   "execution_count": null,
   "metadata": {
    "deletable": false,
    "editable": false,
    "nbgrader": {
     "cell_type": "code",
     "checksum": "46d368267de1ed551fb665054f7da768",
     "grade": false,
     "grade_id": "cell-4cc5d4b024e3f5ef",
     "locked": true,
     "schema_version": 3,
     "solution": false,
     "task": false
    }
   },
   "outputs": [],
   "source": [
    "mauna <- tsibble::as_tsibble(co2) %>% \n",
    "   rename(month = index, conc = value)\n",
    "print(mauna, n = 5)"
   ]
  },
  {
   "cell_type": "markdown",
   "metadata": {
    "deletable": false,
    "editable": false,
    "nbgrader": {
     "cell_type": "markdown",
     "checksum": "0c1272344910a3524dd60a76905032c6",
     "grade": false,
     "grade_id": "cell-912fc1bf38a4b46f",
     "locked": true,
     "schema_version": 3,
     "solution": false,
     "task": false
    }
   },
   "source": [
    "**QUESTION 2.2**\n",
    "\n",
    "Produce a line chart showing the concentration over time. Specifically, the plot should have the following grammar components:\n",
    "\n",
    "| Grammar Component     | Specification |\n",
    "|-----------------------|---------------|\n",
    "| __data__              | `mauna` |\n",
    "| __aesthetic mapping__ | x: month, y: conc |\n",
    "| __geometric object__  | lines |\n",
    "| scale                 | linear |\n",
    "| statistical transform | none |\n",
    "| coordinate system     | rectangular |\n",
    "| facetting             | none |\n",
    "\n",
    "Fill in the blanks to obtain the plot, storing your plot in a variable named `answer2.2`"
   ]
  },
  {
   "cell_type": "code",
   "execution_count": null,
   "metadata": {
    "deletable": false,
    "name": "question-2-2",
    "nbgrader": {
     "cell_type": "code",
     "checksum": "84935895ea00cea09b36f9d0a8a52bb0",
     "grade": false,
     "grade_id": "cell-dc9d534f13046219",
     "locked": false,
     "schema_version": 3,
     "solution": true,
     "task": false
    }
   },
   "outputs": [],
   "source": [
    "# answer2.2 <- ggplot(FILL_THIS_IN, aes(FILL_THIS_IN, FILL_THIS_IN)) +\n",
    "# FILL_THIS_IN()\n",
    "\n",
    "# your code here\n",
    "fail() # No Answer - remove if you provide an answer\n",
    "print(answer2.2)"
   ]
  },
  {
   "cell_type": "code",
   "execution_count": null,
   "metadata": {
    "deletable": false,
    "editable": false,
    "name": "test-2-2",
    "nbgrader": {
     "cell_type": "code",
     "checksum": "1f31889ea036e08bed29ced46c798312",
     "grade": true,
     "grade_id": "cell-b008267739be5f55",
     "locked": true,
     "points": 1,
     "schema_version": 3,
     "solution": false,
     "task": false
    }
   },
   "outputs": [],
   "source": [
    "test_that(\"Question 2.2\", {\n",
    "    expect_equal(as.character(rlang::get_expr(answer2.2$mapping$x)), \"month\")\n",
    "    expect_equal(as.character(rlang::get_expr(answer2.2$mapping$y)), \"conc\")\n",
    "    expect_true(\"GeomLine\" %in% class(answer2.2$layers[[1]]$geom))\n",
    "})\n",
    "cat(\"success!\")"
   ]
  },
  {
   "cell_type": "markdown",
   "metadata": {
    "deletable": false,
    "editable": false,
    "nbgrader": {
     "cell_type": "markdown",
     "checksum": "5463bd3cc2f15424e5ea73f5028efeb2",
     "grade": false,
     "grade_id": "cell-122ac8c8ab5644aa",
     "locked": true,
     "schema_version": 3,
     "solution": false,
     "task": false
    }
   },
   "source": [
    "**QUESTION 2.3**\n",
    "\n",
    "It turns out that you're allowed to specify the aesthetic mappings in a `geom` layer instead of, or in addition to, in the `ggplot()` function, with the following rules:\n",
    "\n",
    "- Aesthetics appearing in a `geom` layer apply only to that layer.\n",
    "- If there are conflicting aesthetics in both the `ggplot()` function and the `geom` layer, the `geom` layer takes precedence.\n",
    "\n",
    "The following code mistakenly puts the month variable on the y-axis. Fill in the `FILL_THIS_IN` so that `conc` is on the y-axis (and month remains on the x-axis). Note what happens to the y-axis label, though! Store your answer in a variable named `answer2.3`"
   ]
  },
  {
   "cell_type": "code",
   "execution_count": null,
   "metadata": {
    "deletable": false,
    "name": "question-2-3",
    "nbgrader": {
     "cell_type": "code",
     "checksum": "146a1ab652476951f55bf6db6247578f",
     "grade": false,
     "grade_id": "cell-32eaa38bca33f44e",
     "locked": false,
     "schema_version": 3,
     "solution": true,
     "task": false
    }
   },
   "outputs": [],
   "source": [
    "# answer2.3 <-\n",
    "# ggplot(mauna, aes(y = month)) +\n",
    "# geom_point(FILL_THIS_IN)\n",
    "\n",
    "# your code here\n",
    "fail() # No Answer - remove if you provide an answer\n",
    "plot(answer2.3)"
   ]
  },
  {
   "cell_type": "code",
   "execution_count": null,
   "metadata": {
    "deletable": false,
    "editable": false,
    "name": "test-2-3",
    "nbgrader": {
     "cell_type": "code",
     "checksum": "1b00ecb99153f258853130fb864be2ac",
     "grade": true,
     "grade_id": "cell-f196a13adfd12bf2",
     "locked": true,
     "points": 1,
     "schema_version": 3,
     "solution": false,
     "task": false
    }
   },
   "outputs": [],
   "source": [
    "test_that(\"Question 2.3\", {\n",
    "    expect_equal(as.character(rlang::get_expr(answer2.3$mapping$x)), \"month\")\n",
    "    expect_equal(as.character(rlang::get_expr(answer2.3$mapping$y)), \"month\")\n",
    "    expect_equal(as.character(rlang::get_expr(answer2.3$layers[[1]]$mapping$y)), \"conc\")\n",
    "})\n",
    "cat(\"success!\")"
   ]
  },
  {
   "cell_type": "markdown",
   "metadata": {
    "deletable": false,
    "editable": false,
    "nbgrader": {
     "cell_type": "markdown",
     "checksum": "797e6b2f1006e13ab0593f8b4a807ca8",
     "grade": false,
     "grade_id": "cell-fa034aa9eadc889b",
     "locked": true,
     "schema_version": 3,
     "solution": false,
     "task": false
    }
   },
   "source": [
    "**QUESTION 2.4**\n",
    "\n",
    "You can store the output of the plot in a variable, too. The plot that you created in 2.2 is stored in the variable `answer2.2`. Add a layer to `answer2.2` that adds green points to the plot. "
   ]
  },
  {
   "cell_type": "code",
   "execution_count": null,
   "metadata": {
    "deletable": false,
    "name": "question-2-4",
    "nbgrader": {
     "cell_type": "code",
     "checksum": "a9607646dc2c8a5f9217963df99f808d",
     "grade": false,
     "grade_id": "cell-d42834d6e87a400e",
     "locked": false,
     "schema_version": 3,
     "solution": true,
     "task": false
    }
   },
   "outputs": [],
   "source": [
    "#answer2.4 <- answer2.2 +\n",
    "#  FILL_THIS_IN(colour = FILL_THIS_IN)\n",
    "\n",
    "# your code here\n",
    "fail() # No Answer - remove if you provide an answer\n",
    "print(answer2.4)"
   ]
  },
  {
   "cell_type": "code",
   "execution_count": null,
   "metadata": {
    "deletable": false,
    "editable": false,
    "name": "test-2-4",
    "nbgrader": {
     "cell_type": "code",
     "checksum": "94bb1353d594e594f1a8eae17d04a571",
     "grade": true,
     "grade_id": "cell-13c6834fe68d4a9f",
     "locked": true,
     "points": 1,
     "schema_version": 3,
     "solution": false,
     "task": false
    }
   },
   "outputs": [],
   "source": [
    "# test for the plot aesthetics\n",
    "test_that(\"Question 2.4\", {\n",
    "    expect_false(\"colour\" %in% names(rlang::get_expr(answer2.4$layers[[2]]$mapping)))\n",
    "    expect_false(\"color\" %in% names(rlang::get_expr(answer2.4$layers[[2]]$mapping)))\n",
    "    expect_true(is.character(answer2.4$layers[[2]]$geom_params$colour))\n",
    "})\n",
    "cat(\"success!\")"
   ]
  },
  {
   "cell_type": "markdown",
   "metadata": {
    "deletable": false,
    "editable": false,
    "nbgrader": {
     "cell_type": "markdown",
     "checksum": "bd7b04e47521b3cf52a6b06df4ef2a2f",
     "grade": false,
     "grade_id": "cell-8198872191984be3",
     "locked": true,
     "schema_version": 3,
     "solution": false,
     "task": false
    }
   },
   "source": [
    "**QUESTION 2.5**\n",
    "\n",
    "Can you fix what is wrong with the following code?\n",
    "\n",
    "```\n",
    "answer2.5 <- ggplot(gapminder) +\n",
    "    geom_point(x = gdpPercap, y = lifeExp, alpha = 0.1)\n",
    "```"
   ]
  },
  {
   "cell_type": "code",
   "execution_count": null,
   "metadata": {
    "deletable": false,
    "name": "question-2-5",
    "nbgrader": {
     "cell_type": "code",
     "checksum": "abdf2e4afddc227fcc0c247580fc7a83",
     "grade": false,
     "grade_id": "cell-95c9249da0e6869e",
     "locked": false,
     "schema_version": 3,
     "solution": true,
     "task": false
    }
   },
   "outputs": [],
   "source": [
    "# answer2.5 <- ggplot(gapminder) +\n",
    "#  geom_point(x = gdpPercap, y = lifeExp, alpha = 0.1)\n",
    "# your code here\n",
    "fail() # No Answer - remove if you provide an answer\n",
    "print(answer2.5)"
   ]
  },
  {
   "cell_type": "code",
   "execution_count": null,
   "metadata": {
    "deletable": false,
    "editable": false,
    "name": "test-2-5",
    "nbgrader": {
     "cell_type": "code",
     "checksum": "fb8b26346b0c8071bcca792ce6f52634",
     "grade": true,
     "grade_id": "cell-6595fa0ba46b2fc5",
     "locked": true,
     "points": 1,
     "schema_version": 3,
     "solution": false,
     "task": false
    }
   },
   "outputs": [],
   "source": [
    "test_that(\"Question 2.5\", {\n",
    "    expect_true(\n",
    "        as.character(rlang::get_expr(answer2.5$mapping$x)) == \"gdpPercap\" ||\n",
    "        as.character(rlang::get_expr(answer2.5$layers[[1]]$mapping$x)) == \"gdpPercap\"\n",
    "    )\n",
    "    expect_true(\n",
    "        as.character(rlang::get_expr(answer2.5$mapping$y)) == \"lifeExp\" ||\n",
    "        as.character(rlang::get_expr(answer2.5$layers[[1]]$mapping$y)) == \"lifeExp\"\n",
    "    )\n",
    "})\n",
    "cat(\"success!\")"
   ]
  },
  {
   "cell_type": "markdown",
   "metadata": {
    "deletable": false,
    "editable": false,
    "nbgrader": {
     "cell_type": "markdown",
     "checksum": "7293efa0a24e315d2c92220838e520ca",
     "grade": false,
     "grade_id": "cell-3c3a0b0e9dca5855",
     "locked": true,
     "schema_version": 3,
     "solution": false,
     "task": false
    }
   },
   "source": [
    "Remember the `penguins` dataset that we worked with in Part A of the worksheet? Let's try visualizing some of that data.\n",
    "\n",
    "**QUESTION 2.6**\n",
    "\n",
    "There are many questions that you may want to ask about the `penguins` dataset. Often, exploring relationships between variables is one of the first steps when exploring your data. Scatterplots are a great way to visualize this. \n",
    "\n",
    "Let's explore the relationship between flipper length and body mass (if any!). I have provided the \"scaffold\" of the ggplot2 recipe, now it's your turn to fill it in. Use the following parameters:\n",
    "\n",
    "- Flipper length should be on the x axis, and body mass should be on the y axis.\n",
    "- Color by species.\n",
    "- Set the size of the points to 3, and the alpha (transparency) to 0.8.\n",
    "\n",
    "Store the result in a variable named `answer2.6`"
   ]
  },
  {
   "cell_type": "code",
   "execution_count": null,
   "metadata": {
    "deletable": false,
    "name": "question-2-7",
    "nbgrader": {
     "cell_type": "code",
     "checksum": "04137bf8e36822d48eb79d9cf19bb95b",
     "grade": false,
     "grade_id": "cell-4ba9a5adab668e78",
     "locked": false,
     "schema_version": 3,
     "solution": true,
     "task": false
    }
   },
   "outputs": [],
   "source": [
    "# answer2.6 <- \n",
    "#  ggplot(data = FILL_THIS_IN, aes(x = FILL_THIS_IN, y = FILL_THIS_IN)) +\n",
    "#  geom_point(aes(color = FILL_THIS_IN),\n",
    "#             size = FILL_THIS_IN,\n",
    "#             alpha = FILL_THIS_IN) \n",
    "\n",
    "# your code here\n",
    "fail() # No Answer - remove if you provide an answer\n",
    "print(answer2.6)"
   ]
  },
  {
   "cell_type": "code",
   "execution_count": null,
   "metadata": {
    "deletable": false,
    "editable": false,
    "name": "test-2-7",
    "nbgrader": {
     "cell_type": "code",
     "checksum": "1b461ccee87969d8cf06d2dc751980ba",
     "grade": true,
     "grade_id": "cell-e15d2ec7b140d6ed",
     "locked": true,
     "points": 1,
     "schema_version": 3,
     "solution": false,
     "task": false
    }
   },
   "outputs": [],
   "source": [
    "test_that(\"Question 2.6\", {\n",
    "    expect_true(\n",
    "        as.character(rlang::get_expr(answer2.6$mapping$x)) == \"flipper_length_mm\" ||\n",
    "        as.character(rlang::get_expr(answer2.6$layers[[1]]$mapping$x)) == \"flipper_length_mm\"\n",
    "    )\n",
    "    expect_true(\n",
    "        as.character(rlang::get_expr(answer2.6$mapping$y)) == \"body_mass_g\" ||\n",
    "        as.character(rlang::get_expr(answer2.6$layers[[1]]$mapping$y)) == \"body_mass_g\"\n",
    "    )\n",
    "    expect_true(\n",
    "        as.character(rlang::get_expr(answer2.6$mapping$colour)) == \"species\" ||\n",
    "        as.character(rlang::get_expr(answer2.6$layers[[1]]$mapping$colour)) == \"species\"\n",
    "    )\n",
    "    expect_equal(answer2.6$layers[[1]]$geom_params$alpha, 0.8)\n",
    "    expect_equal(answer2.6$layers[[1]]$geom_params$size, 3)\n",
    "})\n",
    "cat(\"success!\")"
   ]
  },
  {
   "cell_type": "markdown",
   "metadata": {
    "deletable": false,
    "editable": false,
    "nbgrader": {
     "cell_type": "markdown",
     "checksum": "cc9a5b465c62b52d6978de7c4b0fc2b9",
     "grade": false,
     "grade_id": "cell-d0ed194b67c03bfd",
     "locked": true,
     "schema_version": 3,
     "solution": false,
     "task": false
    }
   },
   "source": [
    "**QUESTION 2.7**\n",
    "\n",
    "Try the same as in 2.6 (flipper length vs. body mass), but this time coloring by island! See if you can write the code without looking at the last question. Store your answer in a variable named `answer2.7`"
   ]
  },
  {
   "cell_type": "code",
   "execution_count": null,
   "metadata": {
    "deletable": false,
    "name": "question-2-8",
    "nbgrader": {
     "cell_type": "code",
     "checksum": "4caa2164eec21b1f48572ece75170c46",
     "grade": false,
     "grade_id": "cell-e68ab5a4cf8e0418",
     "locked": false,
     "schema_version": 3,
     "solution": true,
     "task": false
    }
   },
   "outputs": [],
   "source": [
    "# answer2.7 <- youranswer\n",
    "\n",
    "# your code here\n",
    "fail() # No Answer - remove if you provide an answer\n",
    "plot(answer2.7)"
   ]
  },
  {
   "cell_type": "code",
   "execution_count": null,
   "metadata": {
    "deletable": false,
    "editable": false,
    "name": "test-2-8",
    "nbgrader": {
     "cell_type": "code",
     "checksum": "9138a465258d1664ef33afc47836d2a8",
     "grade": true,
     "grade_id": "cell-f2e828941518af29",
     "locked": true,
     "points": 1,
     "schema_version": 3,
     "solution": false,
     "task": false
    }
   },
   "outputs": [],
   "source": [
    "test_that(\"Question 2.7\", {\n",
    "    expect_true(\n",
    "        as.character(rlang::get_expr(answer2.7$mapping$x)) == \"flipper_length_mm\" ||\n",
    "        as.character(rlang::get_expr(answer2.7$layers[[1]]$mapping$x)) == \"flipper_length_mm\"\n",
    "    )\n",
    "    expect_true(\n",
    "        as.character(rlang::get_expr(answer2.7$mapping$y)) == \"body_mass_g\" ||\n",
    "        as.character(rlang::get_expr(answer2.7$layers[[1]]$mapping$y)) == \"body_mass_g\"\n",
    "    )\n",
    "    expect_true(\n",
    "        as.character(rlang::get_expr(answer2.7$mapping$colour)) == \"island\" ||\n",
    "        as.character(rlang::get_expr(answer2.7$layers[[1]]$mapping$colour)) == \"island\"\n",
    "    )\n",
    "    expect_equal(answer2.7$layers[[1]]$geom_params$alpha, 0.8)\n",
    "    expect_equal(answer2.7$layers[[1]]$geom_params$size, 3)\n",
    "})\n",
    "cat(\"success!\")"
   ]
  },
  {
   "cell_type": "markdown",
   "metadata": {
    "deletable": false,
    "editable": false,
    "nbgrader": {
     "cell_type": "markdown",
     "checksum": "22d67fc9ac8e5e905c91d48dc744feca",
     "grade": false,
     "grade_id": "cell-4d9cf6f3ed6e1fd6",
     "locked": true,
     "schema_version": 3,
     "solution": false,
     "task": false
    }
   },
   "source": [
    "**QUESTION 2.8**\n",
    "\n",
    "Suppose you want to visualize the number of penguins per island. It seems that a bar chart could be useful for this purpose. Give it a try! Hint: bar charts only need specifying one axis (use the x axis). Store your answer in a variable named `answer2.8`"
   ]
  },
  {
   "cell_type": "code",
   "execution_count": null,
   "metadata": {
    "deletable": false,
    "name": "question-2-9",
    "nbgrader": {
     "cell_type": "code",
     "checksum": "fdc1da5e977dbbb78cd1ffa25e6e28fd",
     "grade": false,
     "grade_id": "cell-b4567343484094b9",
     "locked": false,
     "schema_version": 3,
     "solution": true,
     "task": false
    }
   },
   "outputs": [],
   "source": [
    "# answer2.8 <- ggplot(penguins, aes(FILL_THIS_IN)) + FILL_THIS_IN()\n",
    "\n",
    "# your code here\n",
    "fail() # No Answer - remove if you provide an answer\n",
    "print(answer2.8)"
   ]
  },
  {
   "cell_type": "code",
   "execution_count": null,
   "metadata": {
    "deletable": false,
    "editable": false,
    "name": "test-2-9",
    "nbgrader": {
     "cell_type": "code",
     "checksum": "a0275a0370b62a239ca560fe22ee1f57",
     "grade": true,
     "grade_id": "cell-cc7004186fd3616e",
     "locked": true,
     "points": 1,
     "schema_version": 3,
     "solution": false,
     "task": false
    }
   },
   "outputs": [],
   "source": [
    "test_that(\"Question 2.8\", {\n",
    "    expect_true(\n",
    "        as.character(rlang::get_expr(answer2.8$mapping$x)) == \"island\" ||\n",
    "        as.character(rlang::get_expr(answer2.8$layers[[1]]$mapping$x)) == \"island\"\n",
    "    )\n",
    "    expect_true(\n",
    "        \"GeomBar\" %in% class(answer2.8$layers[[1]]$geom) ||\n",
    "        \"GeomCol\" %in% class(answer2.8$layers[[1]]$geom)\n",
    "    )\n",
    "})\n",
    "cat(\"success!\")"
   ]
  },
  {
   "cell_type": "markdown",
   "metadata": {
    "deletable": false,
    "editable": false,
    "nbgrader": {
     "cell_type": "markdown",
     "checksum": "f7e44b5f8561846d6bcf5741739da9c7",
     "grade": false,
     "grade_id": "cell-2df8508a614b2a1f",
     "locked": true,
     "schema_version": 3,
     "solution": false,
     "task": false
    }
   },
   "source": [
    "Great job! Bar plots can be plotted in either way. Here is another handy way to flip the coordinates, instead of plotting the graph again."
   ]
  },
  {
   "cell_type": "code",
   "execution_count": null,
   "metadata": {
    "deletable": false,
    "editable": false,
    "nbgrader": {
     "cell_type": "code",
     "checksum": "0bf7c3e0dc13cd3cf4801210413f5bf6",
     "grade": false,
     "grade_id": "cell-951a858de782b0bc",
     "locked": true,
     "schema_version": 3,
     "solution": false,
     "task": false
    }
   },
   "outputs": [],
   "source": [
    "answer2.8 + coord_flip()"
   ]
  },
  {
   "cell_type": "markdown",
   "metadata": {
    "deletable": false,
    "editable": false,
    "nbgrader": {
     "cell_type": "markdown",
     "checksum": "89b0f575a7ee5c68a4917e6ce79aaf9b",
     "grade": false,
     "grade_id": "cell-c39ad510b6892d52",
     "locked": true,
     "schema_version": 3,
     "solution": false,
     "task": false
    }
   },
   "source": [
    "You get the same result!\n",
    "\n",
    "**QUESTION 2.9**\n",
    "\n",
    "Maybe you want to explore the distribution of body mass. Exploring the distribution is one of the most important things when looking at data; different models have different assumptions, and the distribution of data is usually one of those assumptions. No need to worry about models for now, but it's interesting to know ways in which you can explore distribution visually! Histograms are useful for this purpose.\n",
    "\n",
    "Make a histogram of penguin body mass, and store the result in a variable named `answer2.9`"
   ]
  },
  {
   "cell_type": "code",
   "execution_count": null,
   "metadata": {
    "deletable": false,
    "name": "question-2-10",
    "nbgrader": {
     "cell_type": "code",
     "checksum": "d8ad99564e846d5809d59c6ceb0dd041",
     "grade": false,
     "grade_id": "cell-4095f01855b8c595",
     "locked": false,
     "schema_version": 3,
     "solution": true,
     "task": false
    }
   },
   "outputs": [],
   "source": [
    "# answer2.9 <-\n",
    "# ggplot(FILL_THIS_IN, aes(x = FILL_THIS_IN)) +\n",
    "#  geom_histogram()\n",
    "\n",
    "# your code here\n",
    "fail() # No Answer - remove if you provide an answer\n",
    "print(answer2.9)"
   ]
  },
  {
   "cell_type": "code",
   "execution_count": null,
   "metadata": {
    "deletable": false,
    "editable": false,
    "name": "test-2-10",
    "nbgrader": {
     "cell_type": "code",
     "checksum": "f2c62170d77f2a2fb4a276985bba7b2f",
     "grade": true,
     "grade_id": "cell-bf5b8fd5f1bcc43b",
     "locked": true,
     "points": 1,
     "schema_version": 3,
     "solution": false,
     "task": false
    }
   },
   "outputs": [],
   "source": [
    "test_that(\"Question 2.9\", {\n",
    "    expect_true(\n",
    "        as.character(rlang::get_expr(answer2.9$mapping$x)) == \"body_mass_g\" ||\n",
    "        as.character(rlang::get_expr(answer2.9$layers[[1]]$mapping$x)) == \"body_mass_g\"\n",
    "    )\n",
    "    expect_true(\"GeomBar\" %in% class(answer2.9$layers[[1]]$geom))\n",
    "})\n",
    "cat(\"success!\")"
   ]
  },
  {
   "cell_type": "markdown",
   "metadata": {
    "deletable": false,
    "editable": false,
    "nbgrader": {
     "cell_type": "markdown",
     "checksum": "456298ac129d9c8f014f57caa7f3a99b",
     "grade": false,
     "grade_id": "cell-3e8f00ddb5f7db96",
     "locked": true,
     "schema_version": 3,
     "solution": false,
     "task": false
    }
   },
   "source": [
    "**QUESTION 2.10**\n",
    "\n",
    "There's another option besides plotting histograms, and that's to plot the _kernel density function_. This geom can be achieved with `geom_density()`.\n",
    "\n",
    "Plot the density of body mass for each species. Distinguish species by colour (if you decide to use the `fill` aesthetic, be sure to add some alpha transparency). Store your answer in a variable named `answer2.10`."
   ]
  },
  {
   "cell_type": "code",
   "execution_count": null,
   "metadata": {
    "deletable": false,
    "name": "question-2-11",
    "nbgrader": {
     "cell_type": "code",
     "checksum": "d895290383d471cbf6d3b0661c24d77d",
     "grade": false,
     "grade_id": "cell-74f35318290808f1",
     "locked": false,
     "schema_version": 3,
     "solution": true,
     "task": false
    }
   },
   "outputs": [],
   "source": [
    "# answer2.10 <- ggplot(COMPLETE_THE_CODE) + geom_density()\n",
    "\n",
    "# your code here\n",
    "fail() # No Answer - remove if you provide an answer\n",
    "print(answer2.10)"
   ]
  },
  {
   "cell_type": "code",
   "execution_count": null,
   "metadata": {
    "deletable": false,
    "editable": false,
    "name": "test-2-11",
    "nbgrader": {
     "cell_type": "code",
     "checksum": "168f70533549de2c6bdca349ff9c8b0b",
     "grade": true,
     "grade_id": "cell-e74c8cd01eea8f9c",
     "locked": true,
     "points": 1,
     "schema_version": 3,
     "solution": false,
     "task": false
    }
   },
   "outputs": [],
   "source": [
    "test_that(\"Question 2.10\", {\n",
    "    expect_true(\n",
    "        as.character(rlang::get_expr(answer2.10$mapping$x)) == \"body_mass_g\" ||\n",
    "        as.character(rlang::get_expr(answer2.10$layers[[1]]$mapping$x)) == \"body_mass_g\"\n",
    "    )\n",
    "    expect_true(\n",
    "        as.character(rlang::get_expr(answer2.10$mapping$colour)) == \"species\" ||\n",
    "        as.character(rlang::get_expr(answer2.10$layers[[1]]$mapping$colour)) == \"species\" ||\n",
    "        (\n",
    "            (\n",
    "                as.character(rlang::get_expr(answer2.10$mapping$fill)) == \"species\" ||\n",
    "                as.character(rlang::get_expr(answer2.10$layers[[1]]$mapping$fill)) == \"species\"\n",
    "            ) &&\n",
    "            expect_lt(answer2.10$layers[[1]]$geom_params$alpha, 1)\n",
    "        )\n",
    "    )\n",
    "    expect_true(\"GeomDensity\" %in% class(answer2.10$layers[[1]]$geom))\n",
    "})\n",
    "cat(\"success!\")"
   ]
  },
  {
   "cell_type": "markdown",
   "metadata": {
    "deletable": false,
    "editable": false,
    "nbgrader": {
     "cell_type": "markdown",
     "checksum": "cdc03a30bf49d7751e39bac5c893c4ed",
     "grade": false,
     "grade_id": "cell-2ee18ac5e2f68687",
     "locked": true,
     "schema_version": 3,
     "solution": false,
     "task": false
    }
   },
   "source": [
    "**QUESTION 2.11**\n",
    "\n",
    "Let's look at two more types of plot to once again explore the relationship between body mass and penguin species. Stripplots are univariate scatterplots, and they are a useful way of visualizing how, in this case, body mass is spread in each species. Specify \"species\" as x, and \"body_mass_g\" as y.\n",
    "\n",
    "Store the result in a variable named `answer2.11`"
   ]
  },
  {
   "cell_type": "code",
   "execution_count": null,
   "metadata": {
    "deletable": false,
    "name": "question-2-12",
    "nbgrader": {
     "cell_type": "code",
     "checksum": "24fa282a9c0d7469e5cc9c128676f60d",
     "grade": false,
     "grade_id": "cell-520bf151ca9cc28b",
     "locked": false,
     "schema_version": 3,
     "solution": true,
     "task": false
    }
   },
   "outputs": [],
   "source": [
    "# answer2.11 <-\n",
    "#  ggplot(FILL_THIS_IN, aes(COMPLETE_THE_CODE)) + geom_jitter()\n",
    "\n",
    "# your code here\n",
    "fail() # No Answer - remove if you provide an answer\n",
    "print(answer2.11)"
   ]
  },
  {
   "cell_type": "code",
   "execution_count": null,
   "metadata": {
    "deletable": false,
    "editable": false,
    "name": "test-2-12",
    "nbgrader": {
     "cell_type": "code",
     "checksum": "80011cd047ea4e513696710f4b93a86c",
     "grade": true,
     "grade_id": "cell-7adad7a8b2bcf435",
     "locked": true,
     "points": 1,
     "schema_version": 3,
     "solution": false,
     "task": false
    }
   },
   "outputs": [],
   "source": [
    "test_that(\"Question 2.11\", {\n",
    "    expect_true(\n",
    "        as.character(rlang::get_expr(answer2.11$mapping$x)) == \"species\" ||\n",
    "        as.character(rlang::get_expr(answer2.11$layers[[1]]$mapping$x)) == \"species\"\n",
    "    )\n",
    "    expect_true(\n",
    "        as.character(rlang::get_expr(answer2.11$mapping$y)) == \"body_mass_g\" ||\n",
    "        as.character(rlang::get_expr(answer2.11$layers[[1]]$mapping$y)) == \"body_mass_g\"\n",
    "    )    \n",
    "    expect_true(\"GeomPoint\" %in% class(answer2.11$layers[[1]]$geom))\n",
    "    expect_true(\"PositionJitter\" %in% class(answer2.11$layers[[1]]$position))\n",
    "})\n",
    "cat(\"success!\")"
   ]
  },
  {
   "cell_type": "markdown",
   "metadata": {
    "deletable": false,
    "editable": false,
    "nbgrader": {
     "cell_type": "markdown",
     "checksum": "535ab9f376631dc4c05368a8f6cd1d59",
     "grade": false,
     "grade_id": "cell-cbd4aedbc68ca1cd",
     "locked": true,
     "schema_version": 3,
     "solution": false,
     "task": false
    }
   },
   "source": [
    "**QUESTION 2.12**\n",
    "\n",
    "A similar option is a boxplot. Reproduce the plot in Question 2.11, but as boxplots instead of stripplots. Hint: use `geom_boxplot()`.\n",
    "\n",
    "Store your answer in a variable named `answer2.12`"
   ]
  },
  {
   "cell_type": "code",
   "execution_count": null,
   "metadata": {
    "deletable": false,
    "name": "question-2-13",
    "nbgrader": {
     "cell_type": "code",
     "checksum": "3658ac3c2d95f32c8c2d0864b58cfe9d",
     "grade": false,
     "grade_id": "cell-93e1df4dfca6935b",
     "locked": false,
     "schema_version": 3,
     "solution": true,
     "task": false
    }
   },
   "outputs": [],
   "source": [
    "# answer2.12 <- youranswer\n",
    "\n",
    "# your code here\n",
    "fail() # No Answer - remove if you provide an answer\n",
    "print(answer2.12)"
   ]
  },
  {
   "cell_type": "code",
   "execution_count": null,
   "metadata": {
    "deletable": false,
    "editable": false,
    "name": "test-2-13",
    "nbgrader": {
     "cell_type": "code",
     "checksum": "b5ab365533e3e2195d775424f821650e",
     "grade": true,
     "grade_id": "cell-15cf5e7794b5146a",
     "locked": true,
     "points": 1,
     "schema_version": 3,
     "solution": false,
     "task": false
    }
   },
   "outputs": [],
   "source": [
    "test_that(\"Question 2.12\", {\n",
    "    expect_true(\n",
    "        as.character(rlang::get_expr(answer2.12$mapping$x)) == \"species\" ||\n",
    "        as.character(rlang::get_expr(answer2.12$layers[[1]]$mapping$x)) == \"species\"\n",
    "    )\n",
    "    expect_true(\n",
    "        as.character(rlang::get_expr(answer2.12$mapping$y)) == \"body_mass_g\" ||\n",
    "        as.character(rlang::get_expr(answer2.12$layers[[1]]$mapping$y)) == \"body_mass_g\"\n",
    "    )    \n",
    "    expect_true(\"GeomBoxplot\" %in% class(answer2.12$layers[[1]]$geom))\n",
    "})\n",
    "cat(\"success!\")"
   ]
  },
  {
   "cell_type": "markdown",
   "metadata": {
    "deletable": false,
    "editable": false,
    "nbgrader": {
     "cell_type": "markdown",
     "checksum": "731fafe6d32bd4098117ff2e9d2b5158",
     "grade": false,
     "grade_id": "cell-e07de52b9129b791",
     "locked": true,
     "schema_version": 3,
     "solution": false,
     "task": false
    }
   },
   "source": [
    "**Congratulations!** You've finished Part B of Worksheet 2, and with that, Worksheet 2 overall. Which also means that you've completed 3 weeks of STAT545A, and you're well on your way to being an R pro. Not quite done with practicing data viz with ggplot? We'll be diving deeper into plotting next week, but here are a few resources if you want to explore in the meantime:\n",
    "\n",
    "+ [Jenny Bryan's ggplot2 tutorial](https://github.com/jennybc/ggplot2-tutorial). Has lots of examples, but less dialogue.\n",
    "+ [R4DS Data Viz chapter](https://r4ds.had.co.nz/data-visualisation.html). With a comprehensive walk-through style.\n",
    "+ [Chapter 2 of the ggplot book](http://webcat2.library.ubc.ca/vwebv/holdingsInfo?bibId=8489511). Even more detailed!\n",
    "\n"
   ]
  }
 ],
 "metadata": {
  "jupytext": {
   "cell_metadata_filter": "name,eval,message,fig.height,warning,fig.width,-all",
   "notebook_metadata_filter": "-all",
   "text_representation": {
    "extension": ".Rmd",
    "format_name": "rmarkdown"
   }
  },
  "kernelspec": {
   "display_name": "R",
   "language": "R",
   "name": "ir"
  },
  "language_info": {
   "codemirror_mode": "r",
   "file_extension": ".r",
   "mimetype": "text/x-r-source",
   "name": "R",
   "pygments_lexer": "r",
   "version": "4.0.2"
  }
 },
 "nbformat": 4,
 "nbformat_minor": 4
}
