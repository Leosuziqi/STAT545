{
 "cells": [
  {
   "cell_type": "markdown",
   "metadata": {
    "deletable": false,
    "editable": false,
    "lines_to_next_cell": 0,
    "nbgrader": {
     "cell_type": "markdown",
     "checksum": "8da7edd0b3e7c13c44d86f758f26420c",
     "grade": false,
     "grade_id": "cell-a52fdbcf333bb582",
     "locked": true,
     "schema_version": 3,
     "solution": false,
     "task": false
    }
   },
   "source": [
    "# Worksheet 06a: File Input/Output\n",
    "\n",
    "_**Leader**: Victor Yuan **Reviewer:** Almas Khan **ASDA Assist**: David Kepplinger_\n",
    "\n",
    "*Version 0*\n",
    "\n",
    "This is the corresponding worksheet for Class 12 (Oct 20, 2020) & Class 13 (Oct 22, 2020).\n",
    "\n",
    "There are 13 questions. To get 100% on this worksheet, you must get correct 0.4*13 = __5 questions__.\n",
    "\n",
    "Some notes:\n",
    "\n",
    "- Remember to pay attention to the variable name to store your answer in, or else it will not be autograded correctly.\n",
    "- To ensure everything works properly, remember to run all code cells, not just the ones with your answer."
   ]
  },
  {
   "cell_type": "markdown",
   "metadata": {
    "deletable": false,
    "editable": false,
    "lines_to_next_cell": 0,
    "nbgrader": {
     "cell_type": "markdown",
     "checksum": "9a76a5a2add07858350dc5188a69ffaf",
     "grade": false,
     "grade_id": "cell-c67ecef016e98418",
     "locked": true,
     "schema_version": 3,
     "solution": false,
     "task": false
    }
   },
   "source": [
    "If you want to use packages which are not yet installed, you can use the code cell below to install them. You might not have the R package **repex** installed."
   ]
  },
  {
   "cell_type": "code",
   "execution_count": 5,
   "metadata": {},
   "outputs": [
    {
     "name": "stderr",
     "output_type": "stream",
     "text": [
      "Warning message in download.file(url, destfile, method, mode = \"wb\", ...):\n",
      "\"cannot open URL 'https://cran.r-project.org/bin/windows/contrib/3.6/here_0.1.zip': HTTP status was '503 Forwarding failure'\"\n"
     ]
    },
    {
     "name": "stdout",
     "output_type": "stream",
     "text": [
      "Error in download.file(url, destfile, method, mode = \"wb\", ...) : \n",
      "  无法打开URL'https://cran.r-project.org/bin/windows/contrib/3.6/here_0.1.zip'\n"
     ]
    },
    {
     "name": "stderr",
     "output_type": "stream",
     "text": [
      "Warning message in download.packages(pkgs, destdir = tmpd, available = available, :\n",
      "\"download of package 'here' failed\"\n",
      "Warning message in download.file(url, destfile, method, mode = \"wb\", ...):\n",
      "\"cannot open URL 'https://cran.r-project.org/bin/windows/contrib/3.6/testthat_2.3.2.zip': HTTP status was '503 Forwarding failure'\"\n"
     ]
    },
    {
     "name": "stdout",
     "output_type": "stream",
     "text": [
      "Error in download.file(url, destfile, method, mode = \"wb\", ...) : \n",
      "  无法打开URL'https://cran.r-project.org/bin/windows/contrib/3.6/testthat_2.3.2.zip'\n"
     ]
    },
    {
     "name": "stderr",
     "output_type": "stream",
     "text": [
      "Warning message in download.packages(pkgs, destdir = tmpd, available = available, :\n",
      "\"download of package 'testthat' failed\"\n",
      "also installing the dependencies 'stringi', 'knitr', 'yaml', 'tinytex', 'xfun', 'stringr', 'clipr', 'fs', 'rmarkdown', 'whisker'\n",
      "\n",
      "\n"
     ]
    },
    {
     "name": "stdout",
     "output_type": "stream",
     "text": [
      "\n",
      "  There are binary versions available but the source versions are later:\n",
      "          binary source needs_compilation\n",
      "stringi    1.4.6  1.5.3              TRUE\n",
      "rmarkdown    2.4    2.5             FALSE\n",
      "\n",
      "  Binaries will be installed\n"
     ]
    },
    {
     "name": "stderr",
     "output_type": "stream",
     "text": [
      "Warning message in download.file(url, destfile, method, mode = \"wb\", ...):\n",
      "\"cannot open URL 'https://cran.r-project.org/bin/windows/contrib/3.6/stringi_1.4.6.zip': HTTP status was '503 Forwarding failure'\"\n"
     ]
    },
    {
     "name": "stdout",
     "output_type": "stream",
     "text": [
      "Error in download.file(url, destfile, method, mode = \"wb\", ...) : \n",
      "  无法打开URL'https://cran.r-project.org/bin/windows/contrib/3.6/stringi_1.4.6.zip'\n"
     ]
    },
    {
     "name": "stderr",
     "output_type": "stream",
     "text": [
      "Warning message in download.packages(pkgs, destdir = tmpd, available = available, :\n",
      "\"download of package 'stringi' failed\"\n",
      "Warning message in download.file(url, destfile, method, mode = \"wb\", ...):\n",
      "\"cannot open URL 'https://cran.r-project.org/bin/windows/contrib/3.6/knitr_1.30.zip': HTTP status was '503 Forwarding failure'\"\n"
     ]
    },
    {
     "name": "stdout",
     "output_type": "stream",
     "text": [
      "Error in download.file(url, destfile, method, mode = \"wb\", ...) : \n",
      "  无法打开URL'https://cran.r-project.org/bin/windows/contrib/3.6/knitr_1.30.zip'\n"
     ]
    },
    {
     "name": "stderr",
     "output_type": "stream",
     "text": [
      "Warning message in download.packages(pkgs, destdir = tmpd, available = available, :\n",
      "\"download of package 'knitr' failed\"\n",
      "Warning message in download.file(url, destfile, method, mode = \"wb\", ...):\n",
      "\"cannot open URL 'https://cran.r-project.org/bin/windows/contrib/3.6/yaml_2.2.1.zip': HTTP status was '503 Forwarding failure'\"\n"
     ]
    },
    {
     "name": "stdout",
     "output_type": "stream",
     "text": [
      "Error in download.file(url, destfile, method, mode = \"wb\", ...) : \n",
      "  无法打开URL'https://cran.r-project.org/bin/windows/contrib/3.6/yaml_2.2.1.zip'\n"
     ]
    },
    {
     "name": "stderr",
     "output_type": "stream",
     "text": [
      "Warning message in download.packages(pkgs, destdir = tmpd, available = available, :\n",
      "\"download of package 'yaml' failed\"\n",
      "Warning message in download.file(url, destfile, method, mode = \"wb\", ...):\n",
      "\"cannot open URL 'https://cran.r-project.org/bin/windows/contrib/3.6/tinytex_0.26.zip': HTTP status was '503 Forwarding failure'\"\n"
     ]
    },
    {
     "name": "stdout",
     "output_type": "stream",
     "text": [
      "Error in download.file(url, destfile, method, mode = \"wb\", ...) : \n",
      "  无法打开URL'https://cran.r-project.org/bin/windows/contrib/3.6/tinytex_0.26.zip'\n"
     ]
    },
    {
     "name": "stderr",
     "output_type": "stream",
     "text": [
      "Warning message in download.packages(pkgs, destdir = tmpd, available = available, :\n",
      "\"download of package 'tinytex' failed\"\n",
      "Warning message in download.file(url, destfile, method, mode = \"wb\", ...):\n",
      "\"cannot open URL 'https://cran.r-project.org/bin/windows/contrib/3.6/xfun_0.18.zip': HTTP status was '503 Forwarding failure'\"\n"
     ]
    },
    {
     "name": "stdout",
     "output_type": "stream",
     "text": [
      "Error in download.file(url, destfile, method, mode = \"wb\", ...) : \n",
      "  无法打开URL'https://cran.r-project.org/bin/windows/contrib/3.6/xfun_0.18.zip'\n"
     ]
    },
    {
     "name": "stderr",
     "output_type": "stream",
     "text": [
      "Warning message in download.packages(pkgs, destdir = tmpd, available = available, :\n",
      "\"download of package 'xfun' failed\"\n",
      "Warning message in download.file(url, destfile, method, mode = \"wb\", ...):\n",
      "\"cannot open URL 'https://cran.r-project.org/bin/windows/contrib/3.6/stringr_1.4.0.zip': HTTP status was '503 Forwarding failure'\"\n"
     ]
    },
    {
     "name": "stdout",
     "output_type": "stream",
     "text": [
      "Error in download.file(url, destfile, method, mode = \"wb\", ...) : \n",
      "  无法打开URL'https://cran.r-project.org/bin/windows/contrib/3.6/stringr_1.4.0.zip'\n"
     ]
    },
    {
     "name": "stderr",
     "output_type": "stream",
     "text": [
      "Warning message in download.packages(pkgs, destdir = tmpd, available = available, :\n",
      "\"download of package 'stringr' failed\"\n",
      "Warning message in download.file(url, destfile, method, mode = \"wb\", ...):\n",
      "\"cannot open URL 'https://cran.r-project.org/bin/windows/contrib/3.6/clipr_0.7.1.zip': HTTP status was '503 Forwarding failure'\"\n"
     ]
    },
    {
     "name": "stdout",
     "output_type": "stream",
     "text": [
      "Error in download.file(url, destfile, method, mode = \"wb\", ...) : \n",
      "  无法打开URL'https://cran.r-project.org/bin/windows/contrib/3.6/clipr_0.7.1.zip'\n"
     ]
    },
    {
     "name": "stderr",
     "output_type": "stream",
     "text": [
      "Warning message in download.packages(pkgs, destdir = tmpd, available = available, :\n",
      "\"download of package 'clipr' failed\"\n",
      "Warning message in download.file(url, destfile, method, mode = \"wb\", ...):\n",
      "\"cannot open URL 'https://cran.r-project.org/bin/windows/contrib/3.6/fs_1.5.0.zip': HTTP status was '503 Forwarding failure'\"\n"
     ]
    },
    {
     "name": "stdout",
     "output_type": "stream",
     "text": [
      "Error in download.file(url, destfile, method, mode = \"wb\", ...) : \n",
      "  无法打开URL'https://cran.r-project.org/bin/windows/contrib/3.6/fs_1.5.0.zip'\n"
     ]
    },
    {
     "name": "stderr",
     "output_type": "stream",
     "text": [
      "Warning message in download.packages(pkgs, destdir = tmpd, available = available, :\n",
      "\"download of package 'fs' failed\"\n",
      "Warning message in download.file(url, destfile, method, mode = \"wb\", ...):\n",
      "\"cannot open URL 'https://cran.r-project.org/bin/windows/contrib/3.6/whisker_0.4.zip': HTTP status was '503 Forwarding failure'\"\n"
     ]
    },
    {
     "name": "stdout",
     "output_type": "stream",
     "text": [
      "Error in download.file(url, destfile, method, mode = \"wb\", ...) : \n",
      "  无法打开URL'https://cran.r-project.org/bin/windows/contrib/3.6/whisker_0.4.zip'\n"
     ]
    },
    {
     "name": "stderr",
     "output_type": "stream",
     "text": [
      "Warning message in download.packages(pkgs, destdir = tmpd, available = available, :\n",
      "\"download of package 'whisker' failed\"\n",
      "Warning message in download.file(url, destfile, method, mode = \"wb\", ...):\n",
      "\"cannot open URL 'https://cran.r-project.org/bin/windows/contrib/3.6/reprex_0.3.0.zip': HTTP status was '503 Forwarding failure'\"\n"
     ]
    },
    {
     "name": "stdout",
     "output_type": "stream",
     "text": [
      "Error in download.file(url, destfile, method, mode = \"wb\", ...) : \n",
      "  无法打开URL'https://cran.r-project.org/bin/windows/contrib/3.6/reprex_0.3.0.zip'\n"
     ]
    },
    {
     "name": "stderr",
     "output_type": "stream",
     "text": [
      "Warning message in download.packages(pkgs, destdir = tmpd, available = available, :\n",
      "\"download of package 'reprex' failed\"\n",
      "installing the source package 'rmarkdown'\n",
      "\n",
      "\n",
      "Warning message in download.file(url, destfile, method, mode = \"wb\", ...):\n",
      "\"cannot open URL 'https://cran.r-project.org/src/contrib/rmarkdown_2.5.tar.gz': HTTP status was '503 Forwarding failure'\"\n"
     ]
    },
    {
     "name": "stdout",
     "output_type": "stream",
     "text": [
      "Error in download.file(url, destfile, method, mode = \"wb\", ...) : \n",
      "  无法打开URL'https://cran.r-project.org/src/contrib/rmarkdown_2.5.tar.gz'\n"
     ]
    },
    {
     "name": "stderr",
     "output_type": "stream",
     "text": [
      "Warning message in download.packages(pkgs, destdir = tmpd, available = available, :\n",
      "\"download of package 'rmarkdown' failed\"\n"
     ]
    }
   ],
   "source": [
    "# Install additional packages, e.g.\n",
    " install.packages(\"here\")\n",
    "install.packages(\"testthat\")\n",
    " install.packages(\"reprex\")"
   ]
  },
  {
   "cell_type": "markdown",
   "metadata": {
    "deletable": false,
    "editable": false,
    "lines_to_next_cell": 0,
    "nbgrader": {
     "cell_type": "markdown",
     "checksum": "b6a7f1bab95d5bb86f82550c3568ba6d",
     "grade": false,
     "grade_id": "cell-3bb1633637c2d81e",
     "locked": true,
     "schema_version": 3,
     "solution": false,
     "task": false
    }
   },
   "source": [
    "Use the following code cell to load any additional packages you want to use for this worksheet."
   ]
  },
  {
   "cell_type": "code",
   "execution_count": 6,
   "metadata": {},
   "outputs": [
    {
     "name": "stderr",
     "output_type": "stream",
     "text": [
      "also installing the dependencies 'lattice', 'colorspace', 'sys', 'nlme', 'Matrix', 'farver', 'labeling', 'munsell', 'RColorBrewer', 'viridisLite', 'askpass', 'rematch', 'knitr', 'yaml', 'tinytex', 'xfun', 'generics', 'DBI', 'lifecycle', 'tidyselect', 'blob', 'vctrs', 'gtable', 'isoband', 'MASS', 'mgcv', 'scales', 'pkgconfig', 'curl', 'openssl', 'utf8', 'clipr', 'BH', 'cpp11', 'cellranger', 'progress', 'fs', 'rmarkdown', 'whisker', 'selectr', 'stringi', 'broom', 'dbplyr', 'dplyr', 'forcats', 'ggplot2', 'haven', 'hms', 'httr', 'lubridate', 'modelr', 'pillar', 'purrr', 'readr', 'readxl', 'reprex', 'rvest', 'stringr', 'tibble', 'tidyr', 'xml2'\n",
      "\n",
      "\n"
     ]
    },
    {
     "name": "stdout",
     "output_type": "stream",
     "text": [
      "\n",
      "  There are binary versions available but the source versions are later:\n",
      "          binary source needs_compilation\n",
      "labeling     0.3  0.4.2             FALSE\n",
      "rmarkdown    2.4    2.5             FALSE\n",
      "stringi    1.4.6  1.5.3              TRUE\n",
      "broom      0.7.1  0.7.2             FALSE\n",
      "\n",
      "  Binaries will be installed\n"
     ]
    },
    {
     "name": "stderr",
     "output_type": "stream",
     "text": [
      "Warning message in download.file(url, destfile, method, mode = \"wb\", ...):\n",
      "\"InternetOpenUrl失败:’操作超时'\"\n"
     ]
    },
    {
     "name": "stdout",
     "output_type": "stream",
     "text": [
      "Error in download.file(url, destfile, method, mode = \"wb\", ...) : \n",
      "  无法打开URL'https://cran.r-project.org/bin/windows/contrib/3.6/pkgconfig_2.0.3.zip'\n"
     ]
    },
    {
     "name": "stderr",
     "output_type": "stream",
     "text": [
      "Warning message in download.packages(pkgs, destdir = tmpd, available = available, :\n",
      "\"download of package 'pkgconfig' failed\"\n",
      "Warning message in download.file(url, destfile, method, mode = \"wb\", ...):\n",
      "\"downloaded length 14794752 != reported length 18270741\"\n"
     ]
    },
    {
     "name": "stdout",
     "output_type": "stream",
     "text": [
      "package 'lattice' successfully unpacked and MD5 sums checked\n",
      "package 'colorspace' successfully unpacked and MD5 sums checked\n",
      "package 'sys' successfully unpacked and MD5 sums checked\n",
      "package 'nlme' successfully unpacked and MD5 sums checked\n",
      "package 'Matrix' successfully unpacked and MD5 sums checked\n",
      "package 'farver' successfully unpacked and MD5 sums checked\n",
      "package 'munsell' successfully unpacked and MD5 sums checked\n",
      "package 'RColorBrewer' successfully unpacked and MD5 sums checked\n",
      "package 'viridisLite' successfully unpacked and MD5 sums checked\n",
      "package 'askpass' successfully unpacked and MD5 sums checked\n",
      "package 'rematch' successfully unpacked and MD5 sums checked\n",
      "package 'knitr' successfully unpacked and MD5 sums checked\n",
      "package 'yaml' successfully unpacked and MD5 sums checked\n",
      "package 'tinytex' successfully unpacked and MD5 sums checked\n",
      "package 'xfun' successfully unpacked and MD5 sums checked\n",
      "package 'generics' successfully unpacked and MD5 sums checked\n",
      "package 'DBI' successfully unpacked and MD5 sums checked\n",
      "package 'lifecycle' successfully unpacked and MD5 sums checked\n",
      "package 'tidyselect' successfully unpacked and MD5 sums checked\n",
      "package 'blob' successfully unpacked and MD5 sums checked\n",
      "package 'vctrs' successfully unpacked and MD5 sums checked\n",
      "package 'gtable' successfully unpacked and MD5 sums checked\n",
      "package 'isoband' successfully unpacked and MD5 sums checked\n",
      "package 'MASS' successfully unpacked and MD5 sums checked\n",
      "package 'mgcv' successfully unpacked and MD5 sums checked\n",
      "package 'scales' successfully unpacked and MD5 sums checked\n",
      "package 'curl' successfully unpacked and MD5 sums checked\n",
      "package 'openssl' successfully unpacked and MD5 sums checked\n",
      "package 'utf8' successfully unpacked and MD5 sums checked\n",
      "package 'clipr' successfully unpacked and MD5 sums checked\n"
     ]
    },
    {
     "name": "stderr",
     "output_type": "stream",
     "text": [
      "Warning message in unzip(zipname, exdir = dest):\n",
      "\"从zip文件中抽取1时出了错\"\n",
      "Warning message in read.dcf(file.path(pkgname, \"DESCRIPTION\"), c(\"Package\", \"Type\")):\n",
      "\"无法打开压缩文件'BH/DESCRIPTION'，可能是因为'No such file or directory'\"\n"
     ]
    },
    {
     "ename": "ERROR",
     "evalue": "Error in read.dcf(file.path(pkgname, \"DESCRIPTION\"), c(\"Package\", \"Type\")): 无法打开链结\n",
     "output_type": "error",
     "traceback": [
      "Error in read.dcf(file.path(pkgname, \"DESCRIPTION\"), c(\"Package\", \"Type\")): 无法打开链结\nTraceback:\n",
      "1. install.packages(\"tidyverse\")",
      "2. .install.winbinary(pkgs = bins, lib = lib, contriburl = contrib.url(repos, \n .     type2), method = method, available = av2, destdir = destdir, \n .     dependencies = NULL, libs_only = libs_only, quiet = quiet, \n .     ...)",
      "3. unpackPkgZip(foundpkgs[okp, 2L], foundpkgs[okp, 1L], lib, libs_only, \n .     lock)",
      "4. read.dcf(file.path(pkgname, \"DESCRIPTION\"), c(\"Package\", \"Type\"))"
     ]
    }
   ],
   "source": [
    "# Load packages, e.g.\n",
    " install.packages(\"tidyverse\")\n",
    " install.packages(\"gapminder\")\n",
    "# library(devtools)"
   ]
  },
  {
   "cell_type": "markdown",
   "metadata": {
    "deletable": false,
    "editable": false,
    "nbgrader": {
     "cell_type": "markdown",
     "checksum": "4bd32a1bd38064a5ffb75a75aefa528f",
     "grade": false,
     "grade_id": "cell-4950c9707fd0acb4",
     "locked": true,
     "schema_version": 3,
     "solution": false,
     "task": false
    }
   },
   "source": [
    "Run the code cell below to load the packages."
   ]
  },
  {
   "cell_type": "code",
   "execution_count": 4,
   "metadata": {
    "deletable": false,
    "editable": false,
    "nbgrader": {
     "cell_type": "code",
     "checksum": "900a7578ae02823393bceda3f78ca4f2",
     "grade": false,
     "grade_id": "cell-c48a21406e8bb917",
     "locked": true,
     "schema_version": 3,
     "solution": false,
     "task": false
    }
   },
   "outputs": [
    {
     "ename": "ERROR",
     "evalue": "Error in library(tidyverse): there is no package called 'tidyverse'\n",
     "output_type": "error",
     "traceback": [
      "Error in library(tidyverse): there is no package called 'tidyverse'\nTraceback:\n",
      "1. suppressPackageStartupMessages(library(tidyverse))",
      "2. withCallingHandlers(expr, packageStartupMessage = function(c) invokeRestart(\"muffleMessage\"))",
      "3. library(tidyverse)"
     ]
    }
   ],
   "source": [
    "suppressPackageStartupMessages(library(tidyverse))\n",
    "suppressPackageStartupMessages(library(gapminder))\n",
    "suppressPackageStartupMessages(library(here))\n",
    "suppressPackageStartupMessages(library(testthat))\n",
    "suppressPackageStartupMessages(library(reprex))"
   ]
  },
  {
   "cell_type": "markdown",
   "metadata": {
    "deletable": false,
    "editable": false,
    "nbgrader": {
     "cell_type": "markdown",
     "checksum": "84ead830ab6721345d016e08b3100645",
     "grade": false,
     "grade_id": "cell-ff4d90bac29bce18",
     "locked": true,
     "schema_version": 3,
     "solution": false,
     "task": false
    }
   },
   "source": [
    "## TOPIC 1: Writing and reading data from disk\n",
    "\n",
    "For writing R objects to your computer, and reading tabular data into R, we can use the `tidyverse` package `readr`, which is loaded when running `library(tidyverse)`\n",
    "\n",
    "Let’s first load the built-in gapminder dataset and the tidyverse:\n",
    "\n",
    "Next, let’s filter the data only from 2007 and only in the Asia continent and save it to a variable."
   ]
  },
  {
   "cell_type": "code",
   "execution_count": null,
   "metadata": {
    "deletable": false,
    "editable": false,
    "nbgrader": {
     "cell_type": "code",
     "checksum": "226aac86e0017f0d0f84960c9150d439",
     "grade": false,
     "grade_id": "cell-9d75f3c8b0c06607",
     "locked": true,
     "schema_version": 3,
     "solution": false,
     "task": false
    }
   },
   "outputs": [],
   "source": [
    "gap_asia_2007 <- gapminder %>% filter(year == 2007, continent == \"Asia\")\n",
    "gap_asia_2007 %>%\n",
    "  head()"
   ]
  },
  {
   "cell_type": "markdown",
   "metadata": {
    "deletable": false,
    "editable": false,
    "nbgrader": {
     "cell_type": "markdown",
     "checksum": "b2ef4eab30dc2ea59a253b737df6ded9",
     "grade": false,
     "grade_id": "cell-92d93e5de5944b49",
     "locked": true,
     "schema_version": 3,
     "solution": false,
     "task": false
    }
   },
   "source": [
    "#### Question 1.1\n",
    "\n",
    "Write `gap_asia_2007` to a comma-separated value (csv) file named `exported_file.csv` with just one command:\n",
    "\n",
    "```\n",
    "write_csv(FILL_THIS_IN, \"exported_file.csv\")\n",
    "```"
   ]
  },
  {
   "cell_type": "code",
   "execution_count": null,
   "metadata": {
    "deletable": false,
    "lines_to_next_cell": 0,
    "nbgrader": {
     "cell_type": "code",
     "checksum": "5745abbebd52c72e7f8187ecaa89b317",
     "grade": false,
     "grade_id": "cell-dc036d146cef2025",
     "locked": false,
     "schema_version": 3,
     "solution": true,
     "task": false
    }
   },
   "outputs": [],
   "source": [
    "# your code here\n",
    "fail() # No Answer - remove if you provide an answer"
   ]
  },
  {
   "cell_type": "code",
   "execution_count": null,
   "metadata": {
    "deletable": false,
    "editable": false,
    "nbgrader": {
     "cell_type": "code",
     "checksum": "a0dacd7ccc8c6d6b78d3fb4ddfd274da",
     "grade": true,
     "grade_id": "cell-f8b2ff75e5097542",
     "locked": true,
     "points": 1,
     "schema_version": 3,
     "solution": false,
     "task": false
    }
   },
   "outputs": [],
   "source": [
    "test_that(\"Question 1.1\", {\n",
    "    expect_true(file.exists('exported_file.csv'))\n",
    "    with(read.table('exported_file.csv', header = TRUE, sep = ',', stringsAsFactors = FALSE), {\n",
    "        ctr_order <- order(enc2utf8(country), method = 'radix')\n",
    "        expect_known_hash(country[ctr_order], '502e6665c327bdbc211f89c785ee853b')\n",
    "        expect_known_hash(as.integer(pop[ctr_order]), '8bb3c4cc0e3a3380ff82cbd9fe83b2cb')\n",
    "    })\n",
    "})\n",
    "print(\"Success!\")"
   ]
  },
  {
   "cell_type": "markdown",
   "metadata": {
    "deletable": false,
    "editable": false,
    "nbgrader": {
     "cell_type": "markdown",
     "checksum": "970ba1696e811c2f6f1ffccbc4bd52bd",
     "grade": false,
     "grade_id": "cell-95e05c5acbdd7a28",
     "locked": true,
     "schema_version": 3,
     "solution": false,
     "task": false
    }
   },
   "source": [
    "#### Question 1.2\n",
    "\n",
    "Let's use the function `read_csv` to  read in `exported_file.csv` back into R and store this as the variable `gap_asia_2007_in`.\n",
    "\n",
    "```\n",
    "gap_asia_2007_in <- read_csv(\"FILL_THIS_IN\")\n",
    "\n",
    "```"
   ]
  },
  {
   "cell_type": "code",
   "execution_count": null,
   "metadata": {
    "deletable": false,
    "lines_to_next_cell": 0,
    "nbgrader": {
     "cell_type": "code",
     "checksum": "ef92716bb6c3bf250e28b9f0209c4df2",
     "grade": false,
     "grade_id": "cell-0f65d0f778ec6287",
     "locked": false,
     "schema_version": 3,
     "solution": true,
     "task": false
    }
   },
   "outputs": [],
   "source": [
    "# your code here\n",
    "fail() # No Answer - remove if you provide an answer"
   ]
  },
  {
   "cell_type": "code",
   "execution_count": null,
   "metadata": {
    "deletable": false,
    "editable": false,
    "nbgrader": {
     "cell_type": "code",
     "checksum": "db3cdc3adf5d62eb0f6f16000504d5a9",
     "grade": true,
     "grade_id": "cell-8448390b94500381",
     "locked": true,
     "points": 1,
     "schema_version": 3,
     "solution": false,
     "task": false
    }
   },
   "outputs": [],
   "source": [
    "test_that(\"Question 1.2\", {\n",
    "    expect_known_hash(colnames(gap_asia_2007_in), 'cc76c54ddad925d63e472c77cd7bd7bf')\n",
    "    expect_known_hash(sapply(gap_asia_2007_in, typeof), '68eb6593a9f582ea9b4aec7862df6be4')\n",
    "    with(gap_asia_2007_in, {\n",
    "        ctr_order <- order(enc2utf8(country), method = 'radix')\n",
    "        expect_known_hash(country[ctr_order], '502e6665c327bdbc211f89c785ee853b')\n",
    "        expect_known_hash(unique(continent), 'a500021b40bafb5d1ad20bed151aab68')\n",
    "        expect_known_hash(round(lifeExp[ctr_order], 2), '9da5c364cf95548c95ea94de3193202b')\n",
    "    })\n",
    "})\n",
    "print(\"Success!\")"
   ]
  },
  {
   "cell_type": "markdown",
   "metadata": {
    "deletable": false,
    "editable": false,
    "nbgrader": {
     "cell_type": "markdown",
     "checksum": "5e0c4ee2111751ff56897037151df37a",
     "grade": false,
     "grade_id": "cell-ab66c1758a1353d7",
     "locked": true,
     "schema_version": 3,
     "solution": false,
     "task": false
    }
   },
   "source": [
    "Notice the output of running `read_csv`. This tells us about the types of variables that were read in. It's a good habit to check this every time you run a `read_` function. Sometimes we might want to change how these variable types are specified...\n",
    "\n",
    "#### Question 1.3\n",
    "\n",
    "Let's use the function `read_csv` to  read in `exported_file.csv` back into R and store this as the variable `gap_asia_2007_in_cspec`.\n",
    "\n",
    "But! This time let's specify that we want the:\n",
    "\n",
    "- columns `country` and `continent` to be `factors`\n",
    "- all other column specification to be automatically determined by `read_csv`\n",
    "\n",
    "```\n",
    "gap_asia_2007_in_cspec <- FILL_THIS_IN(\n",
    "  \"FILL_THIS_IN.csv\", \n",
    "  col_types = cols(\n",
    "    country = col_factor(),\n",
    "    continent = FILL_THIS_IN\n",
    "  ))\n",
    "```"
   ]
  },
  {
   "cell_type": "code",
   "execution_count": null,
   "metadata": {
    "deletable": false,
    "nbgrader": {
     "cell_type": "code",
     "checksum": "92e1bb9c573f09c27e6ee5cc2c7373c4",
     "grade": false,
     "grade_id": "cell-339f9a2961c1b8f9",
     "locked": false,
     "schema_version": 3,
     "solution": true,
     "task": false
    }
   },
   "outputs": [],
   "source": [
    "# your code here\n",
    "fail() # No Answer - remove if you provide an answer"
   ]
  },
  {
   "cell_type": "code",
   "execution_count": null,
   "metadata": {
    "deletable": false,
    "editable": false,
    "nbgrader": {
     "cell_type": "code",
     "checksum": "91e5fdeb28a11a06894e64fe2a0e8ab9",
     "grade": true,
     "grade_id": "cell-0667fd5ae48a80f6",
     "locked": true,
     "points": 0,
     "schema_version": 3,
     "solution": false,
     "task": false
    }
   },
   "outputs": [],
   "source": [
    "test_that(\"Question 1.2\", {\n",
    "    expect_known_hash(sapply(gap_asia_2007_in_cspec, typeof), 'd3ed7d3a07fad8143eb7dd22d88d62a3')\n",
    "    with(gap_asia_2007_in_cspec, {\n",
    "        expect_known_hash(sort(enc2utf8(levels(country)), method = 'radix'), '502e6665c327bdbc211f89c785ee853b')\n",
    "        expect_known_hash(as.integer(continent), 'ccdd4647040ccea8f1863ae5e101edf9')\n",
    "    })\n",
    "})\n",
    "print(\"Success!\")"
   ]
  },
  {
   "cell_type": "markdown",
   "metadata": {
    "deletable": false,
    "editable": false,
    "nbgrader": {
     "cell_type": "markdown",
     "checksum": "a1cfc9cb844356c01b45be50c4acc441",
     "grade": false,
     "grade_id": "cell-d2c47ea01eefe9d8",
     "locked": true,
     "schema_version": 3,
     "solution": false,
     "task": false
    }
   },
   "source": [
    "### Filepaths with `here::here()`\n",
    "\n",
    "Up until now, we always wrote and read files to our current directory. If we wanted to use a different folder on our computer, we could specify something like: \n",
    "\n",
    "- `Documents/STAT545/exported_file.csv` - Mac uses forward slashes\n",
    "- `Documents\\STAT545\\exported_file.csv` - Windows uses backward slashes\n",
    "\n",
    "However, if you wanted to make your Rproj more portable and accessible to more users in a cross-platform (between Mac, Unix, Windows users), rather than specifying every path explicitly, `here::here()` allows you to set relative paths much more easily.\n",
    "\n",
    "#### Question 1.4\n",
    "\n",
    "First, run the function `here::here()`. Note where this location is on your computer.\n",
    "\n",
    "Second, use your file browser to go to the location returned by `here::here()`, create a folder called **\"worksheet_06a_data\"**.\n",
    "\n",
    "Lastly,  filter `gap_asia_2007` to when `country` is equal to `\"Pakistan\"`. Then, write this to a `csv` file in your newly created folder called *\"worksheet_06a_data\"*.\n",
    "\n",
    "```\n",
    "here::here()\n",
    "write_csv(gap_asia_2007, FILL_THIS_IN(\"worksheet_06a_data\", FILL_THIS_IN.csv))\n",
    "```"
   ]
  },
  {
   "cell_type": "code",
   "execution_count": null,
   "metadata": {
    "deletable": false,
    "lines_to_next_cell": 0,
    "nbgrader": {
     "cell_type": "code",
     "checksum": "7be5618c3256dd82efd204024798f8cb",
     "grade": false,
     "grade_id": "cell-537277f01997b17c",
     "locked": false,
     "schema_version": 3,
     "solution": true,
     "task": false
    }
   },
   "outputs": [],
   "source": [
    "# your code here\n",
    "fail() # No Answer - remove if you provide an answer"
   ]
  },
  {
   "cell_type": "code",
   "execution_count": null,
   "metadata": {
    "deletable": false,
    "editable": false,
    "nbgrader": {
     "cell_type": "code",
     "checksum": "bbc52340ccdea7fcb6a716d9c821738a",
     "grade": true,
     "grade_id": "cell-5aacbda4d51ef339",
     "locked": true,
     "points": 1,
     "schema_version": 3,
     "solution": false,
     "task": false
    }
   },
   "outputs": [],
   "source": [
    "test_that(\"Question 1.4\", {\n",
    "    expect_true(dir.exists(here::here('worksheet_06a_data')))\n",
    "    expect_true(file.exists(here::here('worksheet_06a_data', 'here_exported_file.csv')))\n",
    "    expect_setequal(tools::md5sum(\"exported_file.csv\"), tools::md5sum(here::here('worksheet_06a_data', 'here_exported_file.csv')))\n",
    "    with(read.table(here::here('worksheet_06a_data', 'here_exported_file.csv'), header = TRUE, sep = ',', stringsAsFactors = FALSE), {\n",
    "        ctr_order <- order(enc2utf8(country), method = 'radix')\n",
    "        expect_known_hash(country[ctr_order], '502e6665c327bdbc211f89c785ee853b')\n",
    "        expect_known_hash(round(gdpPercap[ctr_order], 2), '78771a63570dc79433e9587793969a73')\n",
    "    })\n",
    "})\n",
    "print(\"Success!\")"
   ]
  },
  {
   "cell_type": "markdown",
   "metadata": {
    "deletable": false,
    "editable": false,
    "nbgrader": {
     "cell_type": "markdown",
     "checksum": "1fabee93003b87f208471325cb4ee7cc",
     "grade": false,
     "grade_id": "cell-a975ab4304a67a30",
     "locked": true,
     "schema_version": 3,
     "solution": false,
     "task": false
    }
   },
   "source": [
    "## TOPIC 2: Base R\n",
    "\n",
    "For this section, avoid using `tidyverse` functions when possible.\n",
    "\n",
    "#### Question 2.1\n",
    "\n",
    "First, let's assign the alphabet to the vector `alphabet`:"
   ]
  },
  {
   "cell_type": "code",
   "execution_count": null,
   "metadata": {
    "deletable": false,
    "editable": false,
    "nbgrader": {
     "cell_type": "code",
     "checksum": "d156f91892f0e9404fdbb5d5a09acf1b",
     "grade": false,
     "grade_id": "cell-5701189332505a69",
     "locked": true,
     "schema_version": 3,
     "solution": false,
     "task": false
    }
   },
   "outputs": [],
   "source": [
    "(alphabet <- LETTERS)"
   ]
  },
  {
   "cell_type": "markdown",
   "metadata": {
    "deletable": false,
    "editable": false,
    "nbgrader": {
     "cell_type": "markdown",
     "checksum": "13107db044140775079678f60d63439e",
     "grade": false,
     "grade_id": "cell-49df2e07dc37ef51",
     "locked": true,
     "schema_version": 3,
     "solution": false,
     "task": false
    }
   },
   "source": [
    "Use `[]` to subset the 3rd and 7th element of the vector `alphabet`, and assign this to an R object called `a2.1`. \n",
    "\n",
    "```\n",
    "a2.1 <- alphabet[FILL_THIS_IN]\n",
    "```"
   ]
  },
  {
   "cell_type": "code",
   "execution_count": null,
   "metadata": {
    "deletable": false,
    "lines_to_next_cell": 0,
    "nbgrader": {
     "cell_type": "code",
     "checksum": "ad6a8549874c86a85b1e4d341e4cecbe",
     "grade": false,
     "grade_id": "cell-b79dc64b081f578c",
     "locked": false,
     "schema_version": 3,
     "solution": true,
     "task": false
    }
   },
   "outputs": [],
   "source": [
    "# your code here\n",
    "fail() # No Answer - remove if you provide an answer"
   ]
  },
  {
   "cell_type": "code",
   "execution_count": null,
   "metadata": {
    "deletable": false,
    "editable": false,
    "nbgrader": {
     "cell_type": "code",
     "checksum": "89b224371952fd3deba58d01623a2d49",
     "grade": true,
     "grade_id": "cell-e34eff454c51eedd",
     "locked": true,
     "points": 1,
     "schema_version": 3,
     "solution": false,
     "task": false
    }
   },
   "outputs": [],
   "source": [
    "test_that(\"Question 2.1\", expect_known_hash(a2.1, '548ed661cd18d7e1c902348697727011'))\n",
    "print(\"Success!\")"
   ]
  },
  {
   "cell_type": "markdown",
   "metadata": {
    "deletable": false,
    "editable": false,
    "nbgrader": {
     "cell_type": "markdown",
     "checksum": "35da1f2f40c16e1878b68104713f774d",
     "grade": false,
     "grade_id": "cell-6fe136fd3a220c57",
     "locked": true,
     "schema_version": 3,
     "solution": false,
     "task": false
    }
   },
   "source": [
    "#### Question 2.2\n",
    "\n",
    "Use `[]` to extract everything from the `alphabet` vector, except the third entry. Assign this to a2.2\n",
    "\n",
    "```\n",
    "a2.2 <- alphabet[FILL_THIS_IN]\n",
    "```"
   ]
  },
  {
   "cell_type": "code",
   "execution_count": null,
   "metadata": {
    "deletable": false,
    "lines_to_next_cell": 0,
    "nbgrader": {
     "cell_type": "code",
     "checksum": "edf205a866e905713590c0d13f071e84",
     "grade": false,
     "grade_id": "cell-46503448ea2a9cb9",
     "locked": false,
     "schema_version": 3,
     "solution": true,
     "task": false
    }
   },
   "outputs": [],
   "source": [
    "# your code here\n",
    "fail() # No Answer - remove if you provide an answer"
   ]
  },
  {
   "cell_type": "code",
   "execution_count": null,
   "metadata": {
    "deletable": false,
    "editable": false,
    "lines_to_next_cell": 2,
    "nbgrader": {
     "cell_type": "code",
     "checksum": "82450b583abbb2c609b870d7c09aab24",
     "grade": true,
     "grade_id": "cell-caed098411987014",
     "locked": true,
     "points": 1,
     "schema_version": 3,
     "solution": false,
     "task": false
    }
   },
   "outputs": [],
   "source": [
    "test_that(\"Question 2.2\", expect_known_hash(a2.2, 'e637ddc1874226525a2c12063956edfa'))\n",
    "print(\"Success!\")"
   ]
  },
  {
   "cell_type": "markdown",
   "metadata": {
    "deletable": false,
    "editable": false,
    "nbgrader": {
     "cell_type": "markdown",
     "checksum": "6e3a92a491978fa1f52c9847514bc277",
     "grade": false,
     "grade_id": "cell-4ad94aa7ee66ed58",
     "locked": true,
     "schema_version": 3,
     "solution": false,
     "task": false
    }
   },
   "source": [
    "#### Question 2.3\n",
    "\n",
    "Extract the 2nd to 19th entry of `alphabet` – make use of `:` to construct sequential vectors. Assign to the object `a2.3`\n",
    "\n",
    "```\n",
    "a2.3 <- alphabet[FILL_THIS_IN]\n",
    "```"
   ]
  },
  {
   "cell_type": "code",
   "execution_count": null,
   "metadata": {
    "deletable": false,
    "lines_to_next_cell": 0,
    "nbgrader": {
     "cell_type": "code",
     "checksum": "8aae99c9a314dbfb620d3ceb99777268",
     "grade": false,
     "grade_id": "cell-7e52beeb587753f4",
     "locked": false,
     "schema_version": 3,
     "solution": true,
     "task": false
    }
   },
   "outputs": [],
   "source": [
    "# your code here\n",
    "fail() # No Answer - remove if you provide an answer"
   ]
  },
  {
   "cell_type": "code",
   "execution_count": null,
   "metadata": {
    "deletable": false,
    "editable": false,
    "nbgrader": {
     "cell_type": "code",
     "checksum": "bd6bd9f7554b6d923a72c66589ac1cc3",
     "grade": true,
     "grade_id": "cell-806b19b02e2333e2",
     "locked": true,
     "points": 1,
     "schema_version": 3,
     "solution": false,
     "task": false
    }
   },
   "outputs": [],
   "source": [
    "test_that(\"Question 2.3\", expect_known_hash(a2.3, '716b4c1a6fce07eb1bae341b04999f22'))\n",
    "print(\"Success!\")"
   ]
  },
  {
   "cell_type": "markdown",
   "metadata": {
    "deletable": false,
    "editable": false,
    "nbgrader": {
     "cell_type": "markdown",
     "checksum": "c95bc1c0eef4b9da7941df0b43e6ce21",
     "grade": false,
     "grade_id": "cell-1d6499c6b3e1bea1",
     "locked": true,
     "schema_version": 3,
     "solution": false,
     "task": false
    }
   },
   "source": [
    "#### Question 2.4\n",
    "\n",
    "Replace the second entry of `alphabet` with the character string \"This is where B is\". Assign **in place** (i.e. do not create a new object, but change the existing `alphabet` vector).\n",
    "\n",
    "```\n",
    "alphabet[FILL_THIS_IN] <- FILL_THIS_IN\n",
    "alphabet\n",
    "```"
   ]
  },
  {
   "cell_type": "code",
   "execution_count": null,
   "metadata": {
    "deletable": false,
    "lines_to_next_cell": 0,
    "nbgrader": {
     "cell_type": "code",
     "checksum": "4f18954cd2c4ecee7079e54b8cf29d5b",
     "grade": false,
     "grade_id": "cell-041e1b9fdf167cc9",
     "locked": false,
     "schema_version": 3,
     "solution": true,
     "task": false
    }
   },
   "outputs": [],
   "source": [
    "# your code here\n",
    "fail() # No Answer - remove if you provide an answer"
   ]
  },
  {
   "cell_type": "code",
   "execution_count": null,
   "metadata": {
    "deletable": false,
    "editable": false,
    "nbgrader": {
     "cell_type": "code",
     "checksum": "fa99d1ff7b63ba64f9dcc296409ed802",
     "grade": true,
     "grade_id": "cell-9c7e891a0ad00169",
     "locked": true,
     "points": 0,
     "schema_version": 3,
     "solution": false,
     "task": false
    }
   },
   "outputs": [],
   "source": [
    "test_that(\"Question 2.5\", expect_known_hash(enc2utf8(alphabet), 'a9acf5bcf0a199fd37259f8f1b56487a'))\n",
    "print(\"Success!\")"
   ]
  },
  {
   "cell_type": "markdown",
   "metadata": {
    "deletable": false,
    "editable": false,
    "nbgrader": {
     "cell_type": "markdown",
     "checksum": "5c3fc8adb38bfa214112ab8ba2beebe6",
     "grade": false,
     "grade_id": "cell-b8379204e1f83944",
     "locked": true,
     "schema_version": 3,
     "solution": false,
     "task": false
    }
   },
   "source": [
    "#### Question 2.5\n",
    "\n",
    "With the newly altered alphabet vector created from Q2.4, create a new vector called `a2.5`, where it is the same vector, but repeated twice. Hint: use `c()`\n",
    "\n",
    "```\n",
    "a2.5 <- FILL_THIS_IN(FILL_THIS_IN)\n",
    "```"
   ]
  },
  {
   "cell_type": "code",
   "execution_count": null,
   "metadata": {
    "deletable": false,
    "lines_to_next_cell": 0,
    "nbgrader": {
     "cell_type": "code",
     "checksum": "217c77529a2880b17ec169a6ce90042e",
     "grade": false,
     "grade_id": "cell-d9568dc0d8c17add",
     "locked": false,
     "schema_version": 3,
     "solution": true,
     "task": false
    }
   },
   "outputs": [],
   "source": [
    "# your code here\n",
    "fail() # No Answer - remove if you provide an answer"
   ]
  },
  {
   "cell_type": "code",
   "execution_count": null,
   "metadata": {
    "deletable": false,
    "editable": false,
    "nbgrader": {
     "cell_type": "code",
     "checksum": "c5ec5f0c55f9ff9b3580d968ce5460f2",
     "grade": true,
     "grade_id": "cell-7afaeb0beeff31e0",
     "locked": true,
     "points": 1,
     "schema_version": 3,
     "solution": false,
     "task": false
    }
   },
   "outputs": [],
   "source": [
    "test_that(\"Question 2.5\", expect_known_hash(enc2utf8(a2.5), '34c18fc97d296e3c4f6dc28b56a62b91'))\n",
    "print(\"Success!\")"
   ]
  },
  {
   "cell_type": "markdown",
   "metadata": {
    "deletable": false,
    "editable": false,
    "nbgrader": {
     "cell_type": "markdown",
     "checksum": "483c3100273d0469a321c00bcde7f656",
     "grade": false,
     "grade_id": "cell-99aa45fbba8d8199",
     "locked": true,
     "schema_version": 3,
     "solution": false,
     "task": false
    }
   },
   "source": [
    "#### Question 2.6\n",
    "\n",
    "Load the mtcars dataset. \n",
    "\n",
    "1. Extract the vector of `mpg` values using the `$` operator \n",
    "2. Extract the 2nd to 24th elements, inclusively.\n",
    "3. Assign this to the object `a2.6`. \n",
    "\n",
    "```\n",
    "(a2.6 <- mtcars$FILL_THIS_IN[FILL_THIS_IN])\n",
    "```"
   ]
  },
  {
   "cell_type": "code",
   "execution_count": null,
   "metadata": {
    "deletable": false,
    "lines_to_next_cell": 0,
    "nbgrader": {
     "cell_type": "code",
     "checksum": "9e52634a6431a0fc2b263f51fd1cc345",
     "grade": false,
     "grade_id": "cell-636b191a444f10bf",
     "locked": false,
     "schema_version": 3,
     "solution": true,
     "task": false
    }
   },
   "outputs": [],
   "source": [
    "# your code here\n",
    "fail() # No Answer - remove if you provide an answer"
   ]
  },
  {
   "cell_type": "code",
   "execution_count": null,
   "metadata": {
    "deletable": false,
    "editable": false,
    "nbgrader": {
     "cell_type": "code",
     "checksum": "f683321d9346a0e73d79df177fd13afd",
     "grade": true,
     "grade_id": "cell-de2504ab380c7da4",
     "locked": true,
     "points": 1,
     "schema_version": 3,
     "solution": false,
     "task": false
    }
   },
   "outputs": [],
   "source": [
    "test_that(\"Question 2.6\", expect_known_hash(a2.6, 'd065f0e9275a4ff106485010c3fd1c2c'))\n",
    "print(\"Success!\")"
   ]
  },
  {
   "cell_type": "markdown",
   "metadata": {
    "deletable": false,
    "editable": false,
    "nbgrader": {
     "cell_type": "markdown",
     "checksum": "5851e71be2c0cefbe1160a05d23606d9",
     "grade": false,
     "grade_id": "cell-4474329a11f182dd",
     "locked": true,
     "schema_version": 3,
     "solution": false,
     "task": false
    }
   },
   "source": [
    "#### Question 2.7\n",
    "\n",
    "Using `mtcars` again,\n",
    "\n",
    "1. Extract the vector of `wt` values using the `$` operator.\n",
    "2. Replace each value with `TRUE` if the value is greater than 3.4, and `FALSE` otherwise.\n",
    "3. Assign this logical vector to the R object `a2.7`\n",
    "\n",
    "```\n",
    "(a2.7 <- mtcars$FILL_THIS_IN) \n",
    "```"
   ]
  },
  {
   "cell_type": "code",
   "execution_count": null,
   "metadata": {
    "deletable": false,
    "lines_to_next_cell": 0,
    "nbgrader": {
     "cell_type": "code",
     "checksum": "02cb26c36ade3e857e19b3a370376e2f",
     "grade": false,
     "grade_id": "cell-57746edd3f5caa7d",
     "locked": false,
     "schema_version": 3,
     "solution": true,
     "task": false
    }
   },
   "outputs": [],
   "source": [
    "# your code here\n",
    "fail() # No Answer - remove if you provide an answer"
   ]
  },
  {
   "cell_type": "code",
   "execution_count": null,
   "metadata": {
    "deletable": false,
    "editable": false,
    "lines_to_next_cell": 2,
    "nbgrader": {
     "cell_type": "code",
     "checksum": "7676dd8ba0fa0a2cd76852e5fa92b5f1",
     "grade": true,
     "grade_id": "cell-339f3fc46993a445",
     "locked": true,
     "points": 1,
     "schema_version": 3,
     "solution": false,
     "task": false
    }
   },
   "outputs": [],
   "source": [
    "test_that(\"Question 2.7\", expect_known_hash(a2.7, 'c51a40941e57f8892fe413bee95fd8d5'))\n",
    "print(\"Success!\")"
   ]
  },
  {
   "cell_type": "markdown",
   "metadata": {
    "deletable": false,
    "editable": false,
    "nbgrader": {
     "cell_type": "markdown",
     "checksum": "74089af7a72c48e864aeaba27d76101e",
     "grade": false,
     "grade_id": "cell-5adc14ffd7fb6415",
     "locked": true,
     "schema_version": 3,
     "solution": false,
     "task": false
    }
   },
   "source": [
    "#### Question 2.8\n",
    "\n",
    "Using `mtcars`,\n",
    "\n",
    "1. For the rows where mpg > 20, replace the car weight entries (`wt`) with the number `1000`\n",
    "2. Assign this new *tibble* as as the object a2.8\n",
    "\n",
    "```\n",
    "a2.8 <- mtcars\n",
    "a2.8$wt[FILL_THIS_IN] <- FILL_THIS_IN\n",
    "a2.8\n",
    "```"
   ]
  },
  {
   "cell_type": "code",
   "execution_count": null,
   "metadata": {
    "deletable": false,
    "nbgrader": {
     "cell_type": "code",
     "checksum": "3ae6529f61ac043125685f73a7209418",
     "grade": false,
     "grade_id": "cell-aa3d0604c6413521",
     "locked": false,
     "schema_version": 3,
     "solution": true,
     "task": false
    }
   },
   "outputs": [],
   "source": [
    "# your code here\n",
    "fail() # No Answer - remove if you provide an answer"
   ]
  },
  {
   "cell_type": "code",
   "execution_count": null,
   "metadata": {
    "deletable": false,
    "editable": false,
    "nbgrader": {
     "cell_type": "code",
     "checksum": "6f32b9f08b27d8d3a2ab7fb3afdeca40",
     "grade": true,
     "grade_id": "cell-a7ccb382245ad4e6",
     "locked": true,
     "points": 0,
     "schema_version": 3,
     "solution": false,
     "task": false
    }
   },
   "outputs": [],
   "source": [
    "test_that(\"Question 2.8\", expect_known_hash(a2.8$wt, '4e56aa37c9e2888594cc7c360f784b70'))\n",
    "print(\"Success!\")"
   ]
  },
  {
   "cell_type": "markdown",
   "metadata": {
    "deletable": false,
    "editable": false,
    "lines_to_next_cell": 0,
    "nbgrader": {
     "cell_type": "markdown",
     "checksum": "19f56d144fce514c34d8646510a04b7a",
     "grade": false,
     "grade_id": "cell-ebce2cf9fcfbd426",
     "locked": true,
     "schema_version": 3,
     "solution": false,
     "task": false
    }
   },
   "source": [
    "## TOPIC 3: Reprex\n",
    "\n",
    "If you haven't done question 1.4, then do the following before attempting questions for this section:\n",
    "\n",
    "- in your file browser go to the location returned by `here::here()` and create a folder called **\"worksheet_06a_data\"**.\n",
    "\n",
    "#### Question 3.1\n",
    "\n",
    "Create a reprex for the code and output of `mean(rnorm(10))`. Specify the output folder to be **worksheet_06_data**.\n",
    "\n",
    "After doing this, I encourage you to open up the output files and take a look at your reprex!\n",
    "\n",
    "```\n",
    "reprex(FILL_THIS_IN, \n",
    "       outfile = here::here('FILL_THIS_IN', 'reprex.md'))\n",
    "```\n"
   ]
  },
  {
   "cell_type": "code",
   "execution_count": null,
   "metadata": {
    "deletable": false,
    "nbgrader": {
     "cell_type": "code",
     "checksum": "2cf0318bece693000ad1f616a5aa3294",
     "grade": false,
     "grade_id": "cell-0bb222125a2b34c3",
     "locked": false,
     "schema_version": 3,
     "solution": true,
     "task": false
    }
   },
   "outputs": [],
   "source": [
    "# your code here\n",
    "fail() # No Answer - remove if you provide an answer"
   ]
  },
  {
   "cell_type": "code",
   "execution_count": null,
   "metadata": {
    "deletable": false,
    "editable": false,
    "nbgrader": {
     "cell_type": "code",
     "checksum": "9dd762e33b69ec78c187d91b55d65db6",
     "grade": true,
     "grade_id": "cell-ac08f96917e07d1b",
     "locked": true,
     "points": 0,
     "schema_version": 3,
     "solution": false,
     "task": false
    }
   },
   "outputs": [],
   "source": [
    "test_that(\"Question 3.1\", {\n",
    "    expect_true(file.exists(here::here('worksheet_06a_data', 'reprex_reprex.md')))\n",
    "    expect_true(file.exists(here::here('worksheet_06a_data', 'reprex_reprex.R')))\n",
    "    expect_known_hash(gsub('\\\\s', '', paste0(readLines(here::here('worksheet_06a_data', 'reprex_reprex.R')), collapse = '')), \n",
    "                      '41311107e8e35738e6e60c14e8d78a65')\n",
    "})\n",
    "print(\"Success!\")"
   ]
  }
 ],
 "metadata": {
  "jupytext": {
   "cell_metadata_filter": "-all"
  },
  "kernelspec": {
   "display_name": "R",
   "language": "R",
   "name": "ir"
  },
  "language_info": {
   "codemirror_mode": "r",
   "file_extension": ".r",
   "mimetype": "text/x-r-source",
   "name": "R",
   "pygments_lexer": "r",
   "version": "3.6.1"
  }
 },
 "nbformat": 4,
 "nbformat_minor": 4
}
