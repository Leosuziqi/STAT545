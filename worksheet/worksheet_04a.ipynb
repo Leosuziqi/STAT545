{
 "cells": [
  {
   "cell_type": "markdown",
   "metadata": {
    "deletable": false,
    "editable": false,
    "nbgrader": {
     "cell_type": "markdown",
     "checksum": "3c353eb26b7cad392ed6a250f3222b12",
     "grade": false,
     "grade_id": "cell-6cf23f5486d00725",
     "locked": true,
     "schema_version": 3,
     "solution": false,
     "task": false
    }
   },
   "source": [
    "# Worksheet 04a: Tidy Data & The Model-Fitting Paradigm in R\n",
    "_**Leader**: Diana Lin_\n",
    "_**Reviewer:** Icíar Fernández Boyano_\n",
    "_**ASDA Assist:** David Kepplinger_\n",
    "\n",
    "**Version 1.0** - Delivered Sunday, Oct. 4, 2020\n",
    "\n",
    "This is the corresponding worksheet for Class 8 (Oct 6, 2020) & Class 9 (Oct 8, 2020).\n",
    "\n",
    "Remember to pay attention to the variable name to store your answer in, or else it will not be autograded correctly. To ensure everything works properly, remember to run _all_ code cells, not just the ones with your answer."
   ]
  },
  {
   "cell_type": "markdown",
   "metadata": {
    "deletable": false,
    "editable": false,
    "nbgrader": {
     "cell_type": "markdown",
     "checksum": "833d1c4605ef7a66e5c423587228b1b5",
     "grade": false,
     "grade_id": "cell-8c33d8917362545a",
     "locked": true,
     "schema_version": 3,
     "solution": false,
     "task": false
    }
   },
   "source": [
    "If there are packages used that are not yet installed, you can use the code cell below to install them. _You may not need to use this code cell at all._"
   ]
  },
  {
   "cell_type": "code",
   "execution_count": null,
   "metadata": {},
   "outputs": [],
   "source": [
    "# Install additional packages, e.g.,\n",
    "# install.packages(\"gapminder\")\n",
    "# install.packages(\"tidyverse\")\n",
    "# install.packages(\"broom\")"
   ]
  },
  {
   "cell_type": "markdown",
   "metadata": {
    "deletable": false,
    "editable": false,
    "nbgrader": {
     "cell_type": "markdown",
     "checksum": "91fd1ce75f930273c2780e05442157fe",
     "grade": false,
     "grade_id": "cell-99e4436a69e63f34",
     "locked": true,
     "schema_version": 3,
     "solution": false,
     "task": false
    }
   },
   "source": [
    "Use the following code cell to load any additional packages you want to use for this worksheet. _You may not need to use this code cell at all._"
   ]
  },
  {
   "cell_type": "code",
   "execution_count": null,
   "metadata": {},
   "outputs": [],
   "source": [
    "# Load additional packages, e.g.,\n",
    "# suppressPackageStartupMessages(library(broom))"
   ]
  },
  {
   "cell_type": "markdown",
   "metadata": {
    "deletable": false,
    "editable": false,
    "nbgrader": {
     "cell_type": "markdown",
     "checksum": "050bd814ca58dc9c05e55b174f1b3798",
     "grade": false,
     "grade_id": "cell-3c6b9d7c418fdac4",
     "locked": true,
     "schema_version": 3,
     "solution": false,
     "task": false
    }
   },
   "source": [
    "For marking purposes, we will need the packages below. Run the code cell to load them."
   ]
  },
  {
   "cell_type": "code",
   "execution_count": null,
   "metadata": {
    "deletable": false,
    "editable": false,
    "nbgrader": {
     "cell_type": "code",
     "checksum": "74ea44d01050451fecc8fafa2be9467e",
     "grade": false,
     "grade_id": "cell-0e57a40968a03e65",
     "locked": true,
     "schema_version": 3,
     "solution": false,
     "task": false
    }
   },
   "outputs": [],
   "source": [
    "library(testthat)\n",
    "library(digest)"
   ]
  },
  {
   "cell_type": "markdown",
   "metadata": {
    "deletable": false,
    "editable": false,
    "nbgrader": {
     "cell_type": "markdown",
     "checksum": "1e561955b3f33c3bc77e05a4b631a47e",
     "grade": false,
     "grade_id": "cell-67a56affda78d4f8",
     "locked": true,
     "schema_version": 3,
     "solution": false,
     "task": false
    }
   },
   "source": [
    "## TOPIC 1: Tidy Data\n",
    "\n",
    "To do our pivoting, we will be using the `tidyverse` package and the following datasets. `broom` will be used later for model-fitting. Run the code cell below."
   ]
  },
  {
   "cell_type": "code",
   "execution_count": null,
   "metadata": {
    "deletable": false,
    "editable": false,
    "nbgrader": {
     "cell_type": "code",
     "checksum": "b6bdf5b5fc930958d55e6241c0832b0b",
     "grade": false,
     "grade_id": "cell-d87b78a8d6f2f2cd",
     "locked": true,
     "schema_version": 3,
     "solution": false,
     "task": false
    }
   },
   "outputs": [],
   "source": [
    "suppressPackageStartupMessages(library(tidyverse))\n",
    "suppressPackageStartupMessages(library(broom))\n",
    "suppressPackageStartupMessages(library(gapminder))\n",
    "lotr  <- suppressMessages(read_csv(\"https://raw.githubusercontent.com/jennybc/lotr-tidy/master/data/lotr_tidy.csv\"))\n",
    "guest <- suppressMessages(read_csv(\"https://raw.githubusercontent.com/STAT545-UBC/Classroom/master/data/wedding/attend.csv\"))"
   ]
  },
  {
   "cell_type": "markdown",
   "metadata": {
    "deletable": false,
    "editable": false,
    "nbgrader": {
     "cell_type": "markdown",
     "checksum": "738ef28d143fd0673351d3713dba745c",
     "grade": false,
     "grade_id": "cell-2bb2c639109b2ade",
     "locked": true,
     "schema_version": 3,
     "solution": false,
     "task": false
    }
   },
   "source": [
    "## Question 1: Univariate Pivoting\n",
    "\n",
    "Consider the Lord of the Rings data. Run the code cell below to see the data frame."
   ]
  },
  {
   "cell_type": "code",
   "execution_count": null,
   "metadata": {
    "deletable": false,
    "editable": false,
    "nbgrader": {
     "cell_type": "code",
     "checksum": "46ab300e9f062a2092563773dd26140f",
     "grade": false,
     "grade_id": "cell-0700841dc6bbc1ab",
     "locked": true,
     "schema_version": 3,
     "solution": false,
     "task": false
    }
   },
   "outputs": [],
   "source": [
    "lotr"
   ]
  },
  {
   "cell_type": "markdown",
   "metadata": {
    "deletable": false,
    "editable": false,
    "nbgrader": {
     "cell_type": "markdown",
     "checksum": "9aab2b529473b311d736a38d3dfdbf8d",
     "grade": false,
     "grade_id": "cell-31b880187338213a",
     "locked": true,
     "schema_version": 3,
     "solution": false,
     "task": false
    }
   },
   "source": [
    "### Question 1.1\n",
    "Widen the data so that we see the words spoken by each race, by puttting race as its own column. Store the answer in `answer1.1`.\n",
    "\n",
    "```\n",
    "(answer1.1 <- lotr %>%\n",
    "    FILL_THIS_IN(id_cols = c(-FILL_THIS_IN, -FILL_THIS_IN), \n",
    "                names_from = FILL_THIS_IN,\n",
    "                values_from = FILL_THIS_IN))\n",
    "```            \n",
    "\n",
    "_Sidenote:_ Putting a variable assignment in parenthesis will not only assign the value to the variable, but also print to console. Normally when you assign a variable, you do not get to see the value of the variable. This is a helpful tip so you can see what you are storing! Run the two cells below for an example."
   ]
  },
  {
   "cell_type": "code",
   "execution_count": null,
   "metadata": {
    "deletable": false,
    "editable": false,
    "nbgrader": {
     "cell_type": "code",
     "checksum": "fa1821a858973ba439412fa35e496db6",
     "grade": false,
     "grade_id": "cell-d0b7bcc36c749b8e",
     "locked": true,
     "schema_version": 3,
     "solution": false,
     "task": false
    }
   },
   "outputs": [],
   "source": [
    "# WITHOUT PARENTHESES\n",
    "x <- 2 + 2"
   ]
  },
  {
   "cell_type": "code",
   "execution_count": null,
   "metadata": {
    "deletable": false,
    "editable": false,
    "nbgrader": {
     "cell_type": "code",
     "checksum": "4da4c9f3fce67772e0abd39640220f3a",
     "grade": false,
     "grade_id": "cell-bbc807aa58ede687",
     "locked": true,
     "schema_version": 3,
     "solution": false,
     "task": false
    }
   },
   "outputs": [],
   "source": [
    "# WITH PARENTHESES\n",
    "(x <- 2 + 2)"
   ]
  },
  {
   "cell_type": "code",
   "execution_count": null,
   "metadata": {
    "deletable": false,
    "nbgrader": {
     "cell_type": "code",
     "checksum": "ab8088e4e51183b17ef79980cb7c7761",
     "grade": false,
     "grade_id": "cell-69d0326c263cea22",
     "locked": false,
     "schema_version": 3,
     "solution": true,
     "task": false
    }
   },
   "outputs": [],
   "source": [
    "# your code here\n",
    "fail() # No Answer - remove if you provide an answer"
   ]
  },
  {
   "cell_type": "code",
   "execution_count": null,
   "metadata": {
    "deletable": false,
    "editable": false,
    "nbgrader": {
     "cell_type": "code",
     "checksum": "c9362ab2f8b2b9ff0edd53af358a7d40",
     "grade": true,
     "grade_id": "cell-cdf83fd8542d1a5f",
     "locked": true,
     "points": 1,
     "schema_version": 3,
     "solution": false,
     "task": false
    }
   },
   "outputs": [],
   "source": [
    "test_that(\"Question 1.1\", {expect_equal(digest(unclass(answer1.1)), \"46ea73256bb64844b42355b8260fe822\")})\n",
    "print(\"Success!\")"
   ]
  },
  {
   "cell_type": "markdown",
   "metadata": {
    "deletable": false,
    "editable": false,
    "nbgrader": {
     "cell_type": "markdown",
     "checksum": "574fb044b4ccf95e7a45f2a8dd2f98b9",
     "grade": false,
     "grade_id": "cell-e605b348e5f2d218",
     "locked": true,
     "schema_version": 3,
     "solution": false,
     "task": false
    }
   },
   "source": [
    "### Question 1.2\n",
    "Re-lengthen the wide `lotr` data (i.e. `answer1.1`) from Question 1.1 above. Store your answer in `answer1.2`.\n",
    "\n",
    "**Hint:** the resulting data frame should appear to be the same as the original!\n",
    "\n",
    "```\n",
    "(answer1.2 <- answer1.1 %>% \n",
    "  FILL_THIS_IN(cols = c(-FILL_THIS_IN, -FILL_THIS_IN), \n",
    "               names_to  = FILL_THIS_IN, \n",
    "```    "
   ]
  },
  {
   "cell_type": "code",
   "execution_count": null,
   "metadata": {
    "deletable": false,
    "nbgrader": {
     "cell_type": "code",
     "checksum": "512f403c1ad3c424fd70593a6838f943",
     "grade": false,
     "grade_id": "cell-dd9ee0af42a31d96",
     "locked": false,
     "schema_version": 3,
     "solution": true,
     "task": false
    }
   },
   "outputs": [],
   "source": [
    "# your code here\n",
    "fail() # No Answer - remove if you provide an answer"
   ]
  },
  {
   "cell_type": "code",
   "execution_count": null,
   "metadata": {
    "deletable": false,
    "editable": false,
    "nbgrader": {
     "cell_type": "code",
     "checksum": "a4b8afc4c3014e625522f05dbd588284",
     "grade": true,
     "grade_id": "cell-9ca00a4e9e835c5b",
     "locked": true,
     "points": 1,
     "schema_version": 3,
     "solution": false,
     "task": false
    }
   },
   "outputs": [],
   "source": [
    "test_that(\"Question 1.2\", {expect_equal(digest(unclass(answer1.2)), \"390a16fa66d2f2a3e19f1b5a489c6d4d\")})\n",
    "print(\"Success!\")"
   ]
  },
  {
   "cell_type": "markdown",
   "metadata": {
    "deletable": false,
    "editable": false,
    "nbgrader": {
     "cell_type": "markdown",
     "checksum": "db4688e104b887bb1676d90f5615373c",
     "grade": false,
     "grade_id": "cell-74b6ea9dd9cd3970",
     "locked": true,
     "schema_version": 3,
     "solution": false,
     "task": false
    }
   },
   "source": [
    "## Question 2: Multivariate Pivoting\n",
    "Congratulations, you’re getting married! In addition to the wedding, you’ve decided to hold two other events: a day-of brunch and a day-before round of golf. You’ve made a guestlist of attendance so far, along with food preference for the food events (wedding and brunch).\n",
    "\n",
    "Run the code cell below to see the `guest` data frame."
   ]
  },
  {
   "cell_type": "code",
   "execution_count": null,
   "metadata": {
    "deletable": false,
    "editable": false,
    "nbgrader": {
     "cell_type": "code",
     "checksum": "e906a4ae3248824b3b28af19d99d713a",
     "grade": false,
     "grade_id": "cell-f7d65824be40afab",
     "locked": true,
     "schema_version": 3,
     "solution": false,
     "task": false
    }
   },
   "outputs": [],
   "source": [
    "guest"
   ]
  },
  {
   "cell_type": "markdown",
   "metadata": {
    "deletable": false,
    "editable": false,
    "nbgrader": {
     "cell_type": "markdown",
     "checksum": "eb17ee4921a0991563199694e391c89d",
     "grade": false,
     "grade_id": "cell-a5e314661b36e3ae",
     "locked": true,
     "schema_version": 3,
     "solution": false,
     "task": false
    }
   },
   "source": [
    "### Question 2.1\n",
    "Put `meal` and `attendance` as their own columns, with the events living in a new column. Store your answer in `answer2.1`.\n",
    "\n",
    "```\n",
    "(answer2.1 <- guest %>% \n",
    "  FILL_THIS_IN(cols      = c(-FILL_THIS_IN, -FILL_THIS_IN), \n",
    "               names_to  = c(FILL_THIS_IN, FILL_THIS_IN),\n",
    "               names_sep = FILL_THIS_IN))\n",
    "```               "
   ]
  },
  {
   "cell_type": "code",
   "execution_count": null,
   "metadata": {
    "deletable": false,
    "nbgrader": {
     "cell_type": "code",
     "checksum": "5b0b4797795f2c60ef8d088a752dfa82",
     "grade": false,
     "grade_id": "cell-aa203ff65e28a500",
     "locked": false,
     "schema_version": 3,
     "solution": true,
     "task": false
    }
   },
   "outputs": [],
   "source": [
    "# your code here\n",
    "fail() # No Answer - remove if you provide an answer"
   ]
  },
  {
   "cell_type": "code",
   "execution_count": null,
   "metadata": {
    "deletable": false,
    "editable": false,
    "nbgrader": {
     "cell_type": "code",
     "checksum": "2ee42c85230681a86ee498e733495a1c",
     "grade": true,
     "grade_id": "cell-2f380c98eb6f4b92",
     "locked": true,
     "points": 1,
     "schema_version": 3,
     "solution": false,
     "task": false
    }
   },
   "outputs": [],
   "source": [
    "test_that(\"Question 2.1\", {expect_equal(digest(unclass(answer2.1)), \"fe0a2bfdbbf30dafc1a89a59c536c466\")})\n",
    "print(\"Success!\")"
   ]
  },
  {
   "cell_type": "markdown",
   "metadata": {
    "deletable": false,
    "editable": false,
    "nbgrader": {
     "cell_type": "markdown",
     "checksum": "3fbe8670c2e3c336883e2805f5c5c2a8",
     "grade": false,
     "grade_id": "cell-4bf2cab5040a45a4",
     "locked": true,
     "schema_version": 3,
     "solution": false,
     "task": false
    }
   },
   "source": [
    "### Question 2.2\n",
    "Use `tidyr::separate()` to split the `name` in `answer2.1` into two columns: `first_name` and `last_name`. Store your answer in `answer2.2`.\n",
    "\n",
    "```\n",
    "(answer2.2 <- answer2.1 %>% \n",
    "  FILL_THIS_IN(FILL_THIS_IN, into = c(FILL_THIS_IN, FILL_THIS_IN), sep=FILL_THIS_IN))\n",
    "```  "
   ]
  },
  {
   "cell_type": "code",
   "execution_count": null,
   "metadata": {
    "deletable": false,
    "nbgrader": {
     "cell_type": "code",
     "checksum": "1269fead8df9c87ddeadbbda33dd2fd7",
     "grade": false,
     "grade_id": "cell-fb46ea7012910edc",
     "locked": false,
     "schema_version": 3,
     "solution": true,
     "task": false
    }
   },
   "outputs": [],
   "source": [
    "# your code here\n",
    "fail() # No Answer - remove if you provide an answer"
   ]
  },
  {
   "cell_type": "code",
   "execution_count": null,
   "metadata": {
    "deletable": false,
    "editable": false,
    "nbgrader": {
     "cell_type": "code",
     "checksum": "35abc8c85dda51250ceec473ed99c697",
     "grade": true,
     "grade_id": "cell-0cba9b35e5add034",
     "locked": true,
     "points": 1,
     "schema_version": 3,
     "solution": false,
     "task": false
    }
   },
   "outputs": [],
   "source": [
    "test_that(\"Question 2.2\", {expect_equal(digest(unclass(answer2.2)), \"9a7434fe2e4446e405fec4200cb8580b\")})\n",
    "print(\"Success!\")"
   ]
  },
  {
   "cell_type": "markdown",
   "metadata": {
    "deletable": false,
    "editable": false,
    "nbgrader": {
     "cell_type": "markdown",
     "checksum": "f7efafd18387e904df7cafb94d536403",
     "grade": false,
     "grade_id": "cell-4c777f9f3d24eca8",
     "locked": true,
     "schema_version": 3,
     "solution": false,
     "task": false
    }
   },
   "source": [
    "### Question 2.3\n",
    "Re-unite `first_name` and `last_name` in `answer2.2` back into `name` using `tidyr::unite()`. Store your answer in `answer2.3`.\n",
    "\n",
    "```\n",
    "(answer2.3 <- answer2.2 %>%\n",
    "    FILL_THIS_IN(col = FILL_THIS_IN, c(FILL_THIS_IN, FILL_THIS_IN), sep = FILL_THIS_IN))\n",
    "```    "
   ]
  },
  {
   "cell_type": "code",
   "execution_count": null,
   "metadata": {
    "deletable": false,
    "nbgrader": {
     "cell_type": "code",
     "checksum": "2037e0baf462678ad8c8c6a7d4843ff9",
     "grade": false,
     "grade_id": "cell-955ac07a83ed5e20",
     "locked": false,
     "schema_version": 3,
     "solution": true,
     "task": false
    }
   },
   "outputs": [],
   "source": [
    "# your code here\n",
    "fail() # No Answer - remove if you provide an answer"
   ]
  },
  {
   "cell_type": "code",
   "execution_count": null,
   "metadata": {
    "deletable": false,
    "editable": false,
    "nbgrader": {
     "cell_type": "code",
     "checksum": "16658e8722601d343ca837f134e48f08",
     "grade": true,
     "grade_id": "cell-ee5e83f00c565943",
     "locked": true,
     "points": 1,
     "schema_version": 3,
     "solution": false,
     "task": false
    }
   },
   "outputs": [],
   "source": [
    "test_that(\"Question 2.3\", {expect_equal(digest(unclass(answer2.3)), \"fe0a2bfdbbf30dafc1a89a59c536c466\")})\n",
    "print(\"Success!\")"
   ]
  },
  {
   "cell_type": "markdown",
   "metadata": {
    "deletable": false,
    "editable": false,
    "nbgrader": {
     "cell_type": "markdown",
     "checksum": "f86aae18592d3803c4f77136b3543f6e",
     "grade": false,
     "grade_id": "cell-defaffa374701c1e",
     "locked": true,
     "schema_version": 3,
     "solution": false,
     "task": false
    }
   },
   "source": [
    "### Question 2.4\n",
    "Which parties still have a \"PENDING\" status for all members and all events? Store your answer in `answer2.4`.\n",
    "\n",
    "**Hint**: use `answer2.1` as a starting point. Use `pull()` to access the `party` column as a vector.\n",
    "\n",
    "```\n",
    "(answer2.4 <- answer2.1 %>% \n",
    "    group_by(FILL_THIS_IN) %>% \n",
    "    summarize(.groups = FILL_THIS_IN, all_pending = all(FILL_THIS_IN == \"PENDING\")) %>%\n",
    "    filter(all_pending == FILL_THIS_IN) %>%\n",
    "    FILL_THIS_IN(party))\n",
    "```    "
   ]
  },
  {
   "cell_type": "code",
   "execution_count": null,
   "metadata": {
    "deletable": false,
    "nbgrader": {
     "cell_type": "code",
     "checksum": "67af9daf9e6c37d41148981d919880e9",
     "grade": false,
     "grade_id": "cell-caf4c538c01ad19c",
     "locked": false,
     "schema_version": 3,
     "solution": true,
     "task": false
    }
   },
   "outputs": [],
   "source": [
    "# your code here\n",
    "fail() # No Answer - remove if you provide an answer"
   ]
  },
  {
   "cell_type": "code",
   "execution_count": null,
   "metadata": {
    "deletable": false,
    "editable": false,
    "nbgrader": {
     "cell_type": "code",
     "checksum": "4f0397baa2ed362d1be74cb27aca0adb",
     "grade": true,
     "grade_id": "cell-7bd8a19402a8d8f2",
     "locked": true,
     "points": 1,
     "schema_version": 3,
     "solution": false,
     "task": false
    }
   },
   "outputs": [],
   "source": [
    "test_that(\"Question 2.4\", {expect_equal(digest(unclass(answer2.4)),\"f13a65bc5c8793a2cad1415aad7dff93\")})\n",
    "print(\"Success!\")"
   ]
  },
  {
   "cell_type": "markdown",
   "metadata": {
    "deletable": false,
    "editable": false,
    "nbgrader": {
     "cell_type": "markdown",
     "checksum": "d5e910eb36f009d1492d06873823509c",
     "grade": false,
     "grade_id": "cell-7ce9d28a450b8dae",
     "locked": true,
     "schema_version": 3,
     "solution": false,
     "task": false
    }
   },
   "source": [
    "### Question 2.5\n",
    "Which parties still have a “PENDING” status for all members for the wedding? Store your answer in `answer2.5`.\n",
    "\n",
    "**Hint**: Use `pull()` to access the `party` column as a vector.\n",
    "\n",
    "```\n",
    "(answer2.5 <- guest %>% \n",
    "    group_by(FILL_THIS_IN) %>% \n",
    "    summarize(.groups = FILL_THIS_IN, pending_wedding = all(FILL_THIS_IN == \"PENDING\")) %>%\n",
    "    filter(FILL_THIS_IN == TRUE) %>%\n",
    "    FILL_THIS_IN(party))\n",
    "```    "
   ]
  },
  {
   "cell_type": "code",
   "execution_count": null,
   "metadata": {
    "deletable": false,
    "nbgrader": {
     "cell_type": "code",
     "checksum": "6cfeab21a823069a10c437796776807f",
     "grade": false,
     "grade_id": "cell-69089bca0ebe5314",
     "locked": false,
     "schema_version": 3,
     "solution": true,
     "task": false
    }
   },
   "outputs": [],
   "source": [
    "# your code here\n",
    "fail() # No Answer - remove if you provide an answer"
   ]
  },
  {
   "cell_type": "code",
   "execution_count": null,
   "metadata": {
    "deletable": false,
    "editable": false,
    "nbgrader": {
     "cell_type": "code",
     "checksum": "14e56a2201fca52ec3c15b1020d07135",
     "grade": true,
     "grade_id": "cell-cbecf06071548ada",
     "locked": true,
     "points": 1,
     "schema_version": 3,
     "solution": false,
     "task": false
    }
   },
   "outputs": [],
   "source": [
    "test_that(\"Question 2.5\", {expect_equal(digest(unclass(answer2.5)), \"f13a65bc5c8793a2cad1415aad7dff93\")})\n",
    "print(\"Success!\")"
   ]
  },
  {
   "cell_type": "markdown",
   "metadata": {
    "deletable": false,
    "editable": false,
    "nbgrader": {
     "cell_type": "markdown",
     "checksum": "d4ac6df29e3a7aef439e9446d9c060d5",
     "grade": false,
     "grade_id": "cell-51cc3f9c26a52de9",
     "locked": true,
     "schema_version": 3,
     "solution": false,
     "task": false
    }
   },
   "source": [
    "### TOPIC 2: The Model-Fitting Paradigm in R¶\n",
    "So you want to fit a model to your data. How can you achieve this with R?\n",
    "\n",
    "Topics:\n",
    "\n",
    "1. What _is_ model-fitting?\n",
    "2. How do we fit a model in R?\n",
    "3. How can we obtain tidy results from the model output?"
   ]
  },
  {
   "cell_type": "markdown",
   "metadata": {
    "deletable": false,
    "editable": false,
    "nbgrader": {
     "cell_type": "markdown",
     "checksum": "e94315e17e7dead86316f1b3401299f7",
     "grade": false,
     "grade_id": "cell-d093f77a80942d8c",
     "locked": true,
     "schema_version": 3,
     "solution": false,
     "task": false
    }
   },
   "source": [
    "### What is Model-Fitting?\n",
    "When variables are not independent, then we can gain information about one variable if we know something about the other.\n",
    "\n",
    "Examples: Use the scatterplot below:\n",
    "\n",
    "1. A car weighs 4000 lbs. What can we say about its mpg?\n",
    "2. A car weights less than 3000 lbs. What can we say about its mpg?\n",
    "\n",
    "Run the code cell below to see the `mtcars` plot."
   ]
  },
  {
   "cell_type": "code",
   "execution_count": null,
   "metadata": {
    "deletable": false,
    "editable": false,
    "nbgrader": {
     "cell_type": "code",
     "checksum": "9ff60481a1c1ab135d41aac9c6b2fc56",
     "grade": false,
     "grade_id": "cell-49ed26f566db53b8",
     "locked": true,
     "schema_version": 3,
     "solution": false,
     "task": false
    }
   },
   "outputs": [],
   "source": [
    "# models can fit many data points (using an 'averaged' data line is not always helpful)\n",
    "ggplot(mtcars, aes(wt, mpg)) +\n",
    "  geom_point() +\n",
    "  labs(x = \"Weight (1000's of lbs)\")"
   ]
  },
  {
   "cell_type": "markdown",
   "metadata": {
    "deletable": false,
    "editable": false,
    "nbgrader": {
     "cell_type": "markdown",
     "checksum": "1fb3c475327437743f1c8b91c89c667f",
     "grade": false,
     "grade_id": "cell-1dda86d66653a203",
     "locked": true,
     "schema_version": 3,
     "solution": false,
     "task": false
    }
   },
   "source": [
    "Example: What can we say about rear axle ratio if we know something about quarter mile time? Run the code cell below!"
   ]
  },
  {
   "cell_type": "code",
   "execution_count": null,
   "metadata": {
    "deletable": false,
    "editable": false,
    "nbgrader": {
     "cell_type": "code",
     "checksum": "7b3fae49da21bd90150456ed80072848",
     "grade": false,
     "grade_id": "cell-2ae8b5691581ec0a",
     "locked": true,
     "schema_version": 3,
     "solution": false,
     "task": false
    }
   },
   "outputs": [],
   "source": [
    "ggplot(mtcars, aes(qsec, drat)) + \n",
    "  geom_point() +\n",
    "  labs(x = \"Quarter mile time\",\n",
    "       y = \"Rear axle ratio\")"
   ]
  },
  {
   "cell_type": "markdown",
   "metadata": {
    "deletable": false,
    "editable": false,
    "nbgrader": {
     "cell_type": "markdown",
     "checksum": "251494136679b4bd0dcefe1b6097b5a2",
     "grade": false,
     "grade_id": "cell-c9bb114babd6a9b0",
     "locked": true,
     "schema_version": 3,
     "solution": false,
     "task": false
    }
   },
   "source": [
    "If EDA isn't enough, we can answer these questions by fitting a model: a curve that predicts Y given X. Aka, a __regression curve__ or a __machine learning model__. \n",
    "\n",
    "(There are more comprehensive models too, such as modelling entire distributions, but that's not what we're doing here)\n",
    "\n",
    "There are typically two goals of fitting a model:\n",
    "\n",
    "1. Make predictions.\n",
    "2. Interpret variable relationships.\n",
    "\n",
    "## Fitting a model in R\n",
    "\n",
    "Model fitting methods tend to use a common format in R:\n",
    "\n",
    "```\n",
    "method(formula, data, options)\n",
    "```\n",
    "\n",
    "They also tend to have a common output: a special _list_. \n",
    "\n",
    "__Method__:\n",
    "\n",
    "A function such as:\n",
    "\n",
    "- Linear Regression: `lm`\n",
    "- Generalized Linear Regression: `glm`\n",
    "- Local regression: `loess`\n",
    "- Quantile regression: `quantreg::rq`\n",
    "- ...\n",
    "\n",
    "__Formula__:\n",
    "\n",
    "In R, takes the form `y ~ x1 + x2 + ... + xp` (use column names in your data frame).\n",
    "\n",
    "__Data__: The data frame.\n",
    "\n",
    "__Options__: Specific to the method.\n",
    "\n",
    "## Question 3\n",
    "\n",
    "#### Overview:\n",
    "1. Fit a linear regression model to life expectancy (\"Y\") from year (\"X\") by filling in the formula. Notice what appears as the output.\n",
    "2. Use the `unclass` function to uncover the object's true nature: a list.\n",
    "\n",
    "### Question 3.1\n",
    "First, create a subset of the `gapminder` dataset containing only the country of `France`. Store your answer in `answer3.1`.\n",
    "\n",
    "```\n",
    "(answer3.1 <- gapminder %>%\n",
    "   FILL_THIS_IN(FILL_THIS_IN == FILL_THIS_IN))\n",
    "```   "
   ]
  },
  {
   "cell_type": "code",
   "execution_count": null,
   "metadata": {
    "deletable": false,
    "nbgrader": {
     "cell_type": "code",
     "checksum": "3dc6f18fa20244f8696051d3ac2b7ad2",
     "grade": false,
     "grade_id": "cell-eac384fd230e3178",
     "locked": false,
     "schema_version": 3,
     "solution": true,
     "task": false
    }
   },
   "outputs": [],
   "source": [
    "# your code here\n",
    "fail() # No Answer - remove if you provide an answer"
   ]
  },
  {
   "cell_type": "code",
   "execution_count": null,
   "metadata": {
    "deletable": false,
    "editable": false,
    "nbgrader": {
     "cell_type": "code",
     "checksum": "d01c6768d002065095173eb183744a8e",
     "grade": true,
     "grade_id": "cell-5d65551ed7f404dd",
     "locked": true,
     "points": 1,
     "schema_version": 3,
     "solution": false,
     "task": false
    }
   },
   "outputs": [],
   "source": [
    "test_that(\"Question 3.1\", {expect_equal(digest(unclass(answer3.1)), \"a6125bcbb25047b7a8c932acbb1f2250\")})\n",
    "print(\"Success!\")"
   ]
  },
  {
   "cell_type": "markdown",
   "metadata": {
    "deletable": false,
    "editable": false,
    "nbgrader": {
     "cell_type": "markdown",
     "checksum": "d5d926752629890d00af8375f7545f54",
     "grade": false,
     "grade_id": "cell-9d3e1e0a4ba92267",
     "locked": true,
     "schema_version": 3,
     "solution": false,
     "task": false
    }
   },
   "source": [
    "### Question 3.2\n",
    "\n",
    "> Fit a linear regression model to life expectancy (\"Y\") from year (\"X\") by filling in the formula\n",
    "\n",
    "Now, using the `lm()` function we will create the linear model. Store your answer in `answer3.2`.\n",
    "\n",
    "```\n",
    "(answer3.2 <- FILL_THIS_IN(FILL_THIS_IN ~ FILL_THIS_IN, answer3.1)\n",
    "```"
   ]
  },
  {
   "cell_type": "code",
   "execution_count": null,
   "metadata": {
    "deletable": false,
    "nbgrader": {
     "cell_type": "code",
     "checksum": "1a917b05c869261bc8f3052020db7bcf",
     "grade": false,
     "grade_id": "cell-bd086872f7c88b6f",
     "locked": false,
     "schema_version": 3,
     "solution": true,
     "task": false
    }
   },
   "outputs": [],
   "source": [
    "# your code here\n",
    "fail() # No Answer - remove if you provide an answer"
   ]
  },
  {
   "cell_type": "code",
   "execution_count": null,
   "metadata": {
    "deletable": false,
    "editable": false,
    "nbgrader": {
     "cell_type": "code",
     "checksum": "a4f38b8888914854770c240ee9cfc8b8",
     "grade": true,
     "grade_id": "cell-c32548a2940be4dd",
     "locked": true,
     "points": 1,
     "schema_version": 3,
     "solution": false,
     "task": false
    }
   },
   "outputs": [],
   "source": [
    "test_that(\"Question 3.2\", {\n",
    "    expect_known_hash(round(coef(answer3.2), 4), \"e7375b4c2683882feb9d7215f6929f69\")\n",
    "    expect_known_hash(answer3.2$terms, \"9c71cfd9974bfbc8e160b1a31936d137\")\n",
    "})\n",
    "print(\"Success!\")"
   ]
  },
  {
   "cell_type": "markdown",
   "metadata": {
    "deletable": false,
    "editable": false,
    "nbgrader": {
     "cell_type": "markdown",
     "checksum": "e17cfdb8043d783e404c0c154c65c891",
     "grade": false,
     "grade_id": "cell-0d8ce437120f0108",
     "locked": true,
     "schema_version": 3,
     "solution": false,
     "task": false
    }
   },
   "source": [
    "Does that mean that the life expectency at \"year 0\" was equal to -397.7646?!\n",
    "\n",
    "### Question 3.3\n",
    "We are interested in the modeling results around the modeling period which starts at year 1952. To get a meaniningful \"interpretable\" intercept we can use the `I()` function.\n",
    "\n",
    "Use `I()` to make the intercept so that the \"beginning\" of our dataset (1952) corresponds to '0' in the model. This makes all the years in the data set relative to the first year, 1952.\n",
    "\n",
    "Store your answer in `answer3.3`.\n",
    "\n",
    "```\n",
    "(answer3.3 <- FILL_THIS_IN(FILL_THIS_IN ~ I(FILL_THIS_IN-1952), answer3.1))\n",
    "```"
   ]
  },
  {
   "cell_type": "code",
   "execution_count": null,
   "metadata": {
    "deletable": false,
    "nbgrader": {
     "cell_type": "code",
     "checksum": "ef9b1440c74d00b0c47e396fa0c4801e",
     "grade": false,
     "grade_id": "cell-de478c362e72ff34",
     "locked": false,
     "schema_version": 3,
     "solution": true,
     "task": false
    }
   },
   "outputs": [],
   "source": [
    "# your code here\n",
    "fail() # No Answer - remove if you provide an answer"
   ]
  },
  {
   "cell_type": "code",
   "execution_count": null,
   "metadata": {
    "deletable": false,
    "editable": false,
    "nbgrader": {
     "cell_type": "code",
     "checksum": "08aef58e3c90eb6160c7a4c1387f1def",
     "grade": true,
     "grade_id": "cell-f63ce0b4b32b1c75",
     "locked": true,
     "points": 1,
     "schema_version": 3,
     "solution": false,
     "task": false
    }
   },
   "outputs": [],
   "source": [
    "test_that(\"Question 3.3\", {\n",
    "    expect_known_hash(round(coef(answer3.3), 4), \"6a83f591b39b440f2a699dbee2c23468\")\n",
    "    expect_known_hash(answer3.3$terms, \"f7d8f19ef010f5932ba9b321f3f88282\")\n",
    "})\n",
    "print(\"Success!\")"
   ]
  },
  {
   "cell_type": "markdown",
   "metadata": {
    "deletable": false,
    "editable": false,
    "nbgrader": {
     "cell_type": "markdown",
     "checksum": "e60bd4eb326b3310c181de7b1a07d238",
     "grade": false,
     "grade_id": "cell-e7c56c14d223147e",
     "locked": true,
     "schema_version": 3,
     "solution": false,
     "task": false
    }
   },
   "source": [
    "### Question 3.4\n",
    "Use the `unclass()` function to take a look at how the `lm()` object actually looks like. Store your answer in `answer3.4`.\n",
    "\n",
    "```\n",
    "(answer3.4 <- FILL_THIS_IN(answer3.3))\n",
    "```"
   ]
  },
  {
   "cell_type": "code",
   "execution_count": null,
   "metadata": {
    "deletable": false,
    "nbgrader": {
     "cell_type": "code",
     "checksum": "85e924dfb14d516012b58d1a7532df1d",
     "grade": false,
     "grade_id": "cell-314348ceb2597207",
     "locked": false,
     "schema_version": 3,
     "solution": true,
     "task": false
    }
   },
   "outputs": [],
   "source": [
    "# your code here\n",
    "fail() # No Answer - remove if you provide an answer"
   ]
  },
  {
   "cell_type": "code",
   "execution_count": null,
   "metadata": {
    "deletable": false,
    "editable": false,
    "nbgrader": {
     "cell_type": "code",
     "checksum": "33291f6fb93fe890f94c388d706ba404",
     "grade": true,
     "grade_id": "cell-bb41acc822c171ff",
     "locked": true,
     "points": 1,
     "schema_version": 3,
     "solution": false,
     "task": false
    }
   },
   "outputs": [],
   "source": [
    "test_that(\"Question 3.4\", {\n",
    "    expect_known_hash(round(answer3.4$coefficients, 4), \"6a83f591b39b440f2a699dbee2c23468\")\n",
    "    expect_known_hash(class(answer3.4), \"086ebc4c59c08c43e75bae74f1e16897\")\n",
    "    expect_known_hash(answer3.4$terms, \"f7d8f19ef010f5932ba9b321f3f88282\")\n",
    "    \n",
    "})\n",
    "print(\"Success!\")"
   ]
  },
  {
   "cell_type": "markdown",
   "metadata": {
    "deletable": false,
    "editable": false,
    "nbgrader": {
     "cell_type": "markdown",
     "checksum": "940cad76c6dddd595ef797f1885bc748",
     "grade": false,
     "grade_id": "cell-bbd326a7de5fe167",
     "locked": true,
     "schema_version": 3,
     "solution": false,
     "task": false
    }
   },
   "source": [
    "However, to make things more complicated, some info is stored in _another_ list after applying the `summary` function. Run the code cell below."
   ]
  },
  {
   "cell_type": "code",
   "execution_count": null,
   "metadata": {
    "deletable": false,
    "editable": false,
    "nbgrader": {
     "cell_type": "code",
     "checksum": "a53edb293163789d6b4893252bf78c72",
     "grade": false,
     "grade_id": "cell-cf4084c7b56ad9e6",
     "locked": true,
     "schema_version": 3,
     "solution": false,
     "task": false
    }
   },
   "outputs": [],
   "source": [
    "summary(answer3.3)"
   ]
  },
  {
   "cell_type": "markdown",
   "metadata": {
    "deletable": false,
    "editable": false,
    "nbgrader": {
     "cell_type": "markdown",
     "checksum": "6bd649bd378dcbbb67aeff3f9b61973f",
     "grade": false,
     "grade_id": "cell-457e0258ed33c0cf",
     "locked": true,
     "schema_version": 3,
     "solution": false,
     "task": false
    }
   },
   "source": [
    "We can use the `predict()` function to make predictions from the model (default is to use fitting/training data). Here are the predictions. Run the code cell below. Use `predict()` to predict for years that are within our year range but do not have explicit data points."
   ]
  },
  {
   "cell_type": "code",
   "execution_count": null,
   "metadata": {
    "deletable": false,
    "editable": false,
    "nbgrader": {
     "cell_type": "code",
     "checksum": "92a833d1329d51d8763817874060313c",
     "grade": false,
     "grade_id": "cell-b01b91ce5fc5f14e",
     "locked": true,
     "schema_version": 3,
     "solution": false,
     "task": false
    }
   },
   "outputs": [],
   "source": [
    "(gapminder_France <- data.frame(year = seq(2000, 2005)))\n",
    "predict(answer3.3, newdata = gapminder_France) %>%\n",
    "  head()"
   ]
  },
  {
   "cell_type": "markdown",
   "metadata": {
    "deletable": false,
    "editable": false,
    "nbgrader": {
     "cell_type": "markdown",
     "checksum": "ad06a481be72df06ae4233f63fa0a05c",
     "grade": false,
     "grade_id": "cell-49b6ee4da088c9eb",
     "locked": true,
     "schema_version": 3,
     "solution": false,
     "task": false
    }
   },
   "source": [
    "Or we can predict on a new dataset! Use `predict()` to predict for years that are beyond the range of our dataset, that is, extrapolate data using the model. Run the code cell below."
   ]
  },
  {
   "cell_type": "code",
   "execution_count": null,
   "metadata": {
    "deletable": false,
    "editable": false,
    "nbgrader": {
     "cell_type": "code",
     "checksum": "856707c53b62dafbfa75ad4005db7cb7",
     "grade": false,
     "grade_id": "cell-8fc5e1f252c27858",
     "locked": true,
     "schema_version": 3,
     "solution": false,
     "task": false
    }
   },
   "outputs": [],
   "source": [
    "years1 = data.frame(year = c(3000, 3005))\n",
    "predict(answer3.3,years1)\n",
    "plot(answer3.3)"
   ]
  },
  {
   "cell_type": "markdown",
   "metadata": {
    "deletable": false,
    "editable": false,
    "nbgrader": {
     "cell_type": "markdown",
     "checksum": "1ec44da7cf2ecb367be6e57aff3fb6d7",
     "grade": false,
     "grade_id": "cell-ff65545186927eef",
     "locked": true,
     "schema_version": 3,
     "solution": false,
     "task": false
    }
   },
   "source": [
    "We can plot models (with one predictor/ X variable) using `ggplot2` through the `geom_smooth()` layer. Specifying `method=\"lm\"` gives us the linear regression fit (but only visually!). Run the code cell below."
   ]
  },
  {
   "cell_type": "code",
   "execution_count": null,
   "metadata": {
    "deletable": false,
    "editable": false,
    "nbgrader": {
     "cell_type": "code",
     "checksum": "dcfceac90a60e944aeb402d43daa9f2b",
     "grade": false,
     "grade_id": "cell-31d4f3b8f0d0294a",
     "locked": true,
     "schema_version": 3,
     "solution": false,
     "task": false
    }
   },
   "outputs": [],
   "source": [
    "ggplot(gapminder, aes(gdpPercap, lifeExp)) +\n",
    "    geom_point() +\n",
    "    geom_smooth(method=\"lm\") +\n",
    "    scale_x_log10()"
   ]
  },
  {
   "cell_type": "markdown",
   "metadata": {
    "deletable": false,
    "editable": false,
    "nbgrader": {
     "cell_type": "markdown",
     "checksum": "98f750c4c64c32533c21849fe87a1dda",
     "grade": false,
     "grade_id": "cell-9e56eb8d0c70513d",
     "locked": true,
     "schema_version": 3,
     "solution": false,
     "task": false
    }
   },
   "source": [
    "Let's consider another country \"Zimbabwe\", which has a unique behavior in the `lifeExp` and `year` relationship. Run the code cell below."
   ]
  },
  {
   "cell_type": "code",
   "execution_count": null,
   "metadata": {
    "deletable": false,
    "editable": false,
    "nbgrader": {
     "cell_type": "code",
     "checksum": "141e4ff98fc6e56bd631ed979e94f54f",
     "grade": false,
     "grade_id": "cell-d470da4a08f75875",
     "locked": true,
     "schema_version": 3,
     "solution": false,
     "task": false
    }
   },
   "outputs": [],
   "source": [
    "gapminder_Zimbabwe <- gapminder %>%\n",
    "  filter(country == \"Zimbabwe\")\n",
    "\n",
    "gapminder_Zimbabwe %>% \n",
    "  ggplot(aes(year, lifeExp)) +\n",
    "  geom_point()"
   ]
  },
  {
   "cell_type": "markdown",
   "metadata": {
    "deletable": false,
    "editable": false,
    "nbgrader": {
     "cell_type": "markdown",
     "checksum": "7d0265274c0d2249bbc68cf28a5843b6",
     "grade": false,
     "grade_id": "cell-502ffe31224ed065",
     "locked": true,
     "schema_version": 3,
     "solution": false,
     "task": false
    }
   },
   "source": [
    "Let's try fitting a linear model to this relationship. `se` option allows us to show or hide the confidence interval. Run the code cell below."
   ]
  },
  {
   "cell_type": "code",
   "execution_count": null,
   "metadata": {
    "deletable": false,
    "editable": false,
    "nbgrader": {
     "cell_type": "code",
     "checksum": "7988071859f4acefe5b3cbb67b401a19",
     "grade": false,
     "grade_id": "cell-1530e2070f35eb95",
     "locked": true,
     "schema_version": 3,
     "solution": false,
     "task": false
    }
   },
   "outputs": [],
   "source": [
    "ggplot(gapminder_Zimbabwe, aes(year,lifeExp)) +\n",
    "  geom_point() +\n",
    "  geom_smooth(method = \"lm\", se = F)"
   ]
  },
  {
   "cell_type": "markdown",
   "metadata": {
    "deletable": false,
    "editable": false,
    "nbgrader": {
     "cell_type": "markdown",
     "checksum": "ecd5c1d11710d8f3a79d425b030db03e",
     "grade": false,
     "grade_id": "cell-bf0299a8c1ed7b30",
     "locked": true,
     "schema_version": 3,
     "solution": false,
     "task": false
    }
   },
   "source": [
    "Now we will try to fit a second degree polynomial (`degree = 2`) and see what would that look like. Run the code cell below."
   ]
  },
  {
   "cell_type": "code",
   "execution_count": null,
   "metadata": {
    "deletable": false,
    "editable": false,
    "nbgrader": {
     "cell_type": "code",
     "checksum": "1d9d0621a1febfeefc9013cc78d05fce",
     "grade": false,
     "grade_id": "cell-5163f44a1242f3d5",
     "locked": true,
     "schema_version": 3,
     "solution": false,
     "task": false
    }
   },
   "outputs": [],
   "source": [
    "ggplot(gapminder_Zimbabwe, aes(year, lifeExp)) + \n",
    "  geom_point()+\n",
    "  geom_smooth(method = \"lm\", formula = y ~ poly(I(x - 1952), degree = 2))"
   ]
  },
  {
   "cell_type": "markdown",
   "metadata": {
    "deletable": false,
    "editable": false,
    "nbgrader": {
     "cell_type": "markdown",
     "checksum": "f1c08c1d70e783c721f7ad5b953304cb",
     "grade": false,
     "grade_id": "cell-4952813e2dd68ae0",
     "locked": true,
     "schema_version": 3,
     "solution": false,
     "task": false
    }
   },
   "source": [
    "## Broom\n",
    "Let's make it easier to extract info, using the `broom` package. There are three crown functions in this package, all of which input a fitted model, and outputs a tidy data frame.\n",
    "\n",
    "1. `tidy`: extract statistical summaries about each component of the model.\n",
    "    - Useful for _interpretation_ task.\n",
    "2. `augment`: add columns to the original data frame, giving information corresponding to each row.\n",
    "    - Useful for _prediction_ task.\n",
    "3. `glance`: extract statistical summaries about the model as a whole (1-row tibble).\n",
    "    - Useful for checking goodness of fit.\n",
    "    \n",
    "## Question 4\n",
    "Overview:\n",
    " - Apply all three functions to our fitted model, `answer3.3`\n",
    " \n",
    "### Question 4.1\n",
    "Apply `tidy()` to `answer3.3`. Store your answer in `answer4.1`.\n",
    "\n",
    "```\n",
    "answer4.1 <- FILL_THIS_IN(answer3.3)\n",
    "```"
   ]
  },
  {
   "cell_type": "code",
   "execution_count": null,
   "metadata": {
    "deletable": false,
    "nbgrader": {
     "cell_type": "code",
     "checksum": "ab55bd1b4ecb20bf7352250b8944ea6d",
     "grade": false,
     "grade_id": "cell-ac2a0fd0bdb6d050",
     "locked": false,
     "schema_version": 3,
     "solution": true,
     "task": false
    }
   },
   "outputs": [],
   "source": [
    "# your code here\n",
    "fail() # No Answer - remove if you provide an answer"
   ]
  },
  {
   "cell_type": "code",
   "execution_count": null,
   "metadata": {
    "deletable": false,
    "editable": false,
    "nbgrader": {
     "cell_type": "code",
     "checksum": "357e4211abae4d7e3e8faaba813009af",
     "grade": true,
     "grade_id": "cell-bcc656e0f1096684",
     "locked": true,
     "points": 1,
     "schema_version": 3,
     "solution": false,
     "task": false
    }
   },
   "outputs": [],
   "source": [
    "test_that(\"Question 4.1\", {\n",
    "    expect_known_hash(dimnames(answer4.1), \"b7e5db66048ee1c33cb090078dc59103\")\n",
    "    expect_known_hash(answer4.1[[1]], \"6736fedebcaa557ef7a78f8db206000f\")\n",
    "    expect_known_hash(round(answer4.1[[3]], 4), \"004727aa166a650b3f55c2c11f6be257\")\n",
    "})\n",
    "print(\"Success!\")"
   ]
  },
  {
   "cell_type": "markdown",
   "metadata": {
    "deletable": false,
    "editable": false,
    "nbgrader": {
     "cell_type": "markdown",
     "checksum": "b1d123749f45ffcfa69a807f923c9f70",
     "grade": false,
     "grade_id": "cell-0b192305e446da4d",
     "locked": true,
     "schema_version": 3,
     "solution": false,
     "task": false
    }
   },
   "source": [
    "Run the code cell below to see the `tidy` function result!"
   ]
  },
  {
   "cell_type": "code",
   "execution_count": null,
   "metadata": {
    "deletable": false,
    "editable": false,
    "nbgrader": {
     "cell_type": "code",
     "checksum": "92cc37e41e979eb2119ac312d3e982ba",
     "grade": false,
     "grade_id": "cell-fed20ceebfc40cae",
     "locked": true,
     "schema_version": 3,
     "solution": false,
     "task": false
    }
   },
   "outputs": [],
   "source": [
    "answer4.1"
   ]
  },
  {
   "cell_type": "markdown",
   "metadata": {
    "deletable": false,
    "editable": false,
    "nbgrader": {
     "cell_type": "markdown",
     "checksum": "9aa3326ee6371a038b50c72c1473f8e7",
     "grade": false,
     "grade_id": "cell-9b91f64b029dc78f",
     "locked": true,
     "schema_version": 3,
     "solution": false,
     "task": false
    }
   },
   "source": [
    "### Question 4.2\n",
    "Apply `augment()` to `answer3.3`. Store your answer in `answer4.2`.\n",
    "\n",
    "```\n",
    "answer4.2 <- FILL_THIS_IN(answer3.3)\n",
    "```"
   ]
  },
  {
   "cell_type": "code",
   "execution_count": null,
   "metadata": {
    "deletable": false,
    "nbgrader": {
     "cell_type": "code",
     "checksum": "a963698935b04ddd3e8cbd46ad41b98a",
     "grade": false,
     "grade_id": "cell-11acddecce607fde",
     "locked": false,
     "schema_version": 3,
     "solution": true,
     "task": false
    }
   },
   "outputs": [],
   "source": [
    "# your code here\n",
    "fail() # No Answer - remove if you provide an answer"
   ]
  },
  {
   "cell_type": "code",
   "execution_count": null,
   "metadata": {
    "deletable": false,
    "editable": false,
    "nbgrader": {
     "cell_type": "code",
     "checksum": "85b83714b83246b07a69cdc0b4f3a81d",
     "grade": true,
     "grade_id": "cell-6f28d2ff5f8a394c",
     "locked": true,
     "points": 1,
     "schema_version": 3,
     "solution": false,
     "task": false
    }
   },
   "outputs": [],
   "source": [
    "test_that(\"Question 4.2\", {\n",
    "    expect_known_hash(dimnames(answer4.2), \"9426de2f1eec093be63fa81dae3c2089\")\n",
    "    expect_known_hash(round(answer4.2[[3]], 4), \"3a2e6323312173544d30c4dc75d5b604\")\n",
    "    expect_known_hash(round(answer4.2[[4]], 4), \"b2796c0f920703cb5066fcda716be2e7\")\n",
    "})\n",
    "print(\"Success!\")"
   ]
  },
  {
   "cell_type": "markdown",
   "metadata": {
    "deletable": false,
    "editable": false,
    "nbgrader": {
     "cell_type": "markdown",
     "checksum": "076f4a5c50a76649ee8909025d74fc9a",
     "grade": false,
     "grade_id": "cell-dd266e1368f8b0a1",
     "locked": true,
     "schema_version": 3,
     "solution": false,
     "task": false
    }
   },
   "source": [
    "Run the code cell below to see the `augment` function result:"
   ]
  },
  {
   "cell_type": "code",
   "execution_count": null,
   "metadata": {
    "deletable": false,
    "editable": false,
    "nbgrader": {
     "cell_type": "code",
     "checksum": "4e1f20a7a0965c3094fc941c5161410f",
     "grade": false,
     "grade_id": "cell-9386ea727b58d974",
     "locked": true,
     "schema_version": 3,
     "solution": false,
     "task": false
    }
   },
   "outputs": [],
   "source": [
    "answer4.2"
   ]
  },
  {
   "cell_type": "markdown",
   "metadata": {
    "deletable": false,
    "editable": false,
    "nbgrader": {
     "cell_type": "markdown",
     "checksum": "64a5121e9fca7723653ea82c109db74d",
     "grade": false,
     "grade_id": "cell-10c482e46bfb6925",
     "locked": true,
     "schema_version": 3,
     "solution": false,
     "task": false
    }
   },
   "source": [
    "### Question 4.3\n",
    "Apply `glance()` to `answer3.3`. Store your answer in `answer4.3`.\n",
    "\n",
    "```\n",
    "answer4.3 <- FILL_THIS_IN(answer3.3)\n",
    "```"
   ]
  },
  {
   "cell_type": "code",
   "execution_count": null,
   "metadata": {
    "deletable": false,
    "nbgrader": {
     "cell_type": "code",
     "checksum": "6433f56dc46a6f9f3296355fffc34c65",
     "grade": false,
     "grade_id": "cell-6fc7f2ff75650015",
     "locked": false,
     "schema_version": 3,
     "solution": true,
     "task": false
    }
   },
   "outputs": [],
   "source": [
    "# your code here\n",
    "fail() # No Answer - remove if you provide an answer"
   ]
  },
  {
   "cell_type": "code",
   "execution_count": null,
   "metadata": {
    "deletable": false,
    "editable": false,
    "nbgrader": {
     "cell_type": "code",
     "checksum": "4ea1f42fd1f3de030808f2b0a71e80d5",
     "grade": true,
     "grade_id": "cell-0c6c4d5f47779e91",
     "locked": true,
     "points": 1,
     "schema_version": 3,
     "solution": false,
     "task": false
    }
   },
   "outputs": [],
   "source": [
    "test_that(\"Question 4.3\", {\n",
    "    expect_known_hash(dimnames(answer4.3), \"78044903eb403fb9220d796ac127297c\")\n",
    "    expect_known_hash(round(answer4.3[[2]], 4), \"a3ec6ee89f16b0783571e8f9e26c9ef5\")\n",
    "    expect_known_hash(round(answer4.3[[4]], 4), \"f95d29661fc511c6a038ae4e06b9ea02\")\n",
    "})\n",
    "print(\"Success!\")"
   ]
  },
  {
   "cell_type": "markdown",
   "metadata": {
    "deletable": false,
    "editable": false,
    "nbgrader": {
     "cell_type": "markdown",
     "checksum": "288b7cf954c483859874df8737f28db1",
     "grade": false,
     "grade_id": "cell-51022d5271c50245",
     "locked": true,
     "schema_version": 3,
     "solution": false,
     "task": false
    }
   },
   "source": [
    "Run the code cell below to see the `glance` function result:"
   ]
  },
  {
   "cell_type": "code",
   "execution_count": null,
   "metadata": {
    "deletable": false,
    "editable": false,
    "nbgrader": {
     "cell_type": "code",
     "checksum": "22279b2a4778d576e5e291735f33f308",
     "grade": false,
     "grade_id": "cell-f3b2def8b1bbd7ab",
     "locked": true,
     "schema_version": 3,
     "solution": false,
     "task": false
    }
   },
   "outputs": [],
   "source": [
    "answer4.3"
   ]
  }
 ],
 "metadata": {
  "kernelspec": {
   "display_name": "R",
   "language": "R",
   "name": "ir"
  },
  "language_info": {
   "codemirror_mode": "r",
   "file_extension": ".r",
   "mimetype": "text/x-r-source",
   "name": "R",
   "pygments_lexer": "r",
   "version": "4.0.2"
  }
 },
 "nbformat": 4,
 "nbformat_minor": 4
}
