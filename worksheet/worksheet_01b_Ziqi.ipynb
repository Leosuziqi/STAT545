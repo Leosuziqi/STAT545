{
 "cells": [
  {
   "cell_type": "markdown",
   "metadata": {
    "deletable": false,
    "editable": false,
    "nbgrader": {
     "cell_type": "markdown",
     "checksum": "4bb99410248eaa4bc127b90158017c63",
     "grade": false,
     "grade_id": "cell-e485a74242e7179c",
     "locked": true,
     "schema_version": 3,
     "solution": false,
     "task": false
    }
   },
   "source": [
    "## Worksheet 01b: Writing functions & tests\n",
    "_**Leader:** Icíar Fernández **Reviewer:** Victor Yuan **ASDA Assist:** David Kepplinger_\n",
    "\n",
    "_Version 1_\n",
    "\n",
    "### Attributions\n",
    "\n",
    "Content from this worksheet is largely based on:\n",
    "\n",
    "+ Jenny Bryan's STAT545 [Write your own functions](https://stat545.com/functions-part1.html)\n",
    "    + Some prose is taken verbatim!\n",
    "+ [R Exercises](https://www.r-exercises.com/start-here-to-learn-r/)\n",
    "\n",
    "### Introduction\n",
    "\n",
    "This is the corresponding worksheet for Class 1 (October 27th, 2020) & Class 2 (October 29th, 2020).\n",
    "\n",
    "There are 8 questions on this worksheet. To get 100%, you must get 50% of questions of the worksheet correct - 0.5 * 8 = **4 questions**. \n",
    "\n",
    "Some notes:\n",
    "+ Remember to pay attention to the variable name you store your answer in, or else it will not be autograded correctly.\n",
    "+ To ensure everything works properly, remember to run all code cells, not just the ones with your answer.\n",
    "\n",
    "If you want to use packages which are not yet installed, you can use the code cell below to install them. You may not have the packages `palmerpenguins` and `testthat` installed."
   ]
  },
  {
   "cell_type": "code",
   "execution_count": null,
   "metadata": {
    "deletable": false,
    "nbgrader": {
     "cell_type": "code",
     "checksum": "4993f7d3e10baf7a44e754e1e77499bf",
     "grade": false,
     "grade_id": "cell-a4468420bb3744af",
     "locked": false,
     "schema_version": 3,
     "solution": true,
     "task": false
    }
   },
   "outputs": [],
   "source": [
    "# Install additional packages, e.g.\n",
    "\n",
    "# install.packages(\"palmerpenguins\")\n",
    "# install.packages(\"lubridate\")\n",
    "# install.packages(\"gapminder\")\n",
    "# install.packages(\"tidyverse\")\n",
    "# install.packages(\"testthat\")\n",
    "# your code here\n",
    "fail() # No Answer - remove if you provide an answer"
   ]
  },
  {
   "cell_type": "markdown",
   "metadata": {
    "deletable": false,
    "editable": false,
    "nbgrader": {
     "cell_type": "markdown",
     "checksum": "84bfcf6e9c5150c6a3c84b1974ccf2fc",
     "grade": false,
     "grade_id": "cell-61ef8fcf920036ba",
     "locked": true,
     "schema_version": 3,
     "solution": false,
     "task": false
    }
   },
   "source": [
    "Use the following code cell to load any additional packages you want to use for this worksheet."
   ]
  },
  {
   "cell_type": "code",
   "execution_count": null,
   "metadata": {
    "deletable": false,
    "nbgrader": {
     "cell_type": "code",
     "checksum": "8aa9655792d405bfb83976254778723c",
     "grade": false,
     "grade_id": "cell-8d17bbb9f34f69b2",
     "locked": false,
     "schema_version": 3,
     "solution": true,
     "task": false
    }
   },
   "outputs": [],
   "source": [
    "# Load packages, e.g.\n",
    "# library(devtools)\n",
    "# your code here\n",
    "fail() # No Answer - remove if you provide an answer"
   ]
  },
  {
   "cell_type": "markdown",
   "metadata": {
    "deletable": false,
    "editable": false,
    "nbgrader": {
     "cell_type": "markdown",
     "checksum": "5ef1cf6806ae85be84af38d4d0274ebd",
     "grade": false,
     "grade_id": "cell-7c20bb743aeecbbd",
     "locked": true,
     "schema_version": 3,
     "solution": false,
     "task": false
    }
   },
   "source": [
    "Run the code cell below to load the packages."
   ]
  },
  {
   "cell_type": "code",
   "execution_count": 1,
   "metadata": {
    "deletable": false,
    "editable": false,
    "nbgrader": {
     "cell_type": "code",
     "checksum": "bbaa839adfd83386e1eaf08bdff8d190",
     "grade": false,
     "grade_id": "cell-68766e3cb23b0d10",
     "locked": true,
     "schema_version": 3,
     "solution": false,
     "task": false
    }
   },
   "outputs": [],
   "source": [
    "suppressPackageStartupMessages(library(palmerpenguins))\n",
    "suppressPackageStartupMessages(library(lubridate))\n",
    "suppressPackageStartupMessages(library(gapminder))\n",
    "suppressPackageStartupMessages(library(tidyverse))\n",
    "suppressPackageStartupMessages(library(testthat))"
   ]
  },
  {
   "cell_type": "markdown",
   "metadata": {
    "deletable": false,
    "editable": false,
    "nbgrader": {
     "cell_type": "markdown",
     "checksum": "7cf0ed7320e4c06a6b894fbe7caaebf3",
     "grade": false,
     "grade_id": "cell-bcacce63d5eb75b0",
     "locked": true,
     "schema_version": 3,
     "solution": false,
     "task": false
    }
   },
   "source": [
    "### Class 1: Writing functions\n",
    "\n",
    "**QUESTION 1:**\n",
    "Create a function that allows you to compute the max minus min of the Adelie penguins body mass. A code snippet to calculate max minus min *without a function* is shown to help you - essentially, your task is to turn this code snippet into a function. Be sure to make all three objects shown below.\n",
    "\n",
    "```r\n",
    "# put into practice your knowledge of dplyr to subset the penguins dataset to only those from the Adelie species\n",
    "adelie <- penguins %>% \n",
    "    filter(FILL_THIS_IN == FILL_THIS_IN) %>% \n",
    "    drop_na()\n",
    "\n",
    "# write your function here\n",
    "max_minus_min <- function (x) FILL_THIS_IN - FILL_THIS_IN\n",
    "\n",
    "# apply your function to the Adelie penguins body mass\n",
    "answer1.0 <- max_minus_min(FILL_THIS_IN)\n",
    "```"
   ]
  },
  {
   "cell_type": "code",
   "execution_count": 7,
   "metadata": {
    "deletable": false,
    "nbgrader": {
     "cell_type": "code",
     "checksum": "2b8df34e28903792af3018977fae6fd0",
     "grade": false,
     "grade_id": "cell-87603a76f3c2d5f9",
     "locked": false,
     "schema_version": 3,
     "solution": true,
     "task": false
    }
   },
   "outputs": [
    {
     "data": {
      "text/html": [
       "<table>\n",
       "<caption>A tibble: 6 × 8</caption>\n",
       "<thead>\n",
       "\t<tr><th scope=col>species</th><th scope=col>island</th><th scope=col>bill_length_mm</th><th scope=col>bill_depth_mm</th><th scope=col>flipper_length_mm</th><th scope=col>body_mass_g</th><th scope=col>sex</th><th scope=col>year</th></tr>\n",
       "\t<tr><th scope=col>&lt;fct&gt;</th><th scope=col>&lt;fct&gt;</th><th scope=col>&lt;dbl&gt;</th><th scope=col>&lt;dbl&gt;</th><th scope=col>&lt;int&gt;</th><th scope=col>&lt;int&gt;</th><th scope=col>&lt;fct&gt;</th><th scope=col>&lt;int&gt;</th></tr>\n",
       "</thead>\n",
       "<tbody>\n",
       "\t<tr><td>Adelie</td><td>Torgersen</td><td>39.1</td><td>18.7</td><td>181</td><td>3750</td><td>male  </td><td>2007</td></tr>\n",
       "\t<tr><td>Adelie</td><td>Torgersen</td><td>39.5</td><td>17.4</td><td>186</td><td>3800</td><td>female</td><td>2007</td></tr>\n",
       "\t<tr><td>Adelie</td><td>Torgersen</td><td>40.3</td><td>18.0</td><td>195</td><td>3250</td><td>female</td><td>2007</td></tr>\n",
       "\t<tr><td>Adelie</td><td>Torgersen</td><td>36.7</td><td>19.3</td><td>193</td><td>3450</td><td>female</td><td>2007</td></tr>\n",
       "\t<tr><td>Adelie</td><td>Torgersen</td><td>39.3</td><td>20.6</td><td>190</td><td>3650</td><td>male  </td><td>2007</td></tr>\n",
       "\t<tr><td>Adelie</td><td>Torgersen</td><td>38.9</td><td>17.8</td><td>181</td><td>3625</td><td>female</td><td>2007</td></tr>\n",
       "</tbody>\n",
       "</table>\n"
      ],
      "text/latex": [
       "A tibble: 6 × 8\n",
       "\\begin{tabular}{llllllll}\n",
       " species & island & bill\\_length\\_mm & bill\\_depth\\_mm & flipper\\_length\\_mm & body\\_mass\\_g & sex & year\\\\\n",
       " <fct> & <fct> & <dbl> & <dbl> & <int> & <int> & <fct> & <int>\\\\\n",
       "\\hline\n",
       "\t Adelie & Torgersen & 39.1 & 18.7 & 181 & 3750 & male   & 2007\\\\\n",
       "\t Adelie & Torgersen & 39.5 & 17.4 & 186 & 3800 & female & 2007\\\\\n",
       "\t Adelie & Torgersen & 40.3 & 18.0 & 195 & 3250 & female & 2007\\\\\n",
       "\t Adelie & Torgersen & 36.7 & 19.3 & 193 & 3450 & female & 2007\\\\\n",
       "\t Adelie & Torgersen & 39.3 & 20.6 & 190 & 3650 & male   & 2007\\\\\n",
       "\t Adelie & Torgersen & 38.9 & 17.8 & 181 & 3625 & female & 2007\\\\\n",
       "\\end{tabular}\n"
      ],
      "text/markdown": [
       "\n",
       "A tibble: 6 × 8\n",
       "\n",
       "| species &lt;fct&gt; | island &lt;fct&gt; | bill_length_mm &lt;dbl&gt; | bill_depth_mm &lt;dbl&gt; | flipper_length_mm &lt;int&gt; | body_mass_g &lt;int&gt; | sex &lt;fct&gt; | year &lt;int&gt; |\n",
       "|---|---|---|---|---|---|---|---|\n",
       "| Adelie | Torgersen | 39.1 | 18.7 | 181 | 3750 | male   | 2007 |\n",
       "| Adelie | Torgersen | 39.5 | 17.4 | 186 | 3800 | female | 2007 |\n",
       "| Adelie | Torgersen | 40.3 | 18.0 | 195 | 3250 | female | 2007 |\n",
       "| Adelie | Torgersen | 36.7 | 19.3 | 193 | 3450 | female | 2007 |\n",
       "| Adelie | Torgersen | 39.3 | 20.6 | 190 | 3650 | male   | 2007 |\n",
       "| Adelie | Torgersen | 38.9 | 17.8 | 181 | 3625 | female | 2007 |\n",
       "\n"
      ],
      "text/plain": [
       "  species island    bill_length_mm bill_depth_mm flipper_length_mm body_mass_g\n",
       "1 Adelie  Torgersen 39.1           18.7          181               3750       \n",
       "2 Adelie  Torgersen 39.5           17.4          186               3800       \n",
       "3 Adelie  Torgersen 40.3           18.0          195               3250       \n",
       "4 Adelie  Torgersen 36.7           19.3          193               3450       \n",
       "5 Adelie  Torgersen 39.3           20.6          190               3650       \n",
       "6 Adelie  Torgersen 38.9           17.8          181               3625       \n",
       "  sex    year\n",
       "1 male   2007\n",
       "2 female 2007\n",
       "3 female 2007\n",
       "4 female 2007\n",
       "5 male   2007\n",
       "6 female 2007"
      ]
     },
     "metadata": {},
     "output_type": "display_data"
    },
    {
     "name": "stdout",
     "output_type": "stream",
     "text": [
      "Your final answer:"
     ]
    },
    {
     "data": {
      "text/html": [
       "1925"
      ],
      "text/latex": [
       "1925"
      ],
      "text/markdown": [
       "1925"
      ],
      "text/plain": [
       "[1] 1925"
      ]
     },
     "metadata": {},
     "output_type": "display_data"
    }
   ],
   "source": [
    "# put into practice your knowledge of dplyr to subset the penguins dataset to only those from the Adelie species\n",
    "adelie <- penguins %>% \n",
    "    filter(species == \"Adelie\") %>% \n",
    "    drop_na()\n",
    "\n",
    "# write your function here\n",
    "max_minus_min <- function (x) max(x) - min(x)\n",
    "\n",
    "# apply your function to the Adelie penguins body mass\n",
    "answer1.0 <- max_minus_min(adelie$body_mass_g)\n",
    "head(adelie)\n",
    "cat(\"Your final answer:\")\n",
    "answer1.0"
   ]
  },
  {
   "cell_type": "code",
   "execution_count": 8,
   "metadata": {
    "deletable": false,
    "editable": false,
    "nbgrader": {
     "cell_type": "code",
     "checksum": "5fa4db77c50a9b24617015c323d6d5c5",
     "grade": true,
     "grade_id": "cell-76deea33a2374b6f",
     "locked": true,
     "points": 1,
     "schema_version": 3,
     "solution": false,
     "task": false
    }
   },
   "outputs": [
    {
     "name": "stdout",
     "output_type": "stream",
     "text": [
      "Success!"
     ]
    }
   ],
   "source": [
    "test_that(\"Question 1\", {\n",
    "    expect_known_hash(sort(round(adelie$body_mass_g, 2)), '4c17a7083ab7d3e61b770cfd1ea2515d')\n",
    "    expect_known_hash(round(answer1.0, 3), '112052893c8bd4663fea8754262dfb9e')\n",
    "})\n",
    "cat(\"Success!\")"
   ]
  },
  {
   "cell_type": "markdown",
   "metadata": {
    "deletable": false,
    "editable": false,
    "nbgrader": {
     "cell_type": "markdown",
     "checksum": "7f3aa7e35070b72522f02be4fe9b15b7",
     "grade": false,
     "grade_id": "cell-cb4a911466e26ceb",
     "locked": true,
     "schema_version": 3,
     "solution": false,
     "task": false
    }
   },
   "source": [
    "**QUESTION 2:** Test your function on the life expectancy variable of the `gapminder` dataset and assign the returned value to R object `answer2.0`. Does it work?"
   ]
  },
  {
   "cell_type": "code",
   "execution_count": 9,
   "metadata": {
    "deletable": false,
    "nbgrader": {
     "cell_type": "code",
     "checksum": "aa2ea8cb0f0c07b3b0f24020854482fe",
     "grade": false,
     "grade_id": "cell-f5b58ab34c202448",
     "locked": false,
     "schema_version": 3,
     "solution": true,
     "task": false
    }
   },
   "outputs": [
    {
     "name": "stdout",
     "output_type": "stream",
     "text": [
      "[1] 59.004\n"
     ]
    }
   ],
   "source": [
    "answer2.0 <- max_minus_min(gapminder $lifeExp)\n",
    "\n",
    "print(answer2.0)"
   ]
  },
  {
   "cell_type": "code",
   "execution_count": 10,
   "metadata": {
    "deletable": false,
    "editable": false,
    "nbgrader": {
     "cell_type": "code",
     "checksum": "0d896464f4de760441d85c3118b88b56",
     "grade": true,
     "grade_id": "cell-bce7628c22c0193f",
     "locked": true,
     "points": 1,
     "schema_version": 3,
     "solution": false,
     "task": false
    }
   },
   "outputs": [
    {
     "name": "stdout",
     "output_type": "stream",
     "text": [
      "Success!"
     ]
    }
   ],
   "source": [
    "test_that(\"Question 2\", {\n",
    "    expect_known_hash(round(answer2.0, 3), '4ca07c689295be575d7b41d1c7d8c61f')\n",
    "})\n",
    "cat(\"Success!\")"
   ]
  },
  {
   "cell_type": "markdown",
   "metadata": {
    "deletable": false,
    "editable": false,
    "nbgrader": {
     "cell_type": "markdown",
     "checksum": "1787e888687ac7e9696c5b0636ee816e",
     "grade": false,
     "grade_id": "cell-b8a402fb6bb3f999",
     "locked": true,
     "schema_version": 3,
     "solution": false,
     "task": false
    }
   },
   "source": [
    "**QUESTION 3:** Now, run the following code to test your function. As you can see, the function doesn't work on categorical variables, tibbles or strings - which we expect, because it wouldn't make sense to compute the max minus min in any of those arguments. "
   ]
  },
  {
   "cell_type": "code",
   "execution_count": null,
   "metadata": {
    "deletable": false,
    "nbgrader": {
     "cell_type": "code",
     "checksum": "d247200009b91e1188606022f4da7c37",
     "grade": false,
     "grade_id": "cell-f1b7f1b31f209e0e",
     "locked": false,
     "schema_version": 3,
     "solution": true,
     "task": false
    }
   },
   "outputs": [],
   "source": [
    "#max_minus_min(adelie)\n",
    "#max_minus_min(penguins$species)\n",
    "#max_minus_min(\"stat545 is great\")\n",
    "# your code here\n",
    "fail() # No Answer - remove if you provide an answer"
   ]
  },
  {
   "cell_type": "markdown",
   "metadata": {
    "deletable": false,
    "editable": false,
    "nbgrader": {
     "cell_type": "markdown",
     "checksum": "e2a6e88406884ff27783799453a87d4b",
     "grade": false,
     "grade_id": "cell-3cba6bf68cd1de23",
     "locked": true,
     "schema_version": 3,
     "solution": false,
     "task": false
    }
   },
   "source": [
    "However, R will do *anything* to try and make sense of your function... and that is not always a good thing. If you run the code below, you will see that the function is giving us an output for arguments that do not make any sense."
   ]
  },
  {
   "cell_type": "code",
   "execution_count": 11,
   "metadata": {
    "deletable": false,
    "editable": false,
    "nbgrader": {
     "cell_type": "code",
     "checksum": "5db53ba48dc7d8c256f32919a87fe4f5",
     "grade": false,
     "grade_id": "cell-163c191696c36e5f",
     "locked": true,
     "schema_version": 3,
     "solution": false,
     "task": false
    }
   },
   "outputs": [
    {
     "data": {
      "text/html": [
       "1318683072.401"
      ],
      "text/latex": [
       "1318683072.401"
      ],
      "text/markdown": [
       "1318683072.401"
      ],
      "text/plain": [
       "[1] 1318683072"
      ]
     },
     "metadata": {},
     "output_type": "display_data"
    },
    {
     "data": {
      "text/html": [
       "1"
      ],
      "text/latex": [
       "1"
      ],
      "text/markdown": [
       "1"
      ],
      "text/plain": [
       "[1] 1"
      ]
     },
     "metadata": {},
     "output_type": "display_data"
    }
   ],
   "source": [
    "max_minus_min(gapminder[c('lifeExp', 'gdpPercap', 'pop')])\n",
    "max_minus_min(c(TRUE, FALSE, TRUE))"
   ]
  },
  {
   "cell_type": "markdown",
   "metadata": {
    "deletable": false,
    "editable": false,
    "nbgrader": {
     "cell_type": "markdown",
     "checksum": "3e32181c255d808b7a3975271ccf1ddd",
     "grade": false,
     "grade_id": "cell-630d1c2f6690c65e",
     "locked": true,
     "schema_version": 3,
     "solution": false,
     "task": false
    }
   },
   "source": [
    "To avoid this from happening, rewrite the `max_minus_min` function to include a `stopifnot()`. Think of what should be the argument of `stopifnot()` to solve this issue - in other words, what should be the object class that the function `max_minus_min` should accept (e.g. a dataframe, a character, a number...)?\n",
    "\n",
    "```r\n",
    "answer3.0 <- function(x) {\n",
    "  stopifnot(FILL_THIS_IN) \n",
    "  max(x) - min(x)\n",
    "}\n",
    "```"
   ]
  },
  {
   "cell_type": "code",
   "execution_count": 16,
   "metadata": {
    "deletable": false,
    "nbgrader": {
     "cell_type": "code",
     "checksum": "5a599054f27ef267bbfdcf3033cd41ac",
     "grade": false,
     "grade_id": "cell-dd463f2745b2f285",
     "locked": false,
     "schema_version": 3,
     "solution": true,
     "task": false
    }
   },
   "outputs": [
    {
     "data": {
      "text/html": [
       "<pre class=language-r><code>function (x) \n",
       "{\n",
       "<span style=white-space:pre-wrap>    stopifnot(is.numeric(x))</span>\n",
       "<span style=white-space:pre-wrap>    max(x) - min(x)</span>\n",
       "}</code></pre>"
      ],
      "text/latex": [
       "\\begin{minted}{r}\n",
       "function (x) \n",
       "\\{\n",
       "    stopifnot(is.numeric(x))\n",
       "    max(x) - min(x)\n",
       "\\}\n",
       "\\end{minted}"
      ],
      "text/markdown": [
       "```r\n",
       "function (x) \n",
       "{\n",
       "    stopifnot(is.numeric(x))\n",
       "    max(x) - min(x)\n",
       "}\n",
       "```"
      ],
      "text/plain": [
       "function(x) {\n",
       "  stopifnot(is.numeric(x)) \n",
       "  max(x) - min(x)\n",
       "}"
      ]
     },
     "metadata": {},
     "output_type": "display_data"
    }
   ],
   "source": [
    "answer3.0 <- function(x) {\n",
    "  stopifnot(is.numeric(x)) \n",
    "  max(x) - min(x)\n",
    "}\n",
    "answer3.0"
   ]
  },
  {
   "cell_type": "code",
   "execution_count": 17,
   "metadata": {
    "deletable": false,
    "editable": false,
    "nbgrader": {
     "cell_type": "code",
     "checksum": "7922e9237cba16461c5bfe15c1b0f0d9",
     "grade": true,
     "grade_id": "cell-c4f721c6b2b4cb91",
     "locked": true,
     "points": 1,
     "schema_version": 3,
     "solution": false,
     "task": false
    }
   },
   "outputs": [
    {
     "name": "stdout",
     "output_type": "stream",
     "text": [
      "Success!"
     ]
    }
   ],
   "source": [
    "test_that(\"Question 3\", {\n",
    "    expect_known_hash(mode(answer3.0), 'ecce171f95c8c2466c6516b40beca466')\n",
    "    expect_known_hash(length(formals(answer3.0)), '4b5630ee914e848e8d07221556b0a2fb')\n",
    "    expect_error(answer3.0('a'), 'is.numeric')\n",
    "    expect_error(answer3.0(c(TRUE, FALSE)), 'is.numeric')\n",
    "    expect_error(answer3.0(list(1:5)), 'is.numeric')\n",
    "    expect_known_hash(answer3.0(1:5), '234a2a5581872457b9fe1187d1616b13')\n",
    "})\n",
    "cat(\"Success!\")"
   ]
  },
  {
   "cell_type": "markdown",
   "metadata": {
    "deletable": false,
    "editable": false,
    "nbgrader": {
     "cell_type": "markdown",
     "checksum": "e7422ce532e064a7f6c8de3c633068af",
     "grade": false,
     "grade_id": "cell-d083a08f5ad1cc6e",
     "locked": true,
     "schema_version": 3,
     "solution": false,
     "task": false
    }
   },
   "source": [
    "**QUESTION 4:** In the following chunk, I created a function to convert fahrenheit to celsius. When I test it with arguments that theoretically shouldn't give an output, it appears to have the same problem as our original `max_minus_min()` function. Rewrite the `fahrenheit_to_celsius` function using `if()` and `stop()` instead of `stopifnot()`. This allows you to write your own (more informative) error message.\n",
    "\n",
    "*Hint:* Remember that you are trying to stop the function from working **if the argument is not numeric.**"
   ]
  },
  {
   "cell_type": "code",
   "execution_count": null,
   "metadata": {
    "deletable": false,
    "editable": false,
    "nbgrader": {
     "cell_type": "code",
     "checksum": "4e4fd1063c49d07d9413fb2f81cc8ca4",
     "grade": false,
     "grade_id": "cell-b101dbc844542503",
     "locked": true,
     "schema_version": 3,
     "solution": false,
     "task": false
    }
   },
   "outputs": [],
   "source": [
    "# here I write the function\n",
    "fahrenheit_to_celsius <- function(temp_F) {\n",
    "  temp_C <- (temp_F - 32) * 5 / 9\n",
    "  return(temp_C)\n",
    "}"
   ]
  },
  {
   "cell_type": "code",
   "execution_count": null,
   "metadata": {
    "deletable": false,
    "editable": false,
    "nbgrader": {
     "cell_type": "code",
     "checksum": "757ab31240f8b684db7c8cee81ee7e48",
     "grade": false,
     "grade_id": "cell-6ba3a71b7e8416aa",
     "locked": true,
     "schema_version": 3,
     "solution": false,
     "task": false
    }
   },
   "outputs": [],
   "source": [
    "# here I test it on something that theoretically should not work.. but does\n",
    "fahrenheit_to_celsius(c(TRUE, FALSE, FALSE, TRUE))"
   ]
  },
  {
   "cell_type": "markdown",
   "metadata": {
    "deletable": false,
    "editable": false,
    "nbgrader": {
     "cell_type": "markdown",
     "checksum": "79c74b94f8a9325692472caf916f8f8c",
     "grade": false,
     "grade_id": "cell-92b59ed8a017de13",
     "locked": true,
     "schema_version": 3,
     "solution": false,
     "task": false
    }
   },
   "source": [
    "```r\n",
    "answer4.0 <- function(temp_F) {\n",
    "  if(!FILL_THIS_IN(FILL_THIS_IN)) {\n",
    "    stop('I am so sorry, but this function only works for numeric input!\\n',\n",
    "         'You have provided an object of class: ', class(FILL_THIS_IN)[1])\n",
    "  }\n",
    "  temp_C <- (temp_F - 32) * 5 / 9\n",
    "  return(FILL_THIS_IN)\n",
    "}\n",
    "```"
   ]
  },
  {
   "cell_type": "code",
   "execution_count": 18,
   "metadata": {
    "deletable": false,
    "nbgrader": {
     "cell_type": "code",
     "checksum": "96525dd30c69ab812b70394e151fbb68",
     "grade": false,
     "grade_id": "cell-a9fd920afd588b68",
     "locked": false,
     "schema_version": 3,
     "solution": true,
     "task": false
    }
   },
   "outputs": [],
   "source": [
    "answer4.0 <- function(temp_F) {\n",
    "  if(!is.numeric(temp_F)) {\n",
    "    stop('I am so sorry, but this function only works for numeric input!\\n',\n",
    "         'You have provided an object of class: ', class(temp_F)[1])\n",
    "  }\n",
    "  temp_C <- (temp_F - 32) * 5 / 9\n",
    "  return(temp_C)\n",
    "}"
   ]
  },
  {
   "cell_type": "code",
   "execution_count": 19,
   "metadata": {
    "deletable": false,
    "editable": false,
    "nbgrader": {
     "cell_type": "code",
     "checksum": "5b86e111850bda34139bd7b16f044211",
     "grade": true,
     "grade_id": "cell-bd7e981ed966e789",
     "locked": true,
     "points": 1,
     "schema_version": 3,
     "solution": false,
     "task": false
    }
   },
   "outputs": [
    {
     "name": "stdout",
     "output_type": "stream",
     "text": [
      "Success!"
     ]
    }
   ],
   "source": [
    "test_that(\"Question 4\", {\n",
    "    expect_known_hash(mode(answer4.0), 'ecce171f95c8c2466c6516b40beca466')\n",
    "    expect_known_hash(length(formals(answer4.0)), '4b5630ee914e848e8d07221556b0a2fb')\n",
    "    expect_error(answer4.0(c('4', '20', '12')))\n",
    "    expect_error(answer4.0(c(TRUE, FALSE)))\n",
    "    expect_error(answer4.0(list(1:5)))\n",
    "    expect_known_hash(answer4.0(c(350, 425, 550)), 'ebd71f9f1506f215d50b4d64546b8f7e')\n",
    "    expect_known_hash(answer4.0(1:5), '1faaa13b49412d6a48b0d25c0011f38f')\n",
    "})\n",
    "cat(\"Success!\")"
   ]
  },
  {
   "cell_type": "markdown",
   "metadata": {
    "deletable": false,
    "editable": false,
    "nbgrader": {
     "cell_type": "markdown",
     "checksum": "ba64f0145560e2a616dbd9cf49d8fa2f",
     "grade": false,
     "grade_id": "cell-dcea20ddd0afc73a",
     "locked": true,
     "schema_version": 3,
     "solution": false,
     "task": false
    }
   },
   "source": [
    "Let's try testing your new function with a non-numeric argument below to see what happens! "
   ]
  },
  {
   "cell_type": "code",
   "execution_count": null,
   "metadata": {
    "deletable": false,
    "nbgrader": {
     "cell_type": "code",
     "checksum": "7e9e739c347d7bb2c9951696183337a9",
     "grade": false,
     "grade_id": "cell-e97af9f7a16a4950",
     "locked": false,
     "schema_version": 3,
     "solution": true,
     "task": false
    }
   },
   "outputs": [],
   "source": [
    "#answer4.0(penguins)\n",
    "# your code here\n",
    "fail() # No Answer - remove if you provide an answer"
   ]
  },
  {
   "cell_type": "markdown",
   "metadata": {
    "deletable": false,
    "editable": false,
    "nbgrader": {
     "cell_type": "markdown",
     "checksum": "9810d7742f1bf3af3332de9eed2edb6e",
     "grade": false,
     "grade_id": "cell-ae8804db6997b30d",
     "locked": true,
     "schema_version": 3,
     "solution": false,
     "task": false
    }
   },
   "source": [
    "**QUESTION 5.0:** Write a function that takes 2 arguments (name them `x` and `y`), raises the first argument to the power of the second one, and prints the result with a message that indicates what the output of the function is. Use `stopifnot()` so that the function *only* takes numeric arguments."
   ]
  },
  {
   "cell_type": "markdown",
   "metadata": {
    "deletable": false,
    "editable": false,
    "nbgrader": {
     "cell_type": "markdown",
     "checksum": "0af579e88c480c8c3716a77d7e45213d",
     "grade": false,
     "grade_id": "cell-9cd9dead5f850e93",
     "locked": true,
     "schema_version": 3,
     "solution": false,
     "task": false
    }
   },
   "source": [
    "```r\n",
    "# function to print x raised to the power y\n",
    "answer5.0 <- function(FILL_THIS_IN, FILL_THIS_IN) {\n",
    "    stopifnot(FILL_THIS_IN && FILL_THIS_IN)\n",
    "    result <- FILL_THIS_IN\n",
    "    cat(FILL_THIS_IN, \"raised to the power\", FILL_THIS_IN, \"is\", FILL_THIS_IN)\n",
    "}\n",
    "```"
   ]
  },
  {
   "cell_type": "code",
   "execution_count": 2,
   "metadata": {
    "deletable": false,
    "nbgrader": {
     "cell_type": "code",
     "checksum": "5b3c1e749d07c6af7d1649fa5a003591",
     "grade": false,
     "grade_id": "cell-cccfed813998b291",
     "locked": false,
     "schema_version": 3,
     "solution": true,
     "task": false
    }
   },
   "outputs": [
    {
     "name": "stdout",
     "output_type": "stream",
     "text": [
      "81 raised to the power 3 is 4"
     ]
    }
   ],
   "source": [
    "# function to print x raised to the power y\n",
    "answer5.0 <- function(x, y) {\n",
    "    stopifnot(is.numeric(x) && is.numeric(y))\n",
    "    result <- x^y\n",
    "    cat(result, \"raised to the power\", x, \"is\", y)\n",
    "}\n",
    "answer5.0(3, 4)"
   ]
  },
  {
   "cell_type": "code",
   "execution_count": 3,
   "metadata": {
    "deletable": false,
    "editable": false,
    "nbgrader": {
     "cell_type": "code",
     "checksum": "0c5b01a900717911e9a276027be31591",
     "grade": true,
     "grade_id": "cell-d812b59d2daad9c2",
     "locked": true,
     "points": 1,
     "schema_version": 3,
     "solution": false,
     "task": false
    }
   },
   "outputs": [
    {
     "name": "stdout",
     "output_type": "stream",
     "text": [
      "Success!"
     ]
    }
   ],
   "source": [
    "test_that(\"Question 5\", {\n",
    "    expect_known_hash(mode(answer5.0), 'ecce171f95c8c2466c6516b40beca466')\n",
    "    expect_known_hash(length(formals(answer5.0)), 'c01f179e4b57ab8bd9de309e6d576c48')\n",
    "    expect_error(answer5.0(3, c('4', '20', '12')), 'is.numeric')\n",
    "    expect_error(answer5.0(c(TRUE, FALSE), 2), 'is.numeric')\n",
    "    expect_error(answer5.0(list(1:5), 1:3), 'is.numeric')\n",
    "    expect_output(answer5.0(1/5, 4), '0\\\\.0016')\n",
    "    expect_output(answer5.0(2, 2:5), '4 8 16 32')\n",
    "})\n",
    "cat(\"Success!\")"
   ]
  },
  {
   "cell_type": "markdown",
   "metadata": {
    "deletable": false,
    "editable": false,
    "nbgrader": {
     "cell_type": "markdown",
     "checksum": "e32fcfde7ba0dcf1e44a8cda5dfce56d",
     "grade": false,
     "grade_id": "cell-7005bc21c9703ebd",
     "locked": true,
     "schema_version": 3,
     "solution": false,
     "task": false
    }
   },
   "source": [
    "### Testing functions\n",
    "\n",
    "`testthat` is a collection of functions developed by Hadley Wickham that makes unit testing easy for developers. You can read more about the structure of tests [here](https://r-pkgs.org/tests.html#test-structure). In a nutshell, tests are organized hierarchically: **expectations** are grouped into **tests**. Functions that start with `expect_` describe the expected result of a computation (e.g. Does it have the right class?) - these are expectations. Tests are created with `test_that()` and they group together multiple *expectations* to test the output of a function (at their simplest level). \n",
    "\n",
    "**QUESTION 6:** Expectation functions have two arguments, the first is the actual result, and the second is what you expect. Use `expect_equal()` to check that manually calculating the max minus min of the bill length of all penguins in the `penguins` dataset yields the same result as using a function.\n",
    "\n",
    "Run the following chunk of code first."
   ]
  },
  {
   "cell_type": "code",
   "execution_count": 4,
   "metadata": {
    "deletable": false,
    "editable": false,
    "nbgrader": {
     "cell_type": "code",
     "checksum": "eecc89b71ee8f9b15dd617306475dfe7",
     "grade": false,
     "grade_id": "cell-383f8acc4706a9b9",
     "locked": true,
     "schema_version": 3,
     "solution": false,
     "task": false
    }
   },
   "outputs": [
    {
     "data": {
      "text/html": [
       "27.5"
      ],
      "text/latex": [
       "27.5"
      ],
      "text/markdown": [
       "27.5"
      ],
      "text/plain": [
       "[1] 27.5"
      ]
     },
     "metadata": {},
     "output_type": "display_data"
    }
   ],
   "source": [
    "x <- max(penguins$bill_length_mm, na.rm = TRUE) \n",
    "y <- min(penguins$bill_length_mm, na.rm = TRUE) \n",
    "x - y"
   ]
  },
  {
   "cell_type": "markdown",
   "metadata": {
    "deletable": false,
    "editable": false,
    "nbgrader": {
     "cell_type": "markdown",
     "checksum": "c7ab0f49ce98067e567345ec17e68dcb",
     "grade": false,
     "grade_id": "cell-b37d00bcab16b017",
     "locked": true,
     "schema_version": 3,
     "solution": false,
     "task": false
    }
   },
   "source": [
    "I have written a slightly tweaked version of the `max_minus_min()` function created in **Q1** that allows the user to control the behaviours around NAs. This is important - without removing NAs, if you try running `max_minus_min()` with `penguins$bill_length_mm` as an argument, the output will be NA."
   ]
  },
  {
   "cell_type": "code",
   "execution_count": 5,
   "metadata": {
    "deletable": false,
    "editable": false,
    "nbgrader": {
     "cell_type": "code",
     "checksum": "b3dd4729e9a10d0fd0625096cc481ca5",
     "grade": false,
     "grade_id": "cell-eaf5b985bb719eb9",
     "locked": true,
     "schema_version": 3,
     "solution": false,
     "task": false
    }
   },
   "outputs": [],
   "source": [
    "# new function\n",
    "max_minus_min2 <- function(x, na.rm = TRUE) {\n",
    "  if(!is.numeric(x)) {\n",
    "    stop('I am so sorry, but this function only works for numeric input!\\n',\n",
    "         'You have provided an object of class: ', class(x)[1])\n",
    "  }\n",
    "  max(x, na.rm = na.rm) - min(x, na.rm = na.rm)\n",
    "}"
   ]
  },
  {
   "cell_type": "markdown",
   "metadata": {
    "deletable": false,
    "editable": false,
    "nbgrader": {
     "cell_type": "markdown",
     "checksum": "71ad2c7bd9b4dbb887baf8377dd29852",
     "grade": false,
     "grade_id": "cell-cbf1064e3c65e120",
     "locked": true,
     "schema_version": 3,
     "solution": false,
     "task": false
    }
   },
   "source": [
    "Now, check that the output of this function when calculating the max minus min of the bill length across all penguins in the `penguins` dataset is the same as calculating it \"manually\" as we did above - in other words, that the function output **equals** 27.5.\n",
    "\n",
    "__NOTE__: We're _only_ getting you to store the output of `expect_equal()` in variable `answer6.0` so that we can run the autograder! Otherwise, you'd only ever run it on its own, without assigning it to anything.\n",
    "\n",
    "_Psst... take a look at the test cells in these worksheets. Notice a similarity?_\n",
    "\n",
    "```r\n",
    "answer6.0 <- expect_equal(FILL_THIS_IN, FILL_THIS_IN(FILL_THIS_IN$FILL_THIS_IN, na.rm = TRUE))\n",
    "```"
   ]
  },
  {
   "cell_type": "code",
   "execution_count": 6,
   "metadata": {
    "deletable": false,
    "nbgrader": {
     "cell_type": "code",
     "checksum": "2cbb571ec512286d0159a41d3e25267a",
     "grade": false,
     "grade_id": "cell-e175cc0e06687492",
     "locked": false,
     "schema_version": 3,
     "solution": true,
     "task": false
    }
   },
   "outputs": [
    {
     "data": {
      "text/html": [
       "27.5"
      ],
      "text/latex": [
       "27.5"
      ],
      "text/markdown": [
       "27.5"
      ],
      "text/plain": [
       "[1] 27.5"
      ]
     },
     "metadata": {},
     "output_type": "display_data"
    }
   ],
   "source": [
    "answer6.0 <- expect_equal(x-y, max_minus_min2(penguins$bill_length_mm, na.rm = TRUE))\n",
    "answer6.0"
   ]
  },
  {
   "cell_type": "code",
   "execution_count": 7,
   "metadata": {
    "deletable": false,
    "editable": false,
    "nbgrader": {
     "cell_type": "code",
     "checksum": "b336a7475edf21b41886f89f37c3b1aa",
     "grade": true,
     "grade_id": "cell-852745acab813c93",
     "locked": true,
     "points": 1,
     "schema_version": 3,
     "solution": false,
     "task": false
    }
   },
   "outputs": [
    {
     "name": "stdout",
     "output_type": "stream",
     "text": [
      "Success!"
     ]
    }
   ],
   "source": [
    "test_that(\"Question 6\", {\n",
    "    expect_known_hash(answer6.0, 'b342fe04b00f00610a95dd8ebcc5967c')\n",
    "})\n",
    "cat(\"Success!\")"
   ]
  },
  {
   "cell_type": "markdown",
   "metadata": {
    "deletable": false,
    "editable": false,
    "nbgrader": {
     "cell_type": "markdown",
     "checksum": "7b4a2e40d11577c61b7231af316d1de8",
     "grade": false,
     "grade_id": "cell-c9eb8afbacc927c2",
     "locked": true,
     "schema_version": 3,
     "solution": false,
     "task": false
    }
   },
   "source": [
    "There are other `expect_` functions such as `expect_identical()`, `expect_match()` or `expect_output()` that you can look into further [here](https://r-pkgs.org/tests.html#test-structure). "
   ]
  },
  {
   "cell_type": "markdown",
   "metadata": {
    "deletable": false,
    "editable": false,
    "nbgrader": {
     "cell_type": "markdown",
     "checksum": "23698574eee575ab8263874a8fbe3dd6",
     "grade": false,
     "grade_id": "cell-de5e8aafd7ed7bbd",
     "locked": true,
     "schema_version": 3,
     "solution": false,
     "task": false
    }
   },
   "source": [
    "**QUESTION 7:** Let's try combining a different expectation function and `test_that()` with a very easy example. We start by writing a very simple function that returns the string \"Hello world, my name is\" + your name."
   ]
  },
  {
   "cell_type": "code",
   "execution_count": 8,
   "metadata": {
    "deletable": false,
    "editable": false,
    "nbgrader": {
     "cell_type": "code",
     "checksum": "8e2ab05b729787c122ed185bd7e49b88",
     "grade": false,
     "grade_id": "cell-e1471a691fd2d1bb",
     "locked": true,
     "schema_version": 3,
     "solution": false,
     "task": false
    }
   },
   "outputs": [],
   "source": [
    "hello_world <- function(x) {\n",
    "    stopifnot(is.character(x)) # we want x to be a character\n",
    "    paste('Hello world, my name is', x)\n",
    "}"
   ]
  },
  {
   "cell_type": "markdown",
   "metadata": {
    "deletable": false,
    "editable": false,
    "nbgrader": {
     "cell_type": "markdown",
     "checksum": "5588fad9619b8c97f25bd1e0eb3e8445",
     "grade": false,
     "grade_id": "cell-4b9a5ac3822d15a8",
     "locked": true,
     "schema_version": 3,
     "solution": false,
     "task": false
    }
   },
   "source": [
    "In the next code cell, we'll run `hello_world()` with \"Julie Payette\" as an argument, just to see the output!"
   ]
  },
  {
   "cell_type": "code",
   "execution_count": 9,
   "metadata": {
    "deletable": false,
    "editable": false,
    "nbgrader": {
     "cell_type": "code",
     "checksum": "446711188810651063ff8f10e8278e76",
     "grade": false,
     "grade_id": "cell-59d7decdaf647c97",
     "locked": true,
     "schema_version": 3,
     "solution": false,
     "task": false
    }
   },
   "outputs": [
    {
     "data": {
      "text/html": [
       "'Hello world, my name is Julie Payette'"
      ],
      "text/latex": [
       "'Hello world, my name is Julie Payette'"
      ],
      "text/markdown": [
       "'Hello world, my name is Julie Payette'"
      ],
      "text/plain": [
       "[1] \"Hello world, my name is Julie Payette\""
      ]
     },
     "metadata": {},
     "output_type": "display_data"
    }
   ],
   "source": [
    "hello_world(\"Julie Payette\")"
   ]
  },
  {
   "cell_type": "markdown",
   "metadata": {
    "deletable": false,
    "editable": false,
    "nbgrader": {
     "cell_type": "markdown",
     "checksum": "cbf2ff1ffa8245dbb09e0371bbac03e2",
     "grade": false,
     "grade_id": "cell-5f61dc5783562620",
     "locked": true,
     "schema_version": 3,
     "solution": false,
     "task": false
    }
   },
   "source": [
    "Great! Now, let's simply test that the output of `hello_world()` with _your_ name as an argument matches the character vector **'Hello world, my name is'**. I have added an example of how `expect_match()` works to help you write your test.\n",
    "\n",
    "```\n",
    "eggplants <- \"Eggplants are purple\"\n",
    "expect_match(eggplants, \"Eggplants\") # works\n",
    "expect_match(eggplants, \"purple\") # works\n",
    "\n",
    "# your turn\n",
    "answer7.0 <- test_that(\"returns hello world + your name string\", {\n",
    "    expect_match(FILL_THIS_IN(FILL_THIS_IN), FILL_THIS_IN)\n",
    "})\n",
    "```"
   ]
  },
  {
   "cell_type": "code",
   "execution_count": 11,
   "metadata": {
    "deletable": false,
    "nbgrader": {
     "cell_type": "code",
     "checksum": "c68a159a8355f3224fbda4522a0ec4c3",
     "grade": false,
     "grade_id": "cell-b539fd87839f379e",
     "locked": false,
     "schema_version": 3,
     "solution": true,
     "task": false
    }
   },
   "outputs": [],
   "source": [
    "# your turn\n",
    "answer7.0 <- test_that(\"returns hello world + your name string\", {\n",
    "    expect_match(hello_world(\"Julie Payette\"), \"Hello world, my name is\")\n",
    "})"
   ]
  },
  {
   "cell_type": "code",
   "execution_count": 12,
   "metadata": {
    "deletable": false,
    "editable": false,
    "nbgrader": {
     "cell_type": "code",
     "checksum": "4088cfb09dc56a9005ccc730bf18a053",
     "grade": true,
     "grade_id": "cell-eed9a46d9c5ae258",
     "locked": true,
     "points": 1,
     "schema_version": 3,
     "solution": false,
     "task": false
    }
   },
   "outputs": [
    {
     "name": "stdout",
     "output_type": "stream",
     "text": [
      "Success!"
     ]
    }
   ],
   "source": [
    "test_that(\"Question 7\", {\n",
    "    expect_known_hash(answer7.0, 'bb73ad91bcb7e948250d465016f7b')\n",
    "})\n",
    "cat(\"Success!\")"
   ]
  },
  {
   "cell_type": "markdown",
   "metadata": {
    "deletable": false,
    "editable": false,
    "nbgrader": {
     "cell_type": "markdown",
     "checksum": "9995a6335ec7656eaf126cf7f0e10468",
     "grade": false,
     "grade_id": "cell-95fbf3199a22b139",
     "locked": true,
     "schema_version": 3,
     "solution": false,
     "task": false
    }
   },
   "source": [
    "**QUESTION 8:** Create a function called `m` that multiplies two numbers (arguments `x` and `y`). Create a test for function `m` with description \"Testing multiplication function\" and add a few scenarios to it:\n",
    "\n",
    "+ Check if `m(2,3)` equals `6`\n",
    "+ Check if `m(2, c(2,3))` equals `c(4,6)`\n",
    "+ Check if `m(2, \"3\")` throws an error \"non-numeric argument to binary operator\"\n",
    "\n",
    "```r\n",
    "m <- function(FILL_THIS_IN) FILL_THIS_IN\n",
    "answer8.0 <- test_that(\"Testing multiplication function\", {\n",
    "  expect_equal(FILL_THIS_IN)\n",
    "  expect_equal(FILL_THIS_IN)\n",
    "  expect_error(FILL_THIS_IN, FILL_THIS_IN)\n",
    "})\n",
    "```"
   ]
  },
  {
   "cell_type": "code",
   "execution_count": 17,
   "metadata": {
    "deletable": false,
    "nbgrader": {
     "cell_type": "code",
     "checksum": "cca1904eab99340a3a7a3de1c71bee0d",
     "grade": false,
     "grade_id": "cell-df60f586bfdb80b7",
     "locked": false,
     "schema_version": 3,
     "solution": true,
     "task": false
    }
   },
   "outputs": [],
   "source": [
    "m <- function(x,y) {\n",
    "     if(!is.numeric(x) || !is.numeric(y)) {\n",
    "        stop(\"non-numeric argument to binary operator\")\n",
    "         }\n",
    "    x*y\n",
    "}\n",
    "answer8.0 <- test_that(\"Testing multiplication function\", {\n",
    "  expect_equal(m(2,3),6)\n",
    "  expect_equal(m(2, c(2,3)),c(4,6))\n",
    "  expect_error(m(2, \"3\"), \"non-numeric argument to binary operator\")\n",
    "})"
   ]
  },
  {
   "cell_type": "code",
   "execution_count": 18,
   "metadata": {
    "deletable": false,
    "editable": false,
    "nbgrader": {
     "cell_type": "code",
     "checksum": "1c7dc48066f91a4ad71f12edf44aa8ac",
     "grade": true,
     "grade_id": "cell-64b58cd50bfda83c",
     "locked": true,
     "points": 1,
     "schema_version": 3,
     "solution": false,
     "task": false
    }
   },
   "outputs": [
    {
     "name": "stdout",
     "output_type": "stream",
     "text": [
      "Success!"
     ]
    }
   ],
   "source": [
    "test_that(\"Question 8\", {\n",
    "    expect_known_hash(round(answer8.0, 2), '6717f2823d3202449301145073ab8')\n",
    "})\n",
    "cat(\"Success!\")"
   ]
  }
 ],
 "metadata": {
  "kernelspec": {
   "display_name": "R",
   "language": "R",
   "name": "ir"
  },
  "language_info": {
   "codemirror_mode": "r",
   "file_extension": ".r",
   "mimetype": "text/x-r-source",
   "name": "R",
   "pygments_lexer": "r",
   "version": "4.0.2"
  }
 },
 "nbformat": 4,
 "nbformat_minor": 4
}
