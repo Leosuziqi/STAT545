{
 "cells": [
  {
   "cell_type": "markdown",
   "metadata": {
    "deletable": false,
    "editable": false,
    "nbgrader": {
     "cell_type": "markdown",
     "checksum": "77c22bea200a5213a3d5865a19404f03",
     "grade": false,
     "grade_id": "cell-5a1648d1099b8d76",
     "locked": true,
     "schema_version": 3,
     "solution": false,
     "task": false
    }
   },
   "source": [
    "# Worksheet 3-B: Strings and Regular Expressions\n",
    "\n",
    "**Version 1.0.0**\n",
    "\n",
    "In this tutorial, you'll practice how to:\n",
    "\n",
    "- Manipulate a character vector in R using the stringr package.\n",
    "- Write simple regular expressions (regex).\n",
    "- Apply regular expressions to data manipulation."
   ]
  },
  {
   "cell_type": "code",
   "execution_count": 59,
   "metadata": {
    "deletable": false,
    "editable": false,
    "lines_to_next_cell": 2,
    "message": false,
    "nbgrader": {
     "cell_type": "code",
     "checksum": "7e25c87a59f623a346af50073d902483",
     "grade": false,
     "grade_id": "cell-af848431e3f81a1f",
     "locked": true,
     "schema_version": 3,
     "solution": false,
     "task": false
    },
    "warning": false
   },
   "outputs": [],
   "source": [
    "suppressPackageStartupMessages(library(tidyverse))\n",
    "suppressPackageStartupMessages(library(gapminder))\n",
    "suppressPackageStartupMessages(library(testthat))\n",
    "suppressPackageStartupMessages(library(digest))"
   ]
  },
  {
   "cell_type": "markdown",
   "metadata": {
    "deletable": false,
    "editable": false,
    "nbgrader": {
     "cell_type": "markdown",
     "checksum": "35ccb03cc6c73d8d32e4d19de760e6b5",
     "grade": false,
     "grade_id": "cell-f13d49ed5f0c8271",
     "locked": true,
     "schema_version": 3,
     "solution": false,
     "task": false
    }
   },
   "source": [
    "# Part 1: Warming up to the stringr functions\n",
    "\n",
    "\n",
    "### Question 1\n",
    "\n",
    "There's that famous sentence about the \"quick fox\" that contains all letters of the alphabet, although we don't quite remember the sentence. Obtain a vector of all sentences from the `stringr::sentences` dataset containing the word `\"fox\"`. Store the resulting vector in a variable named `answer1`."
   ]
  },
  {
   "cell_type": "code",
   "execution_count": 17,
   "metadata": {
    "deletable": false,
    "lines_to_next_cell": 0,
    "nbgrader": {
     "cell_type": "code",
     "checksum": "343e80475608ac9f841bae6d3148a281",
     "grade": false,
     "grade_id": "cell-a58e8d689deb018c",
     "locked": false,
     "schema_version": 3,
     "solution": true,
     "task": false
    }
   },
   "outputs": [
    {
     "name": "stdout",
     "output_type": "stream",
     "text": [
      "[1] \"The quick fox jumped on the sleeping cat.\"\n"
     ]
    }
   ],
   "source": [
    " answer1 <- str_subset(sentences, \"fox\")\n",
    "\n",
    "print(answer1)"
   ]
  },
  {
   "cell_type": "code",
   "execution_count": 18,
   "metadata": {
    "deletable": false,
    "editable": false,
    "nbgrader": {
     "cell_type": "code",
     "checksum": "deffff8c53d676647f07b91257713678",
     "grade": true,
     "grade_id": "cell-db0455c89d6a2069",
     "locked": true,
     "points": 1,
     "schema_version": 3,
     "solution": false,
     "task": false
    }
   },
   "outputs": [
    {
     "name": "stdout",
     "output_type": "stream",
     "text": [
      "success!"
     ]
    }
   ],
   "source": [
    "expect_identical(digest(answer1), \"b54efc522343ff2628fee7e71bd17747\")\n",
    "cat(\"success!\")"
   ]
  },
  {
   "cell_type": "markdown",
   "metadata": {
    "deletable": false,
    "editable": false,
    "nbgrader": {
     "cell_type": "markdown",
     "checksum": "2b7a7f820d2be6a998d9678a853d9994",
     "grade": false,
     "grade_id": "cell-4870f5e5546e7b57",
     "locked": true,
     "schema_version": 3,
     "solution": false,
     "task": false
    }
   },
   "source": [
    "### Question 2\n",
    "\n",
    "Make an (atomic) vector of the individual words in the sentence. Store the result in a variable named `answer2`.\n",
    "\n",
    "Hint: Use `str_split(string, pattern)`, and carefully note what the output of this function is."
   ]
  },
  {
   "cell_type": "code",
   "execution_count": 19,
   "metadata": {
    "deletable": false,
    "nbgrader": {
     "cell_type": "code",
     "checksum": "d1e1fd40f516c1c5ab405fc9fcfc20bf",
     "grade": false,
     "grade_id": "cell-3b19e819ba1741cc",
     "locked": false,
     "schema_version": 3,
     "solution": true,
     "task": false
    }
   },
   "outputs": [
    {
     "name": "stdout",
     "output_type": "stream",
     "text": [
      "[1] \"The\"      \"quick\"    \"fox\"      \"jumped\"   \"on\"       \"the\"      \"sleeping\"\n",
      "[8] \"cat.\"    \n"
     ]
    }
   ],
   "source": [
    "answer2<-str_split(answer1, \" \")[[1]]\n",
    "print(answer2)"
   ]
  },
  {
   "cell_type": "code",
   "execution_count": 20,
   "metadata": {
    "deletable": false,
    "editable": false,
    "nbgrader": {
     "cell_type": "code",
     "checksum": "96093355652d951c09d16986a5efe995",
     "grade": true,
     "grade_id": "cell-d1935f696f01ac13",
     "locked": true,
     "points": 1,
     "schema_version": 3,
     "solution": false,
     "task": false
    }
   },
   "outputs": [
    {
     "name": "stdout",
     "output_type": "stream",
     "text": [
      "success!"
     ]
    }
   ],
   "source": [
    "expect_identical(digest(answer2), \"e9776d44cb7da14ddffdfa985e1d8908\")\n",
    "cat(\"success!\")"
   ]
  },
  {
   "cell_type": "markdown",
   "metadata": {
    "deletable": false,
    "editable": false,
    "nbgrader": {
     "cell_type": "markdown",
     "checksum": "b0103d396afc388fa7a85618002183d7",
     "grade": false,
     "grade_id": "cell-7552bac49a0bfb48",
     "locked": true,
     "schema_version": 3,
     "solution": false,
     "task": false
    }
   },
   "source": [
    "### Question 3\n",
    "\n",
    "With stringr, we can substitute parts of a string, too. Replace the word \"fox\" from `answer1` with \"giraffe\" using `str_replace()`, and store the result in a variable named `answer3`."
   ]
  },
  {
   "cell_type": "code",
   "execution_count": 22,
   "metadata": {
    "deletable": false,
    "nbgrader": {
     "cell_type": "code",
     "checksum": "44be23331f27f04ea4fbd42f5d124443",
     "grade": false,
     "grade_id": "cell-57e67c68f704efe5",
     "locked": false,
     "schema_version": 3,
     "solution": true,
     "task": false
    }
   },
   "outputs": [
    {
     "name": "stdout",
     "output_type": "stream",
     "text": [
      "[1] \"The quick giraffe jumped on the sleeping cat.\"\n"
     ]
    }
   ],
   "source": [
    " answer3 <- str_replace(answer1, pattern = \"fox\", replacement = \"giraffe\")\n",
    "\n",
    "# your code here\n",
    "print(answer3)"
   ]
  },
  {
   "cell_type": "code",
   "execution_count": 23,
   "metadata": {
    "deletable": false,
    "editable": false,
    "nbgrader": {
     "cell_type": "code",
     "checksum": "dacc2051e0abd5081f7f6de0f3b49561",
     "grade": true,
     "grade_id": "cell-e608b848e630672b",
     "locked": true,
     "points": 1,
     "schema_version": 3,
     "solution": false,
     "task": false
    }
   },
   "outputs": [
    {
     "name": "stdout",
     "output_type": "stream",
     "text": [
      "success!"
     ]
    }
   ],
   "source": [
    "expect_identical(digest(answer3), \"8659b349bfc1e359cdbb08cd38f5537d\")\n",
    "cat(\"success!\")"
   ]
  },
  {
   "cell_type": "markdown",
   "metadata": {
    "deletable": false,
    "editable": false,
    "nbgrader": {
     "cell_type": "markdown",
     "checksum": "5dd20376fdc88523322032cc269bf464",
     "grade": false,
     "grade_id": "cell-70314b66ec8f657d",
     "locked": true,
     "schema_version": 3,
     "solution": false,
     "task": false
    }
   },
   "source": [
    "### Question 4: pig latin\n",
    "\n",
    "(Solutions are indicated below.)\n",
    "\n",
    "Convert `words` to a simplistic version of pig latin:\n",
    "\n",
    "1. Move the first letter to the end of the word.\n",
    "2. Add \"ay\" to the end of the word.\n",
    "\n",
    "Hint: subset by position using `str_sub(string, start, end)`.\n",
    "\n",
    "Store the result in a variable named `answer4`."
   ]
  },
  {
   "cell_type": "code",
   "execution_count": 34,
   "metadata": {
    "deletable": false,
    "nbgrader": {
     "cell_type": "code",
     "checksum": "5165e329c05ab3ef5a3eb4c51b05d32b",
     "grade": false,
     "grade_id": "cell-15d22488e4fbf24f",
     "locked": false,
     "schema_version": 3,
     "solution": true,
     "task": false
    }
   },
   "outputs": [
    {
     "data": {
      "text/html": [
       "<style>\n",
       ".list-inline {list-style: none; margin:0; padding: 0}\n",
       ".list-inline>li {display: inline-block}\n",
       ".list-inline>li:not(:last-child)::after {content: \"\\00b7\"; padding: 0 .5ex}\n",
       "</style>\n",
       "<ol class=list-inline><li>'aay'</li><li>'bleaay'</li><li>'boutaay'</li><li>'bsoluteaay'</li><li>'cceptaay'</li><li>'ccountaay'</li></ol>\n"
      ],
      "text/latex": [
       "\\begin{enumerate*}\n",
       "\\item 'aay'\n",
       "\\item 'bleaay'\n",
       "\\item 'boutaay'\n",
       "\\item 'bsoluteaay'\n",
       "\\item 'cceptaay'\n",
       "\\item 'ccountaay'\n",
       "\\end{enumerate*}\n"
      ],
      "text/markdown": [
       "1. 'aay'\n",
       "2. 'bleaay'\n",
       "3. 'boutaay'\n",
       "4. 'bsoluteaay'\n",
       "5. 'cceptaay'\n",
       "6. 'ccountaay'\n",
       "\n",
       "\n"
      ],
      "text/plain": [
       "[1] \"aay\"        \"bleaay\"     \"boutaay\"    \"bsoluteaay\" \"cceptaay\"  \n",
       "[6] \"ccountaay\" "
      ]
     },
     "metadata": {},
     "output_type": "display_data"
    }
   ],
   "source": [
    "firstletter<-str_sub(words, 1,1)\n",
    "ords<-str_sub(words, 2)\n",
    "answer4<- str_c(ords,firstletter,\"ay\")\n",
    "head(answer4)"
   ]
  },
  {
   "cell_type": "code",
   "execution_count": 35,
   "metadata": {
    "deletable": false,
    "editable": false,
    "nbgrader": {
     "cell_type": "code",
     "checksum": "bb82c3530916254376d5709a996e3dd1",
     "grade": true,
     "grade_id": "cell-0276937d4eb92af6",
     "locked": true,
     "points": 1,
     "schema_version": 3,
     "solution": false,
     "task": false
    }
   },
   "outputs": [
    {
     "name": "stdout",
     "output_type": "stream",
     "text": [
      "success!"
     ]
    }
   ],
   "source": [
    "expect_identical(digest(answer4), \"66f9cc0b279607492b6d015f979210d2\")\n",
    "cat(\"success!\")"
   ]
  },
  {
   "cell_type": "markdown",
   "metadata": {
    "deletable": false,
    "editable": false,
    "nbgrader": {
     "cell_type": "markdown",
     "checksum": "fce188d2a341b8c87380bcd185287203",
     "grade": false,
     "grade_id": "cell-4279ce4715735a66",
     "locked": true,
     "schema_version": 3,
     "solution": false,
     "task": false
    }
   },
   "source": [
    "## Part 2: Manipulating character columns in a tibble\n",
    "\n",
    "Consider the wedding dataset on the UBC-STAT/stat545.stat.ubc.ca GitHub repository:"
   ]
  },
  {
   "cell_type": "code",
   "execution_count": 24,
   "metadata": {
    "deletable": false,
    "editable": false,
    "nbgrader": {
     "cell_type": "code",
     "checksum": "84a330d19146c1b2b775e9e7e4881dde",
     "grade": false,
     "grade_id": "cell-6092c25816b4ae37",
     "locked": true,
     "schema_version": 3,
     "solution": false,
     "task": false
    }
   },
   "outputs": [
    {
     "data": {
      "text/html": [
       "<table>\n",
       "<caption>A tibble: 6 × 7</caption>\n",
       "<thead>\n",
       "\t<tr><th scope=col>party</th><th scope=col>name</th><th scope=col>meal_wedding</th><th scope=col>meal_brunch</th><th scope=col>attendance_wedding</th><th scope=col>attendance_brunch</th><th scope=col>attendance_golf</th></tr>\n",
       "\t<tr><th scope=col>&lt;dbl&gt;</th><th scope=col>&lt;chr&gt;</th><th scope=col>&lt;chr&gt;</th><th scope=col>&lt;chr&gt;</th><th scope=col>&lt;chr&gt;</th><th scope=col>&lt;chr&gt;</th><th scope=col>&lt;chr&gt;</th></tr>\n",
       "</thead>\n",
       "<tbody>\n",
       "\t<tr><td>1</td><td>Sommer Medrano </td><td>PENDING   </td><td>PENDING</td><td>PENDING  </td><td>PENDING  </td><td>PENDING  </td></tr>\n",
       "\t<tr><td>1</td><td>Phillip Medrano</td><td>vegetarian</td><td>Menu C </td><td>CONFIRMED</td><td>CONFIRMED</td><td>CONFIRMED</td></tr>\n",
       "\t<tr><td>1</td><td>Blanka Medrano </td><td>chicken   </td><td>Menu A </td><td>CONFIRMED</td><td>CONFIRMED</td><td>CONFIRMED</td></tr>\n",
       "\t<tr><td>1</td><td>Emaan Medrano  </td><td>PENDING   </td><td>PENDING</td><td>PENDING  </td><td>PENDING  </td><td>PENDING  </td></tr>\n",
       "\t<tr><td>2</td><td>Blair Park     </td><td>chicken   </td><td>Menu C </td><td>CONFIRMED</td><td>CONFIRMED</td><td>CONFIRMED</td></tr>\n",
       "\t<tr><td>2</td><td>Nigel Webb     </td><td>NA        </td><td>NA     </td><td>CANCELLED</td><td>CANCELLED</td><td>CANCELLED</td></tr>\n",
       "</tbody>\n",
       "</table>\n"
      ],
      "text/latex": [
       "A tibble: 6 × 7\n",
       "\\begin{tabular}{lllllll}\n",
       " party & name & meal\\_wedding & meal\\_brunch & attendance\\_wedding & attendance\\_brunch & attendance\\_golf\\\\\n",
       " <dbl> & <chr> & <chr> & <chr> & <chr> & <chr> & <chr>\\\\\n",
       "\\hline\n",
       "\t 1 & Sommer Medrano  & PENDING    & PENDING & PENDING   & PENDING   & PENDING  \\\\\n",
       "\t 1 & Phillip Medrano & vegetarian & Menu C  & CONFIRMED & CONFIRMED & CONFIRMED\\\\\n",
       "\t 1 & Blanka Medrano  & chicken    & Menu A  & CONFIRMED & CONFIRMED & CONFIRMED\\\\\n",
       "\t 1 & Emaan Medrano   & PENDING    & PENDING & PENDING   & PENDING   & PENDING  \\\\\n",
       "\t 2 & Blair Park      & chicken    & Menu C  & CONFIRMED & CONFIRMED & CONFIRMED\\\\\n",
       "\t 2 & Nigel Webb      & NA         & NA      & CANCELLED & CANCELLED & CANCELLED\\\\\n",
       "\\end{tabular}\n"
      ],
      "text/markdown": [
       "\n",
       "A tibble: 6 × 7\n",
       "\n",
       "| party &lt;dbl&gt; | name &lt;chr&gt; | meal_wedding &lt;chr&gt; | meal_brunch &lt;chr&gt; | attendance_wedding &lt;chr&gt; | attendance_brunch &lt;chr&gt; | attendance_golf &lt;chr&gt; |\n",
       "|---|---|---|---|---|---|---|\n",
       "| 1 | Sommer Medrano  | PENDING    | PENDING | PENDING   | PENDING   | PENDING   |\n",
       "| 1 | Phillip Medrano | vegetarian | Menu C  | CONFIRMED | CONFIRMED | CONFIRMED |\n",
       "| 1 | Blanka Medrano  | chicken    | Menu A  | CONFIRMED | CONFIRMED | CONFIRMED |\n",
       "| 1 | Emaan Medrano   | PENDING    | PENDING | PENDING   | PENDING   | PENDING   |\n",
       "| 2 | Blair Park      | chicken    | Menu C  | CONFIRMED | CONFIRMED | CONFIRMED |\n",
       "| 2 | Nigel Webb      | NA         | NA      | CANCELLED | CANCELLED | CANCELLED |\n",
       "\n"
      ],
      "text/plain": [
       "  party name            meal_wedding meal_brunch attendance_wedding\n",
       "1 1     Sommer Medrano  PENDING      PENDING     PENDING           \n",
       "2 1     Phillip Medrano vegetarian   Menu C      CONFIRMED         \n",
       "3 1     Blanka Medrano  chicken      Menu A      CONFIRMED         \n",
       "4 1     Emaan Medrano   PENDING      PENDING     PENDING           \n",
       "5 2     Blair Park      chicken      Menu C      CONFIRMED         \n",
       "6 2     Nigel Webb      NA           NA          CANCELLED         \n",
       "  attendance_brunch attendance_golf\n",
       "1 PENDING           PENDING        \n",
       "2 CONFIRMED         CONFIRMED      \n",
       "3 CONFIRMED         CONFIRMED      \n",
       "4 PENDING           PENDING        \n",
       "5 CONFIRMED         CONFIRMED      \n",
       "6 CANCELLED         CANCELLED      "
      ]
     },
     "metadata": {},
     "output_type": "display_data"
    }
   ],
   "source": [
    "wedding <- suppressMessages(read_csv(\"https://raw.githubusercontent.com/UBC-STAT/stat545.stat.ubc.ca/master/content/data/wedding/attend.csv\"))\n",
    "head(wedding)"
   ]
  },
  {
   "cell_type": "markdown",
   "metadata": {
    "deletable": false,
    "editable": false,
    "nbgrader": {
     "cell_type": "markdown",
     "checksum": "690080f1b8e2800d1200c4dd6c3d76b4",
     "grade": false,
     "grade_id": "cell-5b1e786c558fb481",
     "locked": true,
     "schema_version": 3,
     "solution": false,
     "task": false
    }
   },
   "source": [
    "### Question 5\n",
    "\n",
    "Split the `name` column into two columns, named `first` and `last` containing the first and last names (which are currently separated by a space). Store the resulting tibble in a variable called `answer5`.\n",
    "\n",
    "**Hint**:\n",
    "\n",
    "- Use `tidyr::separate()`.\n",
    "- Want a challenge? Try the same exercise, using `str_split()`. "
   ]
  },
  {
   "cell_type": "code",
   "execution_count": 27,
   "metadata": {
    "deletable": false,
    "nbgrader": {
     "cell_type": "code",
     "checksum": "4b28a8c13ff8cc87730e20b7a4ebfebe",
     "grade": false,
     "grade_id": "cell-b364738c4c61a736",
     "locked": false,
     "schema_version": 3,
     "solution": true,
     "task": false
    }
   },
   "outputs": [
    {
     "name": "stdout",
     "output_type": "stream",
     "text": [
      "\u001b[90m# A tibble: 30 x 8\u001b[39m\n",
      "   party first last  meal_wedding meal_brunch attendance_wedd… attendance_brun…\n",
      "   \u001b[3m\u001b[90m<dbl>\u001b[39m\u001b[23m \u001b[3m\u001b[90m<chr>\u001b[39m\u001b[23m \u001b[3m\u001b[90m<chr>\u001b[39m\u001b[23m \u001b[3m\u001b[90m<chr>\u001b[39m\u001b[23m        \u001b[3m\u001b[90m<chr>\u001b[39m\u001b[23m       \u001b[3m\u001b[90m<chr>\u001b[39m\u001b[23m            \u001b[3m\u001b[90m<chr>\u001b[39m\u001b[23m           \n",
      "\u001b[90m 1\u001b[39m     1 Somm… Medr… PENDING      PENDING     PENDING          PENDING         \n",
      "\u001b[90m 2\u001b[39m     1 Phil… Medr… vegetarian   Menu C      CONFIRMED        CONFIRMED       \n",
      "\u001b[90m 3\u001b[39m     1 Blan… Medr… chicken      Menu A      CONFIRMED        CONFIRMED       \n",
      "\u001b[90m 4\u001b[39m     1 Emaan Medr… PENDING      PENDING     PENDING          PENDING         \n",
      "\u001b[90m 5\u001b[39m     2 Blair Park  chicken      Menu C      CONFIRMED        CONFIRMED       \n",
      "\u001b[90m 6\u001b[39m     2 Nigel Webb  \u001b[31mNA\u001b[39m           \u001b[31mNA\u001b[39m          CANCELLED        CANCELLED       \n",
      "\u001b[90m 7\u001b[39m     3 Sine… Engl… PENDING      PENDING     PENDING          PENDING         \n",
      "\u001b[90m 8\u001b[39m     4 Ayra  Marks vegetarian   Menu B      PENDING          PENDING         \n",
      "\u001b[90m 9\u001b[39m     5 Atla… Conn… PENDING      PENDING     PENDING          PENDING         \n",
      "\u001b[90m10\u001b[39m     5 Denz… Conn… fish         Menu B      CONFIRMED        CONFIRMED       \n",
      "\u001b[90m# … with 20 more rows, and 1 more variable: attendance_golf \u001b[3m\u001b[90m<chr>\u001b[90m\u001b[23m\u001b[39m\n"
     ]
    }
   ],
   "source": [
    " answer5 <- wedding %>% \n",
    "   separate(name, into = c(\"first\",\"last\"), sep = \" \")\n",
    "\n",
    "# your code here\n",
    "print(answer5)"
   ]
  },
  {
   "cell_type": "code",
   "execution_count": 28,
   "metadata": {
    "deletable": false,
    "editable": false,
    "nbgrader": {
     "cell_type": "code",
     "checksum": "533449c41742574fc7c3e74aaa7422f7",
     "grade": true,
     "grade_id": "cell-1de02515f91c4afd",
     "locked": true,
     "points": 1,
     "schema_version": 3,
     "solution": false,
     "task": false
    }
   },
   "outputs": [
    {
     "name": "stdout",
     "output_type": "stream",
     "text": [
      "success!"
     ]
    }
   ],
   "source": [
    "expect_identical(\n",
    "    digest(unclass(select(answer5, first, last))), \n",
    "    \"8fa9b7d74019d7998c6e3b5e63a1d08c\"\n",
    ")\n",
    "cat(\"success!\")"
   ]
  },
  {
   "cell_type": "markdown",
   "metadata": {
    "deletable": false,
    "editable": false,
    "nbgrader": {
     "cell_type": "markdown",
     "checksum": "b9da0010e3c9e22a8ede30ad1e217cb2",
     "grade": false,
     "grade_id": "cell-c7b56cff833b6a70",
     "locked": true,
     "schema_version": 3,
     "solution": false,
     "task": false
    }
   },
   "source": [
    "### Question 6\n",
    "\n",
    "Using the answer to the previous question, do the opposite operation: combine the `last` and `first` columns into a new column named `name`, that has their name in the form \"last, first\". Store the resulting tibble in a variable named `answer6`.\n",
    "\n",
    "**Hint**:\n",
    "\n",
    "- Use the `tidyr::unite()` function.\n",
    "- Want a challenge? Try the same exercise, using `str_c()` -- an important step for understanding the difference between the `sep` and `collapse` arguments.\n",
    "\n",
    "Starter code:\n",
    "\n",
    "```\n",
    "# Using tidyr:\n",
    "answer6 <- answer5 %>% \n",
    "    unite(col = FILL_THIS_IN, FILL_THIS_IN, FILL_THIS_IN, sep = FILL_THIS_IN)\n",
    "# Challenge:\n",
    "answer6 <- answer5 %>% \n",
    "    mutate(name = str_c(FILL_THIS_IN)) %>% \n",
    "    select(-first, -last) %>%\n",
    "    select(party, name, everything())\n",
    "```"
   ]
  },
  {
   "cell_type": "code",
   "execution_count": 36,
   "metadata": {
    "deletable": false,
    "nbgrader": {
     "cell_type": "code",
     "checksum": "301158a4022e42348f37b94b2f84ddab",
     "grade": false,
     "grade_id": "cell-eedbe7a076ab42c4",
     "locked": false,
     "schema_version": 3,
     "solution": true,
     "task": false
    }
   },
   "outputs": [
    {
     "name": "stdout",
     "output_type": "stream",
     "text": [
      "\u001b[90m# A tibble: 30 x 7\u001b[39m\n",
      "   party name  meal_wedding meal_brunch attendance_wedd… attendance_brun…\n",
      "   \u001b[3m\u001b[90m<dbl>\u001b[39m\u001b[23m \u001b[3m\u001b[90m<chr>\u001b[39m\u001b[23m \u001b[3m\u001b[90m<chr>\u001b[39m\u001b[23m        \u001b[3m\u001b[90m<chr>\u001b[39m\u001b[23m       \u001b[3m\u001b[90m<chr>\u001b[39m\u001b[23m            \u001b[3m\u001b[90m<chr>\u001b[39m\u001b[23m           \n",
      "\u001b[90m 1\u001b[39m     1 Medr… PENDING      PENDING     PENDING          PENDING         \n",
      "\u001b[90m 2\u001b[39m     1 Medr… vegetarian   Menu C      CONFIRMED        CONFIRMED       \n",
      "\u001b[90m 3\u001b[39m     1 Medr… chicken      Menu A      CONFIRMED        CONFIRMED       \n",
      "\u001b[90m 4\u001b[39m     1 Medr… PENDING      PENDING     PENDING          PENDING         \n",
      "\u001b[90m 5\u001b[39m     2 Park… chicken      Menu C      CONFIRMED        CONFIRMED       \n",
      "\u001b[90m 6\u001b[39m     2 Webb… \u001b[31mNA\u001b[39m           \u001b[31mNA\u001b[39m          CANCELLED        CANCELLED       \n",
      "\u001b[90m 7\u001b[39m     3 Engl… PENDING      PENDING     PENDING          PENDING         \n",
      "\u001b[90m 8\u001b[39m     4 Mark… vegetarian   Menu B      PENDING          PENDING         \n",
      "\u001b[90m 9\u001b[39m     5 Conn… PENDING      PENDING     PENDING          PENDING         \n",
      "\u001b[90m10\u001b[39m     5 Conn… fish         Menu B      CONFIRMED        CONFIRMED       \n",
      "\u001b[90m# … with 20 more rows, and 1 more variable: attendance_golf \u001b[3m\u001b[90m<chr>\u001b[90m\u001b[23m\u001b[39m\n"
     ]
    }
   ],
   "source": [
    " answer6 <- answer5 %>% \n",
    "  unite(col = name, last, first, sep = \", \")\n",
    "\n",
    "# your code here\n",
    "print(answer6)"
   ]
  },
  {
   "cell_type": "code",
   "execution_count": 37,
   "metadata": {
    "deletable": false,
    "editable": false,
    "nbgrader": {
     "cell_type": "code",
     "checksum": "3b34268ce464c14b8445383897d5b926",
     "grade": true,
     "grade_id": "cell-1e3e417be0d6be03",
     "locked": true,
     "points": 1,
     "schema_version": 3,
     "solution": false,
     "task": false
    }
   },
   "outputs": [
    {
     "name": "stdout",
     "output_type": "stream",
     "text": [
      "success!"
     ]
    }
   ],
   "source": [
    "expect_identical(digest(answer6$name), \"86be22dab9696ef3e2e5c235ce7914a3\")\n",
    "cat(\"success!\")"
   ]
  },
  {
   "cell_type": "markdown",
   "metadata": {
    "deletable": false,
    "editable": false,
    "nbgrader": {
     "cell_type": "markdown",
     "checksum": "81be914397f4ffff61dc78a281305270",
     "grade": false,
     "grade_id": "cell-2252c504c7171940",
     "locked": true,
     "schema_version": 3,
     "solution": false,
     "task": false
    }
   },
   "source": [
    "### Question 7\n",
    "\n",
    "Still using the tibble with the first and last names separated into their own columns, make a tibble with one row per party, with columns named `people` and `wedding_status`:\n",
    "\n",
    "- `people`: contains the first names of everyone in the party, separated by commas (and a space: `\", \"`).\n",
    "- `wedding_status`: should be `\"CONFIRMED\"` if all their wedding status entries are `\"CONFIRMED\"`, and `\"PENDING\"` otherwise. \n",
    "\n",
    "Store the resulting tibble in a variable named `answer7`.\n",
    "\n",
    "Starter code:\n",
    "\n",
    "```\n",
    "answer7 <- answer5 %>% \n",
    "   group_by(party) %>% \n",
    "   summarise(\n",
    "       people = str_c(FILL_THIS_IN),\n",
    "       wedding_status = if_else(FILL_THIS_IN, \"CONFIRMED\", \"PENDING\")\n",
    "   )\n",
    "```"
   ]
  },
  {
   "cell_type": "code",
   "execution_count": 41,
   "metadata": {
    "deletable": false,
    "nbgrader": {
     "cell_type": "code",
     "checksum": "ca06772c9278c514b4d0bf1fd3737979",
     "grade": false,
     "grade_id": "cell-684b49cb1e966bbe",
     "locked": false,
     "schema_version": 3,
     "solution": true,
     "task": false
    }
   },
   "outputs": [
    {
     "name": "stderr",
     "output_type": "stream",
     "text": [
      "`summarise()` ungrouping output (override with `.groups` argument)\n",
      "\n"
     ]
    },
    {
     "name": "stdout",
     "output_type": "stream",
     "text": [
      "\u001b[90m# A tibble: 15 x 3\u001b[39m\n",
      "   party people                                  wedding_status\n",
      "   \u001b[3m\u001b[90m<dbl>\u001b[39m\u001b[23m \u001b[3m\u001b[90m<chr>\u001b[39m\u001b[23m                                   \u001b[3m\u001b[90m<chr>\u001b[39m\u001b[23m         \n",
      "\u001b[90m 1\u001b[39m     1 Sommer, Phillip, Blanka, Emaan          PENDING       \n",
      "\u001b[90m 2\u001b[39m     2 Blair, Nigel                            PENDING       \n",
      "\u001b[90m 3\u001b[39m     3 Sinead                                  PENDING       \n",
      "\u001b[90m 4\u001b[39m     4 Ayra                                    PENDING       \n",
      "\u001b[90m 5\u001b[39m     5 Atlanta, Denzel, Chanelle               PENDING       \n",
      "\u001b[90m 6\u001b[39m     6 Jolene, Hayley                          PENDING       \n",
      "\u001b[90m 7\u001b[39m     7 Amayah, Erika                           PENDING       \n",
      "\u001b[90m 8\u001b[39m     8 Ciaron                                  PENDING       \n",
      "\u001b[90m 9\u001b[39m     9 Diana                                   CONFIRMED     \n",
      "\u001b[90m10\u001b[39m    10 Cosmo                                   PENDING       \n",
      "\u001b[90m11\u001b[39m    11 Cai                                     CONFIRMED     \n",
      "\u001b[90m12\u001b[39m    12 Daisy-May, Martin, Violet, Nazifa, Eric PENDING       \n",
      "\u001b[90m13\u001b[39m    13 Rosanna, Kurtis                         PENDING       \n",
      "\u001b[90m14\u001b[39m    14 Huma, Samuel                            PENDING       \n",
      "\u001b[90m15\u001b[39m    15 Eddison, Stewart                        PENDING       \n"
     ]
    }
   ],
   "source": [
    "answer7 <- answer5 %>% \n",
    "   group_by(party) %>% \n",
    "   summarise(\n",
    "       people = str_c(first,collapse=\", \"),\n",
    "       wedding_status = if_else(all(attendance_wedding==\"CONFIRMED\"), \"CONFIRMED\", \"PENDING\")\n",
    "   )\n",
    "print(answer7)"
   ]
  },
  {
   "cell_type": "code",
   "execution_count": 42,
   "metadata": {
    "deletable": false,
    "editable": false,
    "nbgrader": {
     "cell_type": "code",
     "checksum": "9600a01db4047e0d5e2ba0e642f827b5",
     "grade": true,
     "grade_id": "cell-02b42dee1ed42a07",
     "locked": true,
     "points": 1,
     "schema_version": 3,
     "solution": false,
     "task": false
    }
   },
   "outputs": [
    {
     "name": "stdout",
     "output_type": "stream",
     "text": [
      "success!"
     ]
    }
   ],
   "source": [
    "expect_identical(\n",
    "    digest(unclass(select(answer7, people, wedding_status))), \n",
    "    \"cf18af7e44c899c48e53b83614739b86\"\n",
    ")\n",
    "cat(\"success!\")"
   ]
  },
  {
   "cell_type": "markdown",
   "metadata": {
    "deletable": false,
    "editable": false,
    "nbgrader": {
     "cell_type": "markdown",
     "checksum": "54fb274bf5e8c8e64106760bda2a000a",
     "grade": false,
     "grade_id": "cell-23fe9cddb2cfe2bb",
     "locked": true,
     "schema_version": 3,
     "solution": false,
     "task": false
    }
   },
   "source": [
    "### Question 8\n",
    "\n",
    "Select individuals in the `wedding` tibble whose first name starts between \"A\" and \"Em\" inclusive. Store the resulting tibble in a variable named `answer8`.\n",
    "\n",
    "Starter code:\n",
    "\n",
    "```\n",
    "answer8 <- wedding %>% \n",
    "    filter(FILL_THIS_IN(name, \"FILL_THIS_IN\")) %>% \n",
    "    arrange(name)\n",
    "```"
   ]
  },
  {
   "cell_type": "code",
   "execution_count": 44,
   "metadata": {
    "deletable": false,
    "nbgrader": {
     "cell_type": "code",
     "checksum": "a271eae2c82ed880f4c589dc0eb1e93b",
     "grade": false,
     "grade_id": "cell-1e2d94b35a9a495f",
     "locked": false,
     "schema_version": 3,
     "solution": true,
     "task": false
    }
   },
   "outputs": [
    {
     "ename": "ERROR",
     "evalue": "Error: Problem with `filter()` input `..1`.\n\u001b[31m✖\u001b[39m could not find function \"start_with\"\n\u001b[34mℹ\u001b[39m Input `..1` is `start_with(name, c(\"A\", \"Em\"))`.\n",
     "output_type": "error",
     "traceback": [
      "Error: Problem with `filter()` input `..1`.\n\u001b[31m✖\u001b[39m could not find function \"start_with\"\n\u001b[34mℹ\u001b[39m Input `..1` is `start_with(name, c(\"A\", \"Em\"))`.\nTraceback:\n",
      "1. wedding %>% filter(start_with(name, c(\"A\", \"Em\"))) %>% arrange(name)",
      "2. withVisible(eval(quote(`_fseq`(`_lhs`)), env, env))",
      "3. eval(quote(`_fseq`(`_lhs`)), env, env)",
      "4. eval(quote(`_fseq`(`_lhs`)), env, env)",
      "5. `_fseq`(`_lhs`)",
      "6. freduce(value, `_function_list`)",
      "7. function_list[[i]](value)",
      "8. filter(., start_with(name, c(\"A\", \"Em\")))",
      "9. filter.data.frame(., start_with(name, c(\"A\", \"Em\")))",
      "10. filter_rows(.data, ...)",
      "11. withCallingHandlers(mask$eval_all_filter(dots, env_filter), simpleError = function(e) {\n  .     stop_dplyr(env_filter$current_expression, dots, fn = \"filter\", \n  .         problem = conditionMessage(e))\n  . })",
      "12. mask$eval_all_filter(dots, env_filter)",
      "13. .handleSimpleError(function (e) \n  . {\n  .     stop_dplyr(env_filter$current_expression, dots, fn = \"filter\", \n  .         problem = conditionMessage(e))\n  . }, \"could not find function \\\"start_with\\\"\", base::quote(start_with(name, \n  .     c(\"A\", \"Em\"))))",
      "14. h(simpleError(msg, call))",
      "15. stop_dplyr(env_filter$current_expression, dots, fn = \"filter\", \n  .     problem = conditionMessage(e))",
      "16. .signal(bullets, class = \"dplyr_error\", error_name = error_name, \n  .     error_expression = error_expression, index = .index, dots = dots, \n  .     fn = fn, parent = parent)",
      "17. signal_abort(cnd)"
     ]
    }
   ],
   "source": [
    "answer8 <- wedding %>% \n",
    "    filter(start_with(name, c(\"A\",\"Em\"))) %>% \n",
    "    arrange(name)\n",
    "print(answer8)"
   ]
  },
  {
   "cell_type": "code",
   "execution_count": null,
   "metadata": {
    "deletable": false,
    "editable": false,
    "nbgrader": {
     "cell_type": "code",
     "checksum": "2c108b4f9a656c0c54f691eec4584b28",
     "grade": true,
     "grade_id": "cell-c9b809048a680c8e",
     "locked": true,
     "points": 1,
     "schema_version": 3,
     "solution": false,
     "task": false
    }
   },
   "outputs": [],
   "source": [
    "expect_identical(digest(sort(answer8$name)), \"6bbf440d3cca5b2e4b670b48f7bddc14\")\n",
    "cat(\"success!\")"
   ]
  },
  {
   "cell_type": "markdown",
   "metadata": {
    "deletable": false,
    "editable": false,
    "nbgrader": {
     "cell_type": "markdown",
     "checksum": "d3ab107942439f1a3c3ba31518e36204",
     "grade": false,
     "grade_id": "cell-188406f9e4766f85",
     "locked": true,
     "schema_version": 3,
     "solution": false,
     "task": false
    }
   },
   "source": [
    "# Part 3: Exploring Regular Expressions (regex)\n",
    "\n",
    "\n",
    "Let's work with the gapminder countries:"
   ]
  },
  {
   "cell_type": "code",
   "execution_count": 60,
   "metadata": {
    "deletable": false,
    "editable": false,
    "nbgrader": {
     "cell_type": "code",
     "checksum": "eef655bbad64184972d401f88359ceee",
     "grade": false,
     "grade_id": "cell-b3b967ca0f246559",
     "locked": true,
     "schema_version": 3,
     "solution": false,
     "task": false
    }
   },
   "outputs": [
    {
     "data": {
      "text/html": [
       "<style>\n",
       ".list-inline {list-style: none; margin:0; padding: 0}\n",
       ".list-inline>li {display: inline-block}\n",
       ".list-inline>li:not(:last-child)::after {content: \"\\00b7\"; padding: 0 .5ex}\n",
       "</style>\n",
       "<ol class=list-inline><li>'Afghanistan'</li><li>'Albania'</li><li>'Algeria'</li><li>'Angola'</li><li>'Argentina'</li><li>'Australia'</li></ol>\n"
      ],
      "text/latex": [
       "\\begin{enumerate*}\n",
       "\\item 'Afghanistan'\n",
       "\\item 'Albania'\n",
       "\\item 'Algeria'\n",
       "\\item 'Angola'\n",
       "\\item 'Argentina'\n",
       "\\item 'Australia'\n",
       "\\end{enumerate*}\n"
      ],
      "text/markdown": [
       "1. 'Afghanistan'\n",
       "2. 'Albania'\n",
       "3. 'Algeria'\n",
       "4. 'Angola'\n",
       "5. 'Argentina'\n",
       "6. 'Australia'\n",
       "\n",
       "\n"
      ],
      "text/plain": [
       "[1] \"Afghanistan\" \"Albania\"     \"Algeria\"     \"Angola\"      \"Argentina\"  \n",
       "[6] \"Australia\"  "
      ]
     },
     "metadata": {},
     "output_type": "display_data"
    }
   ],
   "source": [
    "countries <- levels(gapminder$country)\n",
    "head(countries)"
   ]
  },
  {
   "cell_type": "markdown",
   "metadata": {
    "deletable": false,
    "editable": false,
    "nbgrader": {
     "cell_type": "markdown",
     "checksum": "9dfee9878764c43b66a6c1ca4729df56",
     "grade": false,
     "grade_id": "cell-cedf173918d151e8",
     "locked": true,
     "schema_version": 3,
     "solution": false,
     "task": false
    }
   },
   "source": [
    "### Question 9: The \"any character\"\n",
    "\n",
    "Use `str_subset()` to find all countries in the gapminder data set with the following pattern: \"i\", followed by any single character, followed by \"a\". Store the result in a vector named `answer9`.\n",
    "\n",
    "Note that Italy is not on the list, because regex is case-sensitive.\n",
    "\n",
    "Explore further: use `str_view_all()` to get a visual of what's being matched, and where. This is especially useful for debugging!"
   ]
  },
  {
   "cell_type": "code",
   "execution_count": 61,
   "metadata": {
    "deletable": false,
    "nbgrader": {
     "cell_type": "code",
     "checksum": "0163a0f617ef827fd86c9e48fa09712b",
     "grade": false,
     "grade_id": "cell-22a801393523e273",
     "locked": false,
     "schema_version": 3,
     "solution": true,
     "task": false
    }
   },
   "outputs": [
    {
     "name": "stdout",
     "output_type": "stream",
     "text": [
      " [1] \"Argentina\"                \"Bosnia and Herzegovina\"  \n",
      " [3] \"Burkina Faso\"             \"Central African Republic\"\n",
      " [5] \"China\"                    \"Costa Rica\"              \n",
      " [7] \"Dominican Republic\"       \"Hong Kong, China\"        \n",
      " [9] \"Jamaica\"                  \"Mauritania\"              \n",
      "[11] \"Nicaragua\"                \"South Africa\"            \n",
      "[13] \"Swaziland\"                \"Taiwan\"                  \n",
      "[15] \"Thailand\"                 \"Trinidad and Tobago\"     \n"
     ]
    }
   ],
   "source": [
    " answer9 <- str_subset(countries, pattern = \"i.a\")\n",
    "# str_view_all(countries, pattern = \"FILL_THIS_IN\", match = TRUE)\n",
    "\n",
    "# your code here\n",
    "print(answer9)"
   ]
  },
  {
   "cell_type": "code",
   "execution_count": 62,
   "metadata": {
    "deletable": false,
    "editable": false,
    "nbgrader": {
     "cell_type": "code",
     "checksum": "532ddba829f525052cfc6b2f8c8140f3",
     "grade": true,
     "grade_id": "cell-c835b50877ea9090",
     "locked": true,
     "points": 1,
     "schema_version": 3,
     "solution": false,
     "task": false
    }
   },
   "outputs": [
    {
     "name": "stdout",
     "output_type": "stream",
     "text": [
      "success!"
     ]
    }
   ],
   "source": [
    "expect_identical(digest(answer9), \"fdf1c0b93db219fb32d927700cab3c4e\")\n",
    "cat(\"success!\")"
   ]
  },
  {
   "cell_type": "markdown",
   "metadata": {
    "deletable": false,
    "editable": false,
    "nbgrader": {
     "cell_type": "markdown",
     "checksum": "6cbec40bf6c1a5ce1b10ef0782f665ef",
     "grade": false,
     "grade_id": "cell-0e3d3b29201e9ad6",
     "locked": true,
     "schema_version": 3,
     "solution": false,
     "task": false
    }
   },
   "source": [
    "### Question 10\n",
    "\n",
    "Canada isn't the only country with three interspersed \"a\"'s. Find all countries with a similar pattern, storing the result in a vector named `answer10`."
   ]
  },
  {
   "cell_type": "code",
   "execution_count": 63,
   "metadata": {
    "deletable": false,
    "lines_to_next_cell": 2,
    "nbgrader": {
     "cell_type": "code",
     "checksum": "12cb6dd9f5ea82aa90df48da319d6ece",
     "grade": false,
     "grade_id": "cell-ff62684172be86e4",
     "locked": false,
     "schema_version": 3,
     "solution": true,
     "task": false
    }
   },
   "outputs": [
    {
     "name": "stdout",
     "output_type": "stream",
     "text": [
      "[1] \"Canada\"     \"Madagascar\" \"Panama\"    \n"
     ]
    }
   ],
   "source": [
    " answer10 <- str_subset(countries, pattern = \"a.a.a\")\n",
    "# str_view_all(countries, pattern = \"FILL_THIS_IN\", match = TRUE)\n",
    "\n",
    "print(answer10)"
   ]
  },
  {
   "cell_type": "code",
   "execution_count": 64,
   "metadata": {
    "deletable": false,
    "editable": false,
    "nbgrader": {
     "cell_type": "code",
     "checksum": "d2e77148a571ef9b79a7fe6ae55023e9",
     "grade": true,
     "grade_id": "cell-b5dc4690ed847190",
     "locked": true,
     "points": 1,
     "schema_version": 3,
     "solution": false,
     "task": false
    }
   },
   "outputs": [
    {
     "name": "stdout",
     "output_type": "stream",
     "text": [
      "success!"
     ]
    }
   ],
   "source": [
    "expect_identical(digest(answer10), \"4751851d94825e74a6569abdf9759209\")\n",
    "cat(\"success!\")"
   ]
  },
  {
   "cell_type": "markdown",
   "metadata": {
    "deletable": false,
    "editable": false,
    "nbgrader": {
     "cell_type": "markdown",
     "checksum": "ab9e291a9646f6b5900d547dd7b522c4",
     "grade": false,
     "grade_id": "cell-26ccd1349f2c43c6",
     "locked": true,
     "schema_version": 3,
     "solution": false,
     "task": false
    }
   },
   "source": [
    "### Question 11: The escape\n",
    "\n",
    "What if I wanted to literally search for countries with a period in the name? \"Escape the period\" to make a vector of all countries with at least one period in their name. Store the result in a vector named `answer11`.\n",
    "\n",
    "Explore further: use `str_view_all()` to get a visual of what's being matched, and where. This is especially useful for debugging!"
   ]
  },
  {
   "cell_type": "code",
   "execution_count": null,
   "metadata": {
    "deletable": false,
    "nbgrader": {
     "cell_type": "code",
     "checksum": "35b049d0dfe7e6e26f1fdeaa93b4a37e",
     "grade": false,
     "grade_id": "cell-6837e2f60c9ab577",
     "locked": false,
     "schema_version": 3,
     "solution": true,
     "task": false
    }
   },
   "outputs": [],
   "source": [
    "# answer11 <- str_subset(countries, pattern = \"FILL_THIS_IN\")\n",
    "# str_view_all(countries, pattern = \"FILL_THIS_IN\", match = TRUE)\n",
    "\n",
    "# your code here\n",
    "fail() # No Answer - remove if you provide an answer\n",
    "print(answer11)"
   ]
  },
  {
   "cell_type": "code",
   "execution_count": null,
   "metadata": {
    "deletable": false,
    "editable": false,
    "nbgrader": {
     "cell_type": "code",
     "checksum": "8ef3a1a4eefdca8b5dc16db7b0b32502",
     "grade": true,
     "grade_id": "cell-900364bf4a541ab3",
     "locked": true,
     "points": 1,
     "schema_version": 3,
     "solution": false,
     "task": false
    }
   },
   "outputs": [],
   "source": [
    "expect_identical(digest(answer11), \"4c500f226f5abbe540ef2506a4644375\")\n",
    "cat(\"success!\")"
   ]
  },
  {
   "cell_type": "markdown",
   "metadata": {
    "deletable": false,
    "editable": false,
    "nbgrader": {
     "cell_type": "markdown",
     "checksum": "1fa9e5f74d845024522449254b877075",
     "grade": false,
     "grade_id": "cell-25fa31dfede7bb7d",
     "locked": true,
     "schema_version": 3,
     "solution": false,
     "task": false
    }
   },
   "source": [
    "### Question 12: Groups\n",
    "\n",
    "Find all countries with three non-vowel letters next to each other (don't count spaces, commas, and periods). Store the resulting vector in a variable named `answer12`. "
   ]
  },
  {
   "cell_type": "code",
   "execution_count": null,
   "metadata": {
    "deletable": false,
    "lines_to_next_cell": 2,
    "nbgrader": {
     "cell_type": "code",
     "checksum": "52be584845c84b48ac09b704fa2dc744",
     "grade": false,
     "grade_id": "cell-1475c044057a2436",
     "locked": false,
     "schema_version": 3,
     "solution": true,
     "task": false
    }
   },
   "outputs": [],
   "source": [
    "# answer12 <- str_subset(countries, pattern = \"FILL_THIS_IN\")\n",
    "# str_view_all(countries, pattern = \"FILL_THIS_IN\", match = TRUE)\n",
    "\n",
    "# your code here\n",
    "fail() # No Answer - remove if you provide an answer\n",
    "print(answer12)"
   ]
  },
  {
   "cell_type": "code",
   "execution_count": null,
   "metadata": {
    "deletable": false,
    "editable": false,
    "nbgrader": {
     "cell_type": "code",
     "checksum": "c9403120810bbb24173b713f2219c680",
     "grade": true,
     "grade_id": "cell-8d59e7d3cdd07728",
     "locked": true,
     "points": 1,
     "schema_version": 3,
     "solution": false,
     "task": false
    }
   },
   "outputs": [],
   "source": [
    "expect_identical(digest(answer12), \"3bc834e20e4109423e850f263d1c0cee\")\n",
    "cat(\"success!\")"
   ]
  },
  {
   "cell_type": "markdown",
   "metadata": {
    "deletable": false,
    "editable": false,
    "nbgrader": {
     "cell_type": "markdown",
     "checksum": "aa9b34194b043d27d3648233631a7fd8",
     "grade": false,
     "grade_id": "cell-d80fd1a2aa56bff1",
     "locked": true,
     "schema_version": 3,
     "solution": false,
     "task": false
    }
   },
   "source": [
    "### Question 13: \"Or\" and Precedence\n",
    "\n",
    "Use `|` to denote \"or\". \"And\" is implied otherwise, and has precedence. Use parentheses to be deliberate with precedence.\n",
    "\n",
    "For example:"
   ]
  },
  {
   "cell_type": "code",
   "execution_count": null,
   "metadata": {
    "deletable": false,
    "editable": false,
    "lines_to_next_cell": 2,
    "nbgrader": {
     "cell_type": "code",
     "checksum": "448a14d61f3f8ad8db82aa01f41e4cba",
     "grade": false,
     "grade_id": "cell-894e6b100d9b24e0",
     "locked": true,
     "schema_version": 3,
     "solution": false,
     "task": false
    }
   },
   "outputs": [],
   "source": [
    "bbb <- c(\"bear\", \"beer\", \"bar\")\n",
    "cat(\"'bee' or 'ar':\")\n",
    "str_view_all(bbb, pattern =  \"bee|ar\")\n",
    "cat(\"'e' or 'a':\")\n",
    "str_view_all(bbb, pattern = \"be(e|a)r\") "
   ]
  },
  {
   "cell_type": "markdown",
   "metadata": {
    "deletable": false,
    "editable": false,
    "nbgrader": {
     "cell_type": "markdown",
     "checksum": "a7951c2e88742b71a256bc299e2153b3",
     "grade": false,
     "grade_id": "cell-825d29c47d308e2c",
     "locked": true,
     "schema_version": 3,
     "solution": false,
     "task": false
    }
   },
   "source": [
    "Now, find all countries that have either \"o\" twice in a row or \"e\" twice in a row (no changeover allowed). Store the resulting vector in a variable named `answer13`."
   ]
  },
  {
   "cell_type": "code",
   "execution_count": null,
   "metadata": {
    "deletable": false,
    "lines_to_next_cell": 2,
    "nbgrader": {
     "cell_type": "code",
     "checksum": "c75e9f260f39e4ab7f330fecbee8ded3",
     "grade": false,
     "grade_id": "cell-7e58b1b7884a641e",
     "locked": false,
     "schema_version": 3,
     "solution": true,
     "task": false
    }
   },
   "outputs": [],
   "source": [
    "# answer13 <- str_subset(countries, \"FILL_THIS_IN\")\n",
    "\n",
    "# your code here\n",
    "fail() # No Answer - remove if you provide an answer\n",
    "print(answer13)"
   ]
  },
  {
   "cell_type": "code",
   "execution_count": null,
   "metadata": {
    "deletable": false,
    "editable": false,
    "nbgrader": {
     "cell_type": "code",
     "checksum": "9f9a4b8d5847499efa83f15e96aa69c6",
     "grade": true,
     "grade_id": "cell-9e7786647b5e1c8c",
     "locked": true,
     "points": 1,
     "schema_version": 3,
     "solution": false,
     "task": false
    }
   },
   "outputs": [],
   "source": [
    "expect_identical(digest(answer13), \"558af24f1d19b86ffc6b74541aef9f9b\")\n",
    "cat(\"success!\")"
   ]
  },
  {
   "cell_type": "markdown",
   "metadata": {
    "deletable": false,
    "editable": false,
    "nbgrader": {
     "cell_type": "markdown",
     "checksum": "2e670fa082d68b59e97b6715d6bc632d",
     "grade": false,
     "grade_id": "cell-03d4f05e17b28896",
     "locked": true,
     "schema_version": 3,
     "solution": false,
     "task": false
    }
   },
   "source": [
    "### Question 14\n",
    "\n",
    "Task: what letters are used in the first sentence of the `stringr::sentences` dataset? Make a vector of all the unique letters in the sentence (in lowercase), and store it in a variable called `answer14`. Don't forget to remove non-letters, which are either a space or a period.\n",
    "\n",
    "Hint:\n",
    "\n",
    "```\n",
    "answer14 <- sentences[1] %>% \n",
    "  str_remove_all(\"FILL_THIS_IN\") %>% \n",
    "  FILL_THIS_IN() %>% \n",
    "  str_split(FILL_THIS_IN) %>% \n",
    "  .[[1]] %>% \n",
    "  unique()\n",
    "```"
   ]
  },
  {
   "cell_type": "code",
   "execution_count": null,
   "metadata": {
    "deletable": false,
    "lines_to_next_cell": 2,
    "nbgrader": {
     "cell_type": "code",
     "checksum": "dbbec46757dc78b206b8b78e5a5e125d",
     "grade": false,
     "grade_id": "cell-cfeb5f91ce0d581b",
     "locked": false,
     "schema_version": 3,
     "solution": true,
     "task": false
    }
   },
   "outputs": [],
   "source": [
    "# your code here\n",
    "fail() # No Answer - remove if you provide an answer\n",
    "print(answer14)"
   ]
  },
  {
   "cell_type": "code",
   "execution_count": null,
   "metadata": {
    "deletable": false,
    "editable": false,
    "nbgrader": {
     "cell_type": "code",
     "checksum": "15813ed7a2189dfc03ff6b3c18510292",
     "grade": true,
     "grade_id": "cell-b3c3272abf48f2ad",
     "locked": true,
     "points": 1,
     "schema_version": 3,
     "solution": false,
     "task": false
    }
   },
   "outputs": [],
   "source": [
    "expect_identical(digest(sort(answer14)), \"d586631001ba6d44947a09efecc4f960\")\n",
    "cat(\"success!\")"
   ]
  },
  {
   "cell_type": "markdown",
   "metadata": {
    "deletable": false,
    "editable": false,
    "nbgrader": {
     "cell_type": "markdown",
     "checksum": "e7850b4e8d57a8e199ab7658ece7ab16",
     "grade": false,
     "grade_id": "cell-df3ce76905844afa",
     "locked": true,
     "schema_version": 3,
     "solution": false,
     "task": false
    }
   },
   "source": [
    "### Question 15: Quantifiers/Repetition\n",
    "\n",
    "The handy ones are:\n",
    "\n",
    "- `*` for 0 or more\n",
    "- `+` for 1 or more\n",
    "- `?` for 0 or 1\n",
    "\n",
    "See list at https://r4ds.had.co.nz/strings.html#repetition\n",
    "\n",
    "Find all countries that have any number of \"o\"'s (but at least 1), following an \"r\". Store the resulting vector in a variable named `answer15`."
   ]
  },
  {
   "cell_type": "code",
   "execution_count": null,
   "metadata": {
    "deletable": false,
    "lines_to_next_cell": 2,
    "nbgrader": {
     "cell_type": "code",
     "checksum": "bdd834120fed1d52fd0e3903f62df757",
     "grade": false,
     "grade_id": "cell-36d6437e624d72f5",
     "locked": false,
     "schema_version": 3,
     "solution": true,
     "task": false
    }
   },
   "outputs": [],
   "source": [
    "# answer15 <- str_subset(countries, \"FILL_THIS_IN\")\n",
    "\n",
    "# your code here\n",
    "fail() # No Answer - remove if you provide an answer\n",
    "print(answer15)"
   ]
  },
  {
   "cell_type": "code",
   "execution_count": null,
   "metadata": {
    "deletable": false,
    "editable": false,
    "nbgrader": {
     "cell_type": "code",
     "checksum": "146abf9edb21a9f38bd797cbd29075bd",
     "grade": true,
     "grade_id": "cell-2755ef7fa0a525de",
     "locked": true,
     "points": 1,
     "schema_version": 3,
     "solution": false,
     "task": false
    }
   },
   "outputs": [],
   "source": [
    "expect_identical(digest(answer15), \"fa31d9cfe634b9a841cabdf9e31c0eeb\")\n",
    "cat(\"success!\")"
   ]
  },
  {
   "cell_type": "markdown",
   "metadata": {
    "deletable": false,
    "editable": false,
    "nbgrader": {
     "cell_type": "markdown",
     "checksum": "4d4c3c1439544369638d712b1d62243d",
     "grade": false,
     "grade_id": "cell-0afbed6bfd2bdbc9",
     "locked": true,
     "schema_version": 3,
     "solution": false,
     "task": false
    }
   },
   "source": [
    "### Question 16\n",
    "\n",
    "Find all countries that have either \"o\" or \"e\", twice in a row (with a changeover allowed, such as \"oe\" or \"eo\"). Store the resulting vector in a variable named `answer16`."
   ]
  },
  {
   "cell_type": "code",
   "execution_count": null,
   "metadata": {
    "deletable": false,
    "lines_to_next_cell": 2,
    "nbgrader": {
     "cell_type": "code",
     "checksum": "9d9a06bfd16391b67222f5d640b05ff4",
     "grade": false,
     "grade_id": "cell-65af3008d6fb9213",
     "locked": false,
     "schema_version": 3,
     "solution": true,
     "task": false
    }
   },
   "outputs": [],
   "source": [
    "# answer16 <- str_subset(countries, \"FILL_THIS_IN\")\n",
    "\n",
    "# your code here\n",
    "fail() # No Answer - remove if you provide an answer\n",
    "print(answer16)"
   ]
  },
  {
   "cell_type": "code",
   "execution_count": null,
   "metadata": {
    "deletable": false,
    "editable": false,
    "nbgrader": {
     "cell_type": "code",
     "checksum": "46b79e5f515bda95e7b480ddd7b12ce1",
     "grade": true,
     "grade_id": "cell-7e0ce46a9dedac69",
     "locked": true,
     "points": 1,
     "schema_version": 3,
     "solution": false,
     "task": false
    }
   },
   "outputs": [],
   "source": [
    "expect_identical(digest(answer16), \"f64216702a5b71dfb2b4ae0661d084cb\")\n",
    "cat(\"success!\")"
   ]
  },
  {
   "cell_type": "markdown",
   "metadata": {
    "deletable": false,
    "editable": false,
    "nbgrader": {
     "cell_type": "markdown",
     "checksum": "51cbfbb5eb291c45a61c5f8c00c764e6",
     "grade": false,
     "grade_id": "cell-344db5435da777df",
     "locked": true,
     "schema_version": 3,
     "solution": false,
     "task": false
    }
   },
   "source": [
    "### Question 17: Position indicators\n",
    "\n",
    "Use:\n",
    "\n",
    "- `^` to correspond to the __beginning__ of a string.\n",
    "- `$` to correspond to the __end__ of a string.\n",
    "\n",
    "Find all countries that end in \"land\". Store the result in a vector named `answer17`."
   ]
  },
  {
   "cell_type": "code",
   "execution_count": null,
   "metadata": {
    "deletable": false,
    "nbgrader": {
     "cell_type": "code",
     "checksum": "c1b4091ad6dc6a82c79478144809a4b6",
     "grade": false,
     "grade_id": "cell-35f0de5542c6d0d0",
     "locked": false,
     "schema_version": 3,
     "solution": true,
     "task": false
    }
   },
   "outputs": [],
   "source": [
    "# answer17 <- str_subset(countries, \"FILL_THIS_IN\")\n",
    "\n",
    "# your code here\n",
    "fail() # No Answer - remove if you provide an answer\n",
    "print(answer17)"
   ]
  },
  {
   "cell_type": "code",
   "execution_count": null,
   "metadata": {
    "deletable": false,
    "editable": false,
    "nbgrader": {
     "cell_type": "code",
     "checksum": "83e9a729aea17f7a6393842c8938791d",
     "grade": true,
     "grade_id": "cell-7dfee270fe57717c",
     "locked": true,
     "points": 1,
     "schema_version": 3,
     "solution": false,
     "task": false
    }
   },
   "outputs": [],
   "source": [
    "expect_identical(digest(answer17), \"692ee00b59194cea743c5ac3bf2302ae\")\n",
    "cat(\"success!\")"
   ]
  },
  {
   "cell_type": "markdown",
   "metadata": {
    "deletable": false,
    "editable": false,
    "nbgrader": {
     "cell_type": "markdown",
     "checksum": "13f4d9dd3c5e50ca5f49fa4b82d2b548",
     "grade": false,
     "grade_id": "cell-da95f6d7bd91757d",
     "locked": true,
     "schema_version": 3,
     "solution": false,
     "task": false
    }
   },
   "source": [
    "### Question 18\n",
    "\n",
    "Find all countries that start with \"Ca\". Store the result in a vector named `answer18`."
   ]
  },
  {
   "cell_type": "code",
   "execution_count": null,
   "metadata": {
    "deletable": false,
    "nbgrader": {
     "cell_type": "code",
     "checksum": "81a2736ca26104013e33e5f2ea82b4b2",
     "grade": false,
     "grade_id": "cell-715328be4a8115ac",
     "locked": false,
     "schema_version": 3,
     "solution": true,
     "task": false
    }
   },
   "outputs": [],
   "source": [
    "# answer18 <- str_subset(countries, pattern = \"FILL_THIS_IN\")\n",
    "\n",
    "# your code here\n",
    "fail() # No Answer - remove if you provide an answer\n",
    "print(answer18)"
   ]
  },
  {
   "cell_type": "code",
   "execution_count": null,
   "metadata": {
    "deletable": false,
    "editable": false,
    "nbgrader": {
     "cell_type": "code",
     "checksum": "04d73ccc1a85e40eb7631c9c3bfdcc5d",
     "grade": true,
     "grade_id": "cell-e437b5dfe4af255e",
     "locked": true,
     "points": 1,
     "schema_version": 3,
     "solution": false,
     "task": false
    }
   },
   "outputs": [],
   "source": [
    "expect_identical(digest(answer18), \"649cb10a94daec6fe36112c82e659b39\")\n",
    "cat(\"success!\")"
   ]
  },
  {
   "cell_type": "markdown",
   "metadata": {
    "deletable": false,
    "editable": false,
    "nbgrader": {
     "cell_type": "markdown",
     "checksum": "48e27ea9bb662740c23f826fe522a995",
     "grade": false,
     "grade_id": "cell-f46eabf657a76141",
     "locked": true,
     "schema_version": 3,
     "solution": false,
     "task": false
    }
   },
   "source": [
    "### Question 19\n",
    "\n",
    "Find all countries that only contain letters. Hint for making the regex: the word should start with a letter, continue as a letter, and end as a letter. Store the result in a vector named `answer19`."
   ]
  },
  {
   "cell_type": "code",
   "execution_count": null,
   "metadata": {
    "deletable": false,
    "nbgrader": {
     "cell_type": "code",
     "checksum": "53a7367473493ee04fac5036ddefb12c",
     "grade": false,
     "grade_id": "cell-ab8eda58f3d1e1d7",
     "locked": false,
     "schema_version": 3,
     "solution": true,
     "task": false
    }
   },
   "outputs": [],
   "source": [
    "# answer19 <- str_subset(countries, \"FILL_THIS_IN\")\n",
    "\n",
    "# your code here\n",
    "fail() # No Answer - remove if you provide an answer\n",
    "head(answer19)"
   ]
  },
  {
   "cell_type": "code",
   "execution_count": null,
   "metadata": {
    "deletable": false,
    "editable": false,
    "nbgrader": {
     "cell_type": "code",
     "checksum": "ecde99c90fb9c6a5f88c84e5a3b5d88b",
     "grade": true,
     "grade_id": "cell-18188f0c252ada00",
     "locked": true,
     "points": 1,
     "schema_version": 3,
     "solution": false,
     "task": false
    }
   },
   "outputs": [],
   "source": [
    "expect_identical(digest(answer19), \"43b7b3e81361aa5d00367c2ff01ab240\")\n",
    "cat(\"success!\")"
   ]
  },
  {
   "cell_type": "markdown",
   "metadata": {
    "deletable": false,
    "editable": false,
    "nbgrader": {
     "cell_type": "markdown",
     "checksum": "bf3283a487043c26d7fc4ef462c3ccc0",
     "grade": false,
     "grade_id": "cell-c77eca26543c2632",
     "locked": true,
     "schema_version": 3,
     "solution": false,
     "task": false
    }
   },
   "source": [
    "### Question 20: Groups\n",
    "\n",
    "You can use parentheses not only to specify precendence, but also to indicate groups that you can refer to later using integers to refer to the group number. \n",
    "\n",
    "Example using a's and b's: matching all instances of a character sandwiched between the same two characters:"
   ]
  },
  {
   "cell_type": "code",
   "execution_count": null,
   "metadata": {
    "deletable": false,
    "editable": false,
    "nbgrader": {
     "cell_type": "code",
     "checksum": "018432fcb5eb9f1daea35c46e80d4905",
     "grade": false,
     "grade_id": "cell-c7b58e02356d6bdb",
     "locked": true,
     "schema_version": 3,
     "solution": false,
     "task": false
    }
   },
   "outputs": [],
   "source": [
    "ab <- c(\"aaa\", \"aab\", \"aba\", \"baa\", \"abb\", \"bab\", \"bba\", \"bbb\")\n",
    "str_view_all(ab, pattern=\"(.)(.)\\\\1\")"
   ]
  },
  {
   "cell_type": "markdown",
   "metadata": {
    "deletable": false,
    "editable": false,
    "nbgrader": {
     "cell_type": "markdown",
     "checksum": "ae6859a1ecd33072ef70cb188383504b",
     "grade": false,
     "grade_id": "cell-c9ccf764fb47c488",
     "locked": true,
     "schema_version": 3,
     "solution": false,
     "task": false
    }
   },
   "source": [
    "Example: matching all instances of a character followed by two identical characters:"
   ]
  },
  {
   "cell_type": "code",
   "execution_count": null,
   "metadata": {
    "deletable": false,
    "editable": false,
    "nbgrader": {
     "cell_type": "code",
     "checksum": "f7f9996b5c968e252cafb316e34b999b",
     "grade": false,
     "grade_id": "cell-f86af2dbcd3966ea",
     "locked": true,
     "schema_version": 3,
     "solution": false,
     "task": false
    }
   },
   "outputs": [],
   "source": [
    "str_view_all(ab, pattern=\"(.)(.)\\\\2\")"
   ]
  },
  {
   "cell_type": "markdown",
   "metadata": {
    "deletable": false,
    "editable": false,
    "nbgrader": {
     "cell_type": "markdown",
     "checksum": "2a05893dd01dad657de7bfe66c7c64e4",
     "grade": false,
     "grade_id": "cell-b55551b61d558e4d",
     "locked": true,
     "schema_version": 3,
     "solution": false,
     "task": false
    }
   },
   "source": [
    "Your task: Find all countries that have the same letter repeated twice (like \"Greece\", which has \"ee\"). Store the result in a vector named `answer20`."
   ]
  },
  {
   "cell_type": "code",
   "execution_count": null,
   "metadata": {
    "deletable": false,
    "nbgrader": {
     "cell_type": "code",
     "checksum": "6d5d30f02f22c6a589390472457d04c4",
     "grade": false,
     "grade_id": "cell-7be4b6cfc12e36b5",
     "locked": false,
     "schema_version": 3,
     "solution": true,
     "task": false
    }
   },
   "outputs": [],
   "source": [
    "# answer20 <- str_subset(countries, \"FILL_THIS_IN\")\n",
    "\n",
    "# your code here\n",
    "fail() # No Answer - remove if you provide an answer\n",
    "print(answer20)"
   ]
  },
  {
   "cell_type": "code",
   "execution_count": null,
   "metadata": {
    "deletable": false,
    "editable": false,
    "nbgrader": {
     "cell_type": "code",
     "checksum": "18774d0fdc33cbc7297409f38bf0cabf",
     "grade": true,
     "grade_id": "cell-3250e4c8720f31b7",
     "locked": true,
     "points": 1,
     "schema_version": 3,
     "solution": false,
     "task": false
    }
   },
   "outputs": [],
   "source": [
    "expect_identical(digest(answer20), \"3531a88f6935e86d4ff1054504182875\")\n",
    "cat(\"success!\")"
   ]
  },
  {
   "cell_type": "markdown",
   "metadata": {
    "deletable": false,
    "editable": false,
    "nbgrader": {
     "cell_type": "markdown",
     "checksum": "23c9c916146bd58b2f20837286ec0a8e",
     "grade": false,
     "grade_id": "cell-fc5fdfd2a45ca5a0",
     "locked": true,
     "schema_version": 3,
     "solution": false,
     "task": false
    }
   },
   "source": [
    "### Question 21\n",
    "\n",
    "Find all countries that end in two vowels (not including \"y\"). Store the result in a vector named `answer21`."
   ]
  },
  {
   "cell_type": "code",
   "execution_count": null,
   "metadata": {
    "deletable": false,
    "nbgrader": {
     "cell_type": "code",
     "checksum": "e224c00df40b0beffbaf707bd1cf7b42",
     "grade": false,
     "grade_id": "cell-a70f4f7292285c77",
     "locked": false,
     "schema_version": 3,
     "solution": true,
     "task": false
    }
   },
   "outputs": [],
   "source": [
    "# answer21 <- str_subset(countries, \"FILL_THIS_IN\")\n",
    "\n",
    "# your code here\n",
    "fail() # No Answer - remove if you provide an answer\n",
    "print(answer21)"
   ]
  },
  {
   "cell_type": "code",
   "execution_count": null,
   "metadata": {
    "deletable": false,
    "editable": false,
    "nbgrader": {
     "cell_type": "code",
     "checksum": "82cc0c416622e40f4fc10861da043977",
     "grade": true,
     "grade_id": "cell-9d6f26cfc4615bd7",
     "locked": true,
     "points": 1,
     "schema_version": 3,
     "solution": false,
     "task": false
    }
   },
   "outputs": [],
   "source": [
    "expect_identical(digest(answer21), \"627ee4e6c6f8977349ed20734a52c1c0\")\n",
    "cat(\"success!\")"
   ]
  },
  {
   "cell_type": "markdown",
   "metadata": {
    "deletable": false,
    "editable": false,
    "nbgrader": {
     "cell_type": "markdown",
     "checksum": "09c6839e6c8c6361c590999c528c753a",
     "grade": false,
     "grade_id": "cell-106aa3db7d84ad47",
     "locked": true,
     "schema_version": 3,
     "solution": false,
     "task": false
    }
   },
   "source": [
    "### Question 22\n",
    "\n",
    "Find all countries that start with two non-vowels (don't count \"y\" as a vowel). Store the result in a vector named `answer22`."
   ]
  },
  {
   "cell_type": "code",
   "execution_count": null,
   "metadata": {
    "deletable": false,
    "nbgrader": {
     "cell_type": "code",
     "checksum": "4a39f6ab09a629c4f0e5500dd3803edc",
     "grade": false,
     "grade_id": "cell-75725c3de590a7d6",
     "locked": false,
     "schema_version": 3,
     "solution": true,
     "task": false
    }
   },
   "outputs": [],
   "source": [
    "# answer22 <- str_subset(countries, \"FILL_THIS_IN\")\n",
    "\n",
    "# your code here\n",
    "fail() # No Answer - remove if you provide an answer\n",
    "print(answer22)"
   ]
  },
  {
   "cell_type": "code",
   "execution_count": null,
   "metadata": {
    "deletable": false,
    "editable": false,
    "nbgrader": {
     "cell_type": "code",
     "checksum": "e14cdbaf03a93ad7346206662b487844",
     "grade": true,
     "grade_id": "cell-91b6d34ac7348626",
     "locked": true,
     "points": 1,
     "schema_version": 3,
     "solution": false,
     "task": false
    }
   },
   "outputs": [],
   "source": [
    "expect_identical(digest(answer22), \"2256308acab2196cc90529e7410881e0\")\n",
    "cat(\"success!\")"
   ]
  },
  {
   "cell_type": "markdown",
   "metadata": {
    "deletable": false,
    "editable": false,
    "nbgrader": {
     "cell_type": "markdown",
     "checksum": "4ac896b9f00f3a902338ef7c3d176f86",
     "grade": false,
     "grade_id": "cell-1e76794d76776fd1",
     "locked": true,
     "schema_version": 3,
     "solution": false,
     "task": false
    }
   },
   "source": [
    "## More Practice\n",
    "\n",
    "Want more interactive practice? Check out this [regex crossword](https://regexcrossword.com/challenges/beginner/puzzles/1).\n",
    "\n"
   ]
  }
 ],
 "metadata": {
  "jupytext": {
   "cell_metadata_filter": "warning,message,-all",
   "main_language": "R",
   "notebook_metadata_filter": "-all"
  },
  "kernelspec": {
   "display_name": "R",
   "language": "R",
   "name": "ir"
  },
  "language_info": {
   "codemirror_mode": "r",
   "file_extension": ".r",
   "mimetype": "text/x-r-source",
   "name": "R",
   "pygments_lexer": "r",
   "version": "4.0.2"
  }
 },
 "nbformat": 4,
 "nbformat_minor": 4
}
